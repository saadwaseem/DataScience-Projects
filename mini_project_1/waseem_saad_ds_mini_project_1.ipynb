{
  "nbformat": 4,
  "nbformat_minor": 0,
  "metadata": {
    "colab": {
      "provenance": [],
      "collapsed_sections": []
    },
    "kernelspec": {
      "name": "python3",
      "display_name": "Python 3"
    },
    "language_info": {
      "name": "python"
    },
    "widgets": {
      "application/vnd.jupyter.widget-state+json": {
        "bc5f099cda3c411cb26e4da5c657bcdc": {
          "model_module": "@jupyter-widgets/controls",
          "model_name": "VBoxModel",
          "model_module_version": "1.5.0",
          "state": {
            "_dom_classes": [
              "widget-interact"
            ],
            "_model_module": "@jupyter-widgets/controls",
            "_model_module_version": "1.5.0",
            "_model_name": "VBoxModel",
            "_view_count": null,
            "_view_module": "@jupyter-widgets/controls",
            "_view_module_version": "1.5.0",
            "_view_name": "VBoxView",
            "box_style": "",
            "children": [
              "IPY_MODEL_4e41ff92e2a144c7a4902d5dca6a94b0",
              "IPY_MODEL_7a13808682a14b6f80bf317aac8acc9b",
              "IPY_MODEL_22b6cafd209645f295e7ac4172f971e8",
              "IPY_MODEL_e4bd1da70ddd466db35baf954a0fa927",
              "IPY_MODEL_c7e0479abc8f44d58002681c0e6f737f",
              "IPY_MODEL_2399eea58b7644079c97125902810d14",
              "IPY_MODEL_38c51064881b44278a4a4554751c5f00"
            ],
            "layout": "IPY_MODEL_1cc2d12384dc46b5a75e2417e1cb6e77"
          }
        },
        "4e41ff92e2a144c7a4902d5dca6a94b0": {
          "model_module": "@jupyter-widgets/controls",
          "model_name": "IntRangeSliderModel",
          "model_module_version": "1.5.0",
          "state": {
            "_dom_classes": [],
            "_model_module": "@jupyter-widgets/controls",
            "_model_module_version": "1.5.0",
            "_model_name": "IntRangeSliderModel",
            "_view_count": null,
            "_view_module": "@jupyter-widgets/controls",
            "_view_module_version": "1.5.0",
            "_view_name": "IntRangeSliderView",
            "continuous_update": true,
            "description": "price_range",
            "description_tooltip": null,
            "disabled": false,
            "layout": "IPY_MODEL_049660223a9149158c8ae780e12c2896",
            "max": 620,
            "min": 0,
            "orientation": "horizontal",
            "readout": true,
            "readout_format": "d",
            "step": 1,
            "style": "IPY_MODEL_d40798948964474a988e08bf7063454e",
            "value": [
              0,
              620
            ]
          }
        },
        "7a13808682a14b6f80bf317aac8acc9b": {
          "model_module": "@jupyter-widgets/controls",
          "model_name": "IntRangeSliderModel",
          "model_module_version": "1.5.0",
          "state": {
            "_dom_classes": [],
            "_model_module": "@jupyter-widgets/controls",
            "_model_module_version": "1.5.0",
            "_model_name": "IntRangeSliderModel",
            "_view_count": null,
            "_view_module": "@jupyter-widgets/controls",
            "_view_module_version": "1.5.0",
            "_view_name": "IntRangeSliderView",
            "continuous_update": true,
            "description": "distance_cc",
            "description_tooltip": null,
            "disabled": false,
            "layout": "IPY_MODEL_293d25fd474945d9a77b27a392f1db8e",
            "max": 7,
            "min": 0,
            "orientation": "horizontal",
            "readout": true,
            "readout_format": "d",
            "step": 1,
            "style": "IPY_MODEL_f38f933a0a4341439a74a129494ea401",
            "value": [
              0,
              7
            ]
          }
        },
        "22b6cafd209645f295e7ac4172f971e8": {
          "model_module": "@jupyter-widgets/controls",
          "model_name": "IntRangeSliderModel",
          "model_module_version": "1.5.0",
          "state": {
            "_dom_classes": [],
            "_model_module": "@jupyter-widgets/controls",
            "_model_module_version": "1.5.0",
            "_model_name": "IntRangeSliderModel",
            "_view_count": null,
            "_view_module": "@jupyter-widgets/controls",
            "_view_module_version": "1.5.0",
            "_view_name": "IntRangeSliderView",
            "continuous_update": true,
            "description": "review_score",
            "description_tooltip": null,
            "disabled": false,
            "layout": "IPY_MODEL_05b08031e5c04398b96d71d3f81abe54",
            "max": 9,
            "min": 0,
            "orientation": "horizontal",
            "readout": true,
            "readout_format": "d",
            "step": 1,
            "style": "IPY_MODEL_665f66f7fd8f46fc96fcf3973abc8e19",
            "value": [
              0,
              9
            ]
          }
        },
        "e4bd1da70ddd466db35baf954a0fa927": {
          "model_module": "@jupyter-widgets/controls",
          "model_name": "DropdownModel",
          "model_module_version": "1.5.0",
          "state": {
            "_dom_classes": [],
            "_model_module": "@jupyter-widgets/controls",
            "_model_module_version": "1.5.0",
            "_model_name": "DropdownModel",
            "_options_labels": [
              "Select Rating",
              "One Star",
              "Two Star",
              "Three Star",
              "Four Star",
              "Five Star"
            ],
            "_view_count": null,
            "_view_module": "@jupyter-widgets/controls",
            "_view_module_version": "1.5.0",
            "_view_name": "DropdownView",
            "description": "Number:",
            "description_tooltip": null,
            "disabled": false,
            "index": 1,
            "layout": "IPY_MODEL_a5f2ad6f9ec9411f8e92d1174f07deb3",
            "style": "IPY_MODEL_c23c02361b7a43f6b7971ed7607b014a"
          }
        },
        "c7e0479abc8f44d58002681c0e6f737f": {
          "model_module": "@jupyter-widgets/controls",
          "model_name": "DropdownModel",
          "model_module_version": "1.5.0",
          "state": {
            "_dom_classes": [],
            "_model_module": "@jupyter-widgets/controls",
            "_model_module_version": "1.5.0",
            "_model_name": "DropdownModel",
            "_options_labels": [
              "By price",
              "By Distance",
              "By Review Score",
              "By Rating"
            ],
            "_view_count": null,
            "_view_module": "@jupyter-widgets/controls",
            "_view_module_version": "1.5.0",
            "_view_name": "DropdownView",
            "description": "sort_order",
            "description_tooltip": null,
            "disabled": false,
            "index": 0,
            "layout": "IPY_MODEL_6cbfb011f9ad47b2ab849b9b283c12a6",
            "style": "IPY_MODEL_a086fc021b9c4d81887f80f1b84b003f"
          }
        },
        "2399eea58b7644079c97125902810d14": {
          "model_module": "@jupyter-widgets/controls",
          "model_name": "TextModel",
          "model_module_version": "1.5.0",
          "state": {
            "_dom_classes": [],
            "_model_module": "@jupyter-widgets/controls",
            "_model_module_version": "1.5.0",
            "_model_name": "TextModel",
            "_view_count": null,
            "_view_module": "@jupyter-widgets/controls",
            "_view_module_version": "1.5.0",
            "_view_name": "TextView",
            "continuous_update": true,
            "description": "search_hotel",
            "description_tooltip": null,
            "disabled": false,
            "layout": "IPY_MODEL_8414357c8754490898273c0c0f45330f",
            "placeholder": "Enter hotel name",
            "style": "IPY_MODEL_8e37fe903f254dc0a2e4dc64e84ad44c",
            "value": "europa"
          }
        },
        "38c51064881b44278a4a4554751c5f00": {
          "model_module": "@jupyter-widgets/output",
          "model_name": "OutputModel",
          "model_module_version": "1.0.0",
          "state": {
            "_dom_classes": [],
            "_model_module": "@jupyter-widgets/output",
            "_model_module_version": "1.0.0",
            "_model_name": "OutputModel",
            "_view_count": null,
            "_view_module": "@jupyter-widgets/output",
            "_view_module_version": "1.0.0",
            "_view_name": "OutputView",
            "layout": "IPY_MODEL_862bea6e73584a5cb67be5aa6e83ddc5",
            "msg_id": "",
            "outputs": [
              {
                "output_type": "display_data",
                "data": {
                  "text/plain": "<IPython.core.display.HTML object>",
                  "text/html": "<table border=\"1\" class=\"dataframe\">\n  <thead>\n    <tr style=\"text-align: right;\">\n      <th></th>\n      <th>hotel-name</th>\n      <th>distance-frm-cc-miles</th>\n      <th>review-score</th>\n      <th>star-rating</th>\n      <th>price-usd</th>\n      <th>address</th>\n      <th>desc</th>\n      <th>images</th>\n      <th>data-source</th>\n    </tr>\n  </thead>\n  <tbody>\n    <tr>\n      <th>2</th>\n      <td>Hotel Europa Life</td>\n      <td>0.9</td>\n      <td>8.3</td>\n      <td>3.0</td>\n      <td>153</td>\n      <td>Baseler Str. 17, Gutleutviertel, 60329 Frankfurt/Main, Germany</td>\n      <td>\\nJust 350 feet from Frank</td>\n      <td><img src=\"https://cf.bstatic.com/xdata/images/hotel/max500/20647141.jpg?k=798696486ea45c8ee15459e9658319e322ac68b1a0138e0623ac67e30c9424f5&o=&hp=1\" width=\"60\" ><img src=\"https://cf.bstatic.com/xdata/images/hotel/max500/25036110.jpg?k=c3c2ad229c1a0f1958180f110ee956b68c9e5ff1aed62724f08ec7252bd176f4&o=&hp=1\" width=\"60\" ><img src=\"https://cf.bstatic.com/xdata/images/hotel/max500/25036177.jpg?k=4c7a8d46443ae2ca4a9ef6a833112a8f2bc7cb7d8fc11c651d4bc4193dc53263&o=&hp=1\" width=\"60\" ><img src=\"https://cf.bstatic.com/xdata/images/hotel/max300/20665039.jpg?k=d03584c7389a7f03bb3194e0e9bc709b8e43653bb47dcfadf2b6794db9faad3d&o=&hp=1\" width=\"60\" ><img src=\"https://cf.bstatic.com/xdata/images/hotel/max300/25036828.jpg?k=805e77598c0915041322a3281e1c883f7b8d9666e8c4ac4b3ef41d9dbc406275&o=&hp=1\" width=\"60\" ></td>\n      <td>booking.com</td>\n    </tr>\n    <tr>\n      <th>40</th>\n      <td>Europa Style</td>\n      <td>0.9</td>\n      <td>8.3</td>\n      <td>4.0</td>\n      <td>192</td>\n      <td>Baseler Str. 19, Gutleutviertel, 60329 Frankfurt/Main, Germany</td>\n      <td>\\nThis modern hotel in the</td>\n      <td><img src=\"https://cf.bstatic.com/xdata/images/hotel/max500/38228737.jpg?k=3820a27192678edd7c274f0ca5173b9b016167ea460a115b8b6e9eea42aef1b6&o=&hp=1\" width=\"60\" ><img src=\"https://cf.bstatic.com/xdata/images/hotel/max500/38228716.jpg?k=2be283bec12070e3d46ee3b32699630a22fcb6b1a6bfedd8db9cc39426aa2d51&o=&hp=1\" width=\"60\" ><img src=\"https://cf.bstatic.com/xdata/images/hotel/max500/38228713.jpg?k=96db4664589ec01f36e5a5d8b8627b2af0e07bcff25e8837939ff46b69015512&o=&hp=1\" width=\"60\" ><img src=\"https://cf.bstatic.com/xdata/images/hotel/max300/38228735.jpg?k=c597716f3416e0133ccac9b91811c9d30803c5b436ab8ed2e43ce10544df3d82&o=&hp=1\" width=\"60\" ><img src=\"https://cf.bstatic.com/xdata/images/hotel/max300/38228718.jpg?k=836cafad6de749e889abd7ee47cc6a55d2a0d79366006394a52ce8dab2c5de9b&o=&hp=1\" width=\"60\" ></td>\n      <td>booking.com</td>\n    </tr>\n  </tbody>\n</table>"
                },
                "metadata": {}
              }
            ]
          }
        },
        "1cc2d12384dc46b5a75e2417e1cb6e77": {
          "model_module": "@jupyter-widgets/base",
          "model_name": "LayoutModel",
          "model_module_version": "1.2.0",
          "state": {
            "_model_module": "@jupyter-widgets/base",
            "_model_module_version": "1.2.0",
            "_model_name": "LayoutModel",
            "_view_count": null,
            "_view_module": "@jupyter-widgets/base",
            "_view_module_version": "1.2.0",
            "_view_name": "LayoutView",
            "align_content": null,
            "align_items": null,
            "align_self": null,
            "border": null,
            "bottom": null,
            "display": null,
            "flex": null,
            "flex_flow": null,
            "grid_area": null,
            "grid_auto_columns": null,
            "grid_auto_flow": null,
            "grid_auto_rows": null,
            "grid_column": null,
            "grid_gap": null,
            "grid_row": null,
            "grid_template_areas": null,
            "grid_template_columns": null,
            "grid_template_rows": null,
            "height": null,
            "justify_content": null,
            "justify_items": null,
            "left": null,
            "margin": null,
            "max_height": null,
            "max_width": null,
            "min_height": null,
            "min_width": null,
            "object_fit": null,
            "object_position": null,
            "order": null,
            "overflow": null,
            "overflow_x": null,
            "overflow_y": null,
            "padding": null,
            "right": null,
            "top": null,
            "visibility": null,
            "width": null
          }
        },
        "049660223a9149158c8ae780e12c2896": {
          "model_module": "@jupyter-widgets/base",
          "model_name": "LayoutModel",
          "model_module_version": "1.2.0",
          "state": {
            "_model_module": "@jupyter-widgets/base",
            "_model_module_version": "1.2.0",
            "_model_name": "LayoutModel",
            "_view_count": null,
            "_view_module": "@jupyter-widgets/base",
            "_view_module_version": "1.2.0",
            "_view_name": "LayoutView",
            "align_content": null,
            "align_items": null,
            "align_self": null,
            "border": null,
            "bottom": null,
            "display": null,
            "flex": null,
            "flex_flow": null,
            "grid_area": null,
            "grid_auto_columns": null,
            "grid_auto_flow": null,
            "grid_auto_rows": null,
            "grid_column": null,
            "grid_gap": null,
            "grid_row": null,
            "grid_template_areas": null,
            "grid_template_columns": null,
            "grid_template_rows": null,
            "height": null,
            "justify_content": null,
            "justify_items": null,
            "left": null,
            "margin": null,
            "max_height": null,
            "max_width": null,
            "min_height": null,
            "min_width": null,
            "object_fit": null,
            "object_position": null,
            "order": null,
            "overflow": null,
            "overflow_x": null,
            "overflow_y": null,
            "padding": null,
            "right": null,
            "top": null,
            "visibility": null,
            "width": null
          }
        },
        "d40798948964474a988e08bf7063454e": {
          "model_module": "@jupyter-widgets/controls",
          "model_name": "SliderStyleModel",
          "model_module_version": "1.5.0",
          "state": {
            "_model_module": "@jupyter-widgets/controls",
            "_model_module_version": "1.5.0",
            "_model_name": "SliderStyleModel",
            "_view_count": null,
            "_view_module": "@jupyter-widgets/base",
            "_view_module_version": "1.2.0",
            "_view_name": "StyleView",
            "description_width": "",
            "handle_color": null
          }
        },
        "293d25fd474945d9a77b27a392f1db8e": {
          "model_module": "@jupyter-widgets/base",
          "model_name": "LayoutModel",
          "model_module_version": "1.2.0",
          "state": {
            "_model_module": "@jupyter-widgets/base",
            "_model_module_version": "1.2.0",
            "_model_name": "LayoutModel",
            "_view_count": null,
            "_view_module": "@jupyter-widgets/base",
            "_view_module_version": "1.2.0",
            "_view_name": "LayoutView",
            "align_content": null,
            "align_items": null,
            "align_self": null,
            "border": null,
            "bottom": null,
            "display": null,
            "flex": null,
            "flex_flow": null,
            "grid_area": null,
            "grid_auto_columns": null,
            "grid_auto_flow": null,
            "grid_auto_rows": null,
            "grid_column": null,
            "grid_gap": null,
            "grid_row": null,
            "grid_template_areas": null,
            "grid_template_columns": null,
            "grid_template_rows": null,
            "height": null,
            "justify_content": null,
            "justify_items": null,
            "left": null,
            "margin": null,
            "max_height": null,
            "max_width": null,
            "min_height": null,
            "min_width": null,
            "object_fit": null,
            "object_position": null,
            "order": null,
            "overflow": null,
            "overflow_x": null,
            "overflow_y": null,
            "padding": null,
            "right": null,
            "top": null,
            "visibility": null,
            "width": null
          }
        },
        "f38f933a0a4341439a74a129494ea401": {
          "model_module": "@jupyter-widgets/controls",
          "model_name": "SliderStyleModel",
          "model_module_version": "1.5.0",
          "state": {
            "_model_module": "@jupyter-widgets/controls",
            "_model_module_version": "1.5.0",
            "_model_name": "SliderStyleModel",
            "_view_count": null,
            "_view_module": "@jupyter-widgets/base",
            "_view_module_version": "1.2.0",
            "_view_name": "StyleView",
            "description_width": "",
            "handle_color": null
          }
        },
        "05b08031e5c04398b96d71d3f81abe54": {
          "model_module": "@jupyter-widgets/base",
          "model_name": "LayoutModel",
          "model_module_version": "1.2.0",
          "state": {
            "_model_module": "@jupyter-widgets/base",
            "_model_module_version": "1.2.0",
            "_model_name": "LayoutModel",
            "_view_count": null,
            "_view_module": "@jupyter-widgets/base",
            "_view_module_version": "1.2.0",
            "_view_name": "LayoutView",
            "align_content": null,
            "align_items": null,
            "align_self": null,
            "border": null,
            "bottom": null,
            "display": null,
            "flex": null,
            "flex_flow": null,
            "grid_area": null,
            "grid_auto_columns": null,
            "grid_auto_flow": null,
            "grid_auto_rows": null,
            "grid_column": null,
            "grid_gap": null,
            "grid_row": null,
            "grid_template_areas": null,
            "grid_template_columns": null,
            "grid_template_rows": null,
            "height": null,
            "justify_content": null,
            "justify_items": null,
            "left": null,
            "margin": null,
            "max_height": null,
            "max_width": null,
            "min_height": null,
            "min_width": null,
            "object_fit": null,
            "object_position": null,
            "order": null,
            "overflow": null,
            "overflow_x": null,
            "overflow_y": null,
            "padding": null,
            "right": null,
            "top": null,
            "visibility": null,
            "width": null
          }
        },
        "665f66f7fd8f46fc96fcf3973abc8e19": {
          "model_module": "@jupyter-widgets/controls",
          "model_name": "SliderStyleModel",
          "model_module_version": "1.5.0",
          "state": {
            "_model_module": "@jupyter-widgets/controls",
            "_model_module_version": "1.5.0",
            "_model_name": "SliderStyleModel",
            "_view_count": null,
            "_view_module": "@jupyter-widgets/base",
            "_view_module_version": "1.2.0",
            "_view_name": "StyleView",
            "description_width": "",
            "handle_color": null
          }
        },
        "a5f2ad6f9ec9411f8e92d1174f07deb3": {
          "model_module": "@jupyter-widgets/base",
          "model_name": "LayoutModel",
          "model_module_version": "1.2.0",
          "state": {
            "_model_module": "@jupyter-widgets/base",
            "_model_module_version": "1.2.0",
            "_model_name": "LayoutModel",
            "_view_count": null,
            "_view_module": "@jupyter-widgets/base",
            "_view_module_version": "1.2.0",
            "_view_name": "LayoutView",
            "align_content": null,
            "align_items": null,
            "align_self": null,
            "border": null,
            "bottom": null,
            "display": null,
            "flex": null,
            "flex_flow": null,
            "grid_area": null,
            "grid_auto_columns": null,
            "grid_auto_flow": null,
            "grid_auto_rows": null,
            "grid_column": null,
            "grid_gap": null,
            "grid_row": null,
            "grid_template_areas": null,
            "grid_template_columns": null,
            "grid_template_rows": null,
            "height": null,
            "justify_content": null,
            "justify_items": null,
            "left": null,
            "margin": null,
            "max_height": null,
            "max_width": null,
            "min_height": null,
            "min_width": null,
            "object_fit": null,
            "object_position": null,
            "order": null,
            "overflow": null,
            "overflow_x": null,
            "overflow_y": null,
            "padding": null,
            "right": null,
            "top": null,
            "visibility": null,
            "width": null
          }
        },
        "c23c02361b7a43f6b7971ed7607b014a": {
          "model_module": "@jupyter-widgets/controls",
          "model_name": "DescriptionStyleModel",
          "model_module_version": "1.5.0",
          "state": {
            "_model_module": "@jupyter-widgets/controls",
            "_model_module_version": "1.5.0",
            "_model_name": "DescriptionStyleModel",
            "_view_count": null,
            "_view_module": "@jupyter-widgets/base",
            "_view_module_version": "1.2.0",
            "_view_name": "StyleView",
            "description_width": ""
          }
        },
        "6cbfb011f9ad47b2ab849b9b283c12a6": {
          "model_module": "@jupyter-widgets/base",
          "model_name": "LayoutModel",
          "model_module_version": "1.2.0",
          "state": {
            "_model_module": "@jupyter-widgets/base",
            "_model_module_version": "1.2.0",
            "_model_name": "LayoutModel",
            "_view_count": null,
            "_view_module": "@jupyter-widgets/base",
            "_view_module_version": "1.2.0",
            "_view_name": "LayoutView",
            "align_content": null,
            "align_items": null,
            "align_self": null,
            "border": null,
            "bottom": null,
            "display": null,
            "flex": null,
            "flex_flow": null,
            "grid_area": null,
            "grid_auto_columns": null,
            "grid_auto_flow": null,
            "grid_auto_rows": null,
            "grid_column": null,
            "grid_gap": null,
            "grid_row": null,
            "grid_template_areas": null,
            "grid_template_columns": null,
            "grid_template_rows": null,
            "height": null,
            "justify_content": null,
            "justify_items": null,
            "left": null,
            "margin": null,
            "max_height": null,
            "max_width": null,
            "min_height": null,
            "min_width": null,
            "object_fit": null,
            "object_position": null,
            "order": null,
            "overflow": null,
            "overflow_x": null,
            "overflow_y": null,
            "padding": null,
            "right": null,
            "top": null,
            "visibility": null,
            "width": null
          }
        },
        "a086fc021b9c4d81887f80f1b84b003f": {
          "model_module": "@jupyter-widgets/controls",
          "model_name": "DescriptionStyleModel",
          "model_module_version": "1.5.0",
          "state": {
            "_model_module": "@jupyter-widgets/controls",
            "_model_module_version": "1.5.0",
            "_model_name": "DescriptionStyleModel",
            "_view_count": null,
            "_view_module": "@jupyter-widgets/base",
            "_view_module_version": "1.2.0",
            "_view_name": "StyleView",
            "description_width": ""
          }
        },
        "8414357c8754490898273c0c0f45330f": {
          "model_module": "@jupyter-widgets/base",
          "model_name": "LayoutModel",
          "model_module_version": "1.2.0",
          "state": {
            "_model_module": "@jupyter-widgets/base",
            "_model_module_version": "1.2.0",
            "_model_name": "LayoutModel",
            "_view_count": null,
            "_view_module": "@jupyter-widgets/base",
            "_view_module_version": "1.2.0",
            "_view_name": "LayoutView",
            "align_content": null,
            "align_items": null,
            "align_self": null,
            "border": null,
            "bottom": null,
            "display": null,
            "flex": null,
            "flex_flow": null,
            "grid_area": null,
            "grid_auto_columns": null,
            "grid_auto_flow": null,
            "grid_auto_rows": null,
            "grid_column": null,
            "grid_gap": null,
            "grid_row": null,
            "grid_template_areas": null,
            "grid_template_columns": null,
            "grid_template_rows": null,
            "height": null,
            "justify_content": null,
            "justify_items": null,
            "left": null,
            "margin": null,
            "max_height": null,
            "max_width": null,
            "min_height": null,
            "min_width": null,
            "object_fit": null,
            "object_position": null,
            "order": null,
            "overflow": null,
            "overflow_x": null,
            "overflow_y": null,
            "padding": null,
            "right": null,
            "top": null,
            "visibility": null,
            "width": null
          }
        },
        "8e37fe903f254dc0a2e4dc64e84ad44c": {
          "model_module": "@jupyter-widgets/controls",
          "model_name": "DescriptionStyleModel",
          "model_module_version": "1.5.0",
          "state": {
            "_model_module": "@jupyter-widgets/controls",
            "_model_module_version": "1.5.0",
            "_model_name": "DescriptionStyleModel",
            "_view_count": null,
            "_view_module": "@jupyter-widgets/base",
            "_view_module_version": "1.2.0",
            "_view_name": "StyleView",
            "description_width": ""
          }
        },
        "862bea6e73584a5cb67be5aa6e83ddc5": {
          "model_module": "@jupyter-widgets/base",
          "model_name": "LayoutModel",
          "model_module_version": "1.2.0",
          "state": {
            "_model_module": "@jupyter-widgets/base",
            "_model_module_version": "1.2.0",
            "_model_name": "LayoutModel",
            "_view_count": null,
            "_view_module": "@jupyter-widgets/base",
            "_view_module_version": "1.2.0",
            "_view_name": "LayoutView",
            "align_content": null,
            "align_items": null,
            "align_self": null,
            "border": null,
            "bottom": null,
            "display": null,
            "flex": null,
            "flex_flow": null,
            "grid_area": null,
            "grid_auto_columns": null,
            "grid_auto_flow": null,
            "grid_auto_rows": null,
            "grid_column": null,
            "grid_gap": null,
            "grid_row": null,
            "grid_template_areas": null,
            "grid_template_columns": null,
            "grid_template_rows": null,
            "height": null,
            "justify_content": null,
            "justify_items": null,
            "left": null,
            "margin": null,
            "max_height": null,
            "max_width": null,
            "min_height": null,
            "min_width": null,
            "object_fit": null,
            "object_position": null,
            "order": null,
            "overflow": null,
            "overflow_x": null,
            "overflow_y": null,
            "padding": null,
            "right": null,
            "top": null,
            "visibility": null,
            "width": null
          }
        }
      }
    }
  },
  "cells": [
    {
      "cell_type": "code",
      "source": [
        "#environment related settings that would be used\n",
        "#throughtout the project\n",
        "\n",
        "!pip install selenium\n",
        "# !apt-get update # to update ubuntu to correctly run apt install\n",
        "!apt install chromium-chromedriver\n",
        "!cp /usr/lib/chromium-browser/chromedriver /usr/bin\n",
        "import sys\n",
        "sys.path.insert(0,'/usr/lib/chromium-browser/chromedriver')\n",
        "\n",
        "from bs4 import BeautifulSoup\n",
        "from typing import Tuple\n",
        "from time import sleep\n",
        "import requests\n",
        "import pandas as pd\n",
        "import traceback\n",
        "\n",
        "headers = {'User-Agent':'Mozilla/5.0 (Macintosh; Intel Mac OS X 10_11_2) AppleWebKit/601.3.9 (KHTML, like Gecko) Version/9.0.2 Safari/601.3.9'}"
      ],
      "metadata": {
        "id": "3ClrkVvTf8Io"
      },
      "execution_count": null,
      "outputs": []
    },
    {
      "cell_type": "code",
      "source": [
        "from __future__ import division\n",
        "from selenium import webdriver\n",
        "from selenium.webdriver.common.by import By\n",
        "\n",
        "#This section contains few helper that are used in different sections below\n",
        "\n",
        "# utility function for re-scaling data\n",
        "def rescale_values(values, req_min = 1, req_max = 10):\n",
        "    rescaled = {}\n",
        "    prev_min, prev_max = min(values), max(values)\n",
        "\n",
        "    for v in values:\n",
        "        rescaled_value = (req_max - req_min) / (prev_max - prev_min) * (v - prev_min) + req_min\n",
        "        rescaled[str(v)] = rescaled_value\n",
        "\n",
        "    return rescaled\n",
        "\n",
        "def convert(x,a=1,b=5,c=1,d=10):\n",
        "    \"\"\"converts values in the range [a,b] to values in the range [c,d]\"\"\"\n",
        "    v = c + float(x-a)*float(d-c)/(b-a)\n",
        "    return round(v, 2)\n",
        "\n",
        "def scroll_fetch_data(url):\n",
        "  if url is None:\n",
        "    return;\n",
        "  # Headless/incognito Chrome driver  \n",
        "  chrome_options = webdriver.ChromeOptions()\n",
        "  chrome_options.add_argument('--headless')\n",
        "  chrome_options.add_argument('--no-sandbox')\n",
        "  chrome_options.add_argument('--disable-dev-shm-usage')\n",
        "  chrome = webdriver.Chrome('chromedriver',options=chrome_options)\n",
        "  \n",
        "  chrome.get(url)\n",
        "\n",
        "  # Set sleep time for the page to load on scroll\n",
        "  SCROLL_PAUSE_TIME = 2\n",
        "\n",
        "  # Get scroll height\n",
        "  last_height = chrome.execute_script(\"return document.body.scrollHeight\")\n",
        "\n",
        "  # If you want to limit the number of scroll loads, add a limit here\n",
        "  scroll_limit = 5\n",
        "\n",
        "  count = 0\n",
        "  while True and count < scroll_limit:\n",
        "      # Scroll down to bottom\n",
        "      chrome.execute_script(\"window.scrollTo(0, document.body.scrollHeight);\")\n",
        "\n",
        "      # Wait to load page\n",
        "      sleep(SCROLL_PAUSE_TIME)\n",
        "\n",
        "      # Calculate new scroll height and compare with last scroll height\n",
        "      new_height = chrome.execute_script(\"return document.body.scrollHeight\")\n",
        "      if new_height == last_height:\n",
        "          break\n",
        "      last_height = new_height\n",
        "      count += 1\n",
        "\n",
        "  sleep(2) \n",
        "\n",
        "  return chrome.page_source\n",
        "\n",
        "#this method is not used but tried with selenium scrolling and clicking element\n",
        "def click_fetch_data(url):\n",
        "  if url is None:\n",
        "    return;\n",
        "  \n",
        "  # Headless/incognito Chrome driver  \n",
        "  chrome_options = webdriver.ChromeOptions()\n",
        "  chrome_options.add_argument('--headless')\n",
        "  chrome_options.add_argument('--no-sandbox')\n",
        "  chrome_options.add_argument('--disable-dev-shm-usage')\n",
        "  chrome = webdriver.Chrome('chromedriver',options=chrome_options)\n",
        "  \n",
        "  chrome.get(url)\n",
        "\n",
        "  # Set sleep time for the page to load on scroll\n",
        "  SCROLL_PAUSE_TIME = 2\n",
        "\n",
        "  # Get scroll height\n",
        "  last_height = chrome.execute_script(\"return document.body.scrollHeight\")\n",
        "\n",
        "  # If you want to limit the number of scroll loads, add a limit here\n",
        "  scroll_limit = 5\n",
        "\n",
        "  count = 0\n",
        "  while True and count < scroll_limit:\n",
        "      # Scroll down to bottom\n",
        "      chrome.execute_script(\"window.scrollTo(0, document.body.scrollHeight);\")\n",
        "\n",
        "      # Wait to load page\n",
        "      sleep(SCROLL_PAUSE_TIME)\n",
        "\n",
        "      # Calculate new scroll height and compare with last scroll height\n",
        "      new_height = chrome.execute_script(\"return document.body.scrollHeight\")\n",
        "      if new_height == last_height:\n",
        "          break\n",
        "      last_height = new_height\n",
        "      count += 1\n",
        "\n",
        "  sleep(2) \n",
        "\n",
        "  chrome.find_element(By.CSS_SELECTOR, 'button.uitk-button-secondary').click()\n",
        "  sleep(3) \n",
        "\n",
        "  return chrome.page_source\n"
      ],
      "metadata": {
        "colab": {
          "base_uri": "https://localhost:8080/"
        },
        "id": "fZ9z0c9xmuZV",
        "outputId": "b54373f3-07dd-4325-d11f-6d0a08efde36"
      },
      "execution_count": 88,
      "outputs": [
        {
          "output_type": "stream",
          "name": "stdout",
          "text": [
            "{'1': 1.0, '2': 3.25, '3': 5.5, '4': 7.75, '5': 10.0}\n",
            "6.62\n"
          ]
        }
      ]
    },
    {
      "cell_type": "code",
      "source": [
        "# This is the main method that send HTTP GET to booking.com\n",
        "# And Fetch the listing page first. As the listing becomes available\n",
        "# I get the hotel detail page URL and send another HTTP GET to fetch\n",
        "# hotel details that are not available on the listing page e.g. images\n",
        "\n",
        "def parse_booking_hotels(url):\n",
        "  hotels_data = []\n",
        "  response = requests.get(url,headers=headers)\n",
        "  soup = BeautifulSoup(response.content,'lxml')\n",
        "\n",
        "  for item in soup.select('div.a826ba81c4'):\n",
        "    try:\n",
        "      # hoten name\n",
        "      hotel_name = item.select('.e13098a59f .a23c043802')\n",
        "      if len(hotel_name) > 0:\n",
        "        hotel_name = hotel_name[0].get_text().strip()\n",
        "      # distance from city center\n",
        "      hotel_distance_city_centre = item.select('.b978843432 .a1fbd102d9')\n",
        "      if len(hotel_distance_city_centre) > 0:\n",
        "        hotel_distance_city_centre = item.select('.b978843432 .a1fbd102d9')[0].contents[1].select('.cb5ebe3ffb')[0].get_text()\n",
        "        hotel_distance_city_centre = hotel_distance_city_centre.split()[0]\n",
        "      else:\n",
        "        hotel_distance_city_centre = -1\n",
        "      # Get review score\n",
        "      hotel_review_score = item.select('.b978843432 .d10a6220b4')\n",
        "      if len(hotel_review_score) > 0:\n",
        "        hotel_review_score = item.select('.b978843432 .d10a6220b4')[0].get_text().strip()\n",
        "      else:\n",
        "        hotel_review_score = -1\n",
        "      # Get star rating\n",
        "      hotel_star_rating = len(item.select('.b978843432 .fbb11b26f5 span'))\n",
        "      # Get Price\n",
        "      hotel_price_per_night = item.select('.b978843432 .bd73d13072')\n",
        "      if len(hotel_price_per_night) > 0:\n",
        "        hotel_price_per_night = hotel_price_per_night[0].get_text().strip().split('$')\n",
        "        hotel_price_per_night = hotel_price_per_night[1]\n",
        "      # Get hotel page link\n",
        "      hotel_page_link = item.select('.e13098a59f')[0].get('href')\n",
        "      # Request hotel detail page, Get hotel address, desc, images\n",
        "      hotel_page = requests.get(hotel_page_link,headers=headers)\n",
        "      hotel_page_document = BeautifulSoup(hotel_page.content,'lxml')\n",
        "      # Address\n",
        "      hotel_address = hotel_page_document.select('.hp_address_subtitle')[0].get_text().strip()\n",
        "      # description\n",
        "      hotel_description = hotel_page_document.select('#property_description_content')[0].get_text()\n",
        "      # images\n",
        "      image_list = []\n",
        "      hotel_image_wrappers = hotel_page_document.select('.bh-photo-grid-item')\n",
        "      for image_wrapper in hotel_image_wrappers:\n",
        "        # check it has an attribute then get the value only for 5 thumbnails\n",
        "        if len(image_list) < 5 and image_wrapper.has_attr('data-thumb-url'):\n",
        "          image_url = image_wrapper.get('data-thumb-url')\n",
        "          image_list.append(image_url)\n",
        "        elif len(image_list) < 5 and image_wrapper.has_attr('data-preview-image-layout'):\n",
        "          image_url = image_wrapper.select('img')[0].get('src')\n",
        "          image_list.append(image_url)\n",
        "    except Exception as e:\n",
        "      print('something went wrong while parsing hotel data from booking.com')\n",
        "    hotels_data.append([hotel_name,hotel_distance_city_centre,hotel_review_score,hotel_star_rating,hotel_price_per_night,hotel_address,hotel_description,image_list,'booking.com'])\n",
        "  return hotels_data\n",
        "\n",
        "# To keep it simple I am doing this in two steps. One batch size is 25\n",
        "first_twenty_five_hotels_url = 'https://www.booking.com/searchresults.en-gb.html?ss=Frankfurt%2FMain&ssne=Frankfurt%2FMain&ssne_untouched=Frankfurt%2FMain&label=gen173nr-1FCAEoggI46AdIM1gEaEiIAQGYAQm4ARnIAQzYAQHoAQH4AQuIAgGoAgO4ApWjt5kGwAIB0gIkYjVhZmFhOWEtMmUzNS00MjkxLWFmMmEtOWU3YWZkZjQzOWQy2AIG4AIB&sid=e69c178aaa206bd748cc67505f49cc65&aid=304142&lang=en-gb&sb=1&src_elem=sb&src=searchresults&dest_id=-1771148&dest_type=city&checkin=2022-10-05&checkout=2022-10-06&group_adults=1&no_rooms=1&group_children=0&sb_travel_purpose=leisure'\n",
        "next_twenty_five_hotels_url = 'https://www.booking.com/searchresults.en-gb.html?ss=Frankfurt%2FMain&ssne=Frankfurt%2FMain&ssne_untouched=Frankfurt%2FMain&label=gen173nr-1FCAEoggI46AdIM1gEaEiIAQGYAQm4ARnIAQzYAQHoAQH4AQuIAgGoAgO4ApWjt5kGwAIB0gIkYjVhZmFhOWEtMmUzNS00MjkxLWFmMmEtOWU3YWZkZjQzOWQy2AIG4AIB&sid=e69c178aaa206bd748cc67505f49cc65&aid=304142&lang=en-gb&sb=1&src_elem=sb&src=searchresults&dest_id=-1771148&dest_type=city&checkin=2022-10-05&checkout=2022-10-06&group_adults=1&no_rooms=1&group_children=0&sb_travel_purpose=leisure&offset=25'\n",
        "\n",
        "# Get 50 Hotels from booking.com\n",
        "booking_hotels_data = parse_booking_hotels(first_twenty_five_hotels_url) + parse_booking_hotels(next_twenty_five_hotels_url)"
      ],
      "metadata": {
        "colab": {
          "base_uri": "https://localhost:8080/"
        },
        "id": "BZWNaC651h6z",
        "outputId": "8bd66d79-2cf9-4145-f883-b70c717418bb"
      },
      "execution_count": 10,
      "outputs": [
        {
          "output_type": "stream",
          "name": "stdout",
          "text": [
            "[['Trip Inn Residence City Center', '0.8', '7.7', 4, '140', 'Oskar-von-Miller-Straße 14, Ostend, 60314 Frankfurt/Main, Germany', \"\\n\\nYou're eligible for a Genius discount at Trip Inn Residence City Center! To save at this property, all you have to do is sign in.\\nTrip Inn Residence City Center is situated directly on the River Main in Frankfurt, 650 feet from the Sachsenhausen Old Town district and 1,000 feet from the European Central Bank.\\nThe Trip Inn Residence City Center offers modern rooms, suites and apartments. WiFi is provided free of charge. \\n\", ['https://cf.bstatic.com/xdata/images/hotel/max500/188934707.jpg?k=9e6a1fe3cdf7cad40afe7b1a7bacedc65252cc6a7c28b3ece8956a28857c05c0&o=&hp=1', 'https://cf.bstatic.com/xdata/images/hotel/max500/187065163.jpg?k=f81a6edb7070a8241086663c9b6441ebe8db30ac2efb7bdd821c41db916e92a6&o=&hp=1', 'https://cf.bstatic.com/xdata/images/hotel/max500/209098279.jpg?k=d69dbb7d96acfe0daa996e3451059057cba2849ea90ad75a8a5090b1cea52899&o=&hp=1', 'https://cf.bstatic.com/xdata/images/hotel/max300/209098247.jpg?k=872605da2d9a1eb898cb933fb23fb1e8ab941c3746e07baf75d9449f0f578251&o=&hp=1', 'https://cf.bstatic.com/xdata/images/hotel/max300/188931460.jpg?k=2fb96ef2948b581ecbe4a438df5433a657829582034c0fbc6d6a921b01cbf6c4&o=&hp=1'], 'booking.com'], ['Hotel am Zoo', '0.8', '7.4', 3, '174', 'Alfred-Brehm-Platz 6, Ostend, 60316 Frankfurt/Main, Germany', \"\\n\\nYou're eligible for a Genius discount at Hotel am Zoo! To save at this property, all you have to do is sign in.\\nThis 3-star hotel in central Frankfurt lies next to Frankfurt's zoo and opposite Zoo underground station. It offers a daily breakfast buffet.\\nAll rooms at the Hotel am Zoo come with satellite TV. They feature views of either the zoo or Frankfurt’s skyline.\\nWi-Fi internet is available throughout the building for an additional charge.\\nThe Hotel am Zoo's restaurant and bar are open 5 days a week. \\n\", ['https://t-cf.bstatic.com/xdata/images/hotel/max500/127836113.jpg?k=3757332085dabd3065775961afd38f45e9afdb62fdcb0b496949f5ecafd726ac&o=&hp=1', 'https://t-cf.bstatic.com/xdata/images/hotel/max500/132326017.jpg?k=c02ff95f8f4c0aa9b036113ee359e60825346513eeded3cc8a5303dedd33535a&o=&hp=1', 'https://t-cf.bstatic.com/xdata/images/hotel/max500/127842574.jpg?k=29596e1e1ede3a0153bfcba5d3341ccf8c9208780b66105c47d51ace544a0481&o=&hp=1', 'https://t-cf.bstatic.com/xdata/images/hotel/max300/132325878.jpg?k=b5cb5f20617726967df35babfa25da89a5a9498b42f61c82be8d4ce6197ac008&o=&hp=1', 'https://t-cf.bstatic.com/xdata/images/hotel/max300/132325837.jpg?k=d98d52f4cb30aa1aa55cd7317713eb7f93995c44adad28c3fc1078f206ecdcaa&o=&hp=1'], 'booking.com'], ['Hotel Europa Life', '0.9', '8.3', 3, '153', 'Baseler Str. 17, Gutleutviertel, 60329 Frankfurt/Main, Germany', '\\nJust 350 feet from Frankfurt Central Station, this 3-star hotel offers free Wi-Fi, air-conditioned rooms with flat-screen TV, and a 24-hour reception. It is opposite Baseler Platz tram station.\\nBrightly decorated rooms with minibar, desk, and telephone are offered by Hotel Europa Life. Hairdryers can be borrowed at reception.\\nVaried buffet breakfasts are prepared in the Europa Hotel’s classical-style dining room. Guests can also relax in the bar and surf the web on the 2 free internet terminals.\\nFrankfurt Hauptbahnhof Underground Station is 800 feet away from the Europa Life. Trains run to the Frankfurt Messe Exhibition Centre in only 2 minutes. \\n', ['https://cf.bstatic.com/xdata/images/hotel/max500/20647141.jpg?k=798696486ea45c8ee15459e9658319e322ac68b1a0138e0623ac67e30c9424f5&o=&hp=1', 'https://cf.bstatic.com/xdata/images/hotel/max500/25036110.jpg?k=c3c2ad229c1a0f1958180f110ee956b68c9e5ff1aed62724f08ec7252bd176f4&o=&hp=1', 'https://cf.bstatic.com/xdata/images/hotel/max500/25036177.jpg?k=4c7a8d46443ae2ca4a9ef6a833112a8f2bc7cb7d8fc11c651d4bc4193dc53263&o=&hp=1', 'https://cf.bstatic.com/xdata/images/hotel/max300/20665039.jpg?k=d03584c7389a7f03bb3194e0e9bc709b8e43653bb47dcfadf2b6794db9faad3d&o=&hp=1', 'https://cf.bstatic.com/xdata/images/hotel/max300/25036828.jpg?k=805e77598c0915041322a3281e1c883f7b8d9666e8c4ac4b3ef41d9dbc406275&o=&hp=1'], 'booking.com'], ['a&o Frankfurt Galluswarte', '1.6', '6.7', 2, '49', 'Mainzer Landstr. 226-230, Gallusviertel, 60327 Frankfurt/Main, Germany', \"\\n\\nYou're eligible for a Genius discount at a&o Frankfurt Galluswarte! To save at this property, all you have to do is sign in.\\nThis Frankfurt hostel features a 24-hour front desk, a library and free WiFi access. It is located 0.6 miles from Frankfurt Main Train Station.\\nRooms at a&o Frankfurt Galluswarte offer contemporary-style interiors. All rooms offer a private bathroom with a shower, care products and a hair dryer.\\nA breakfast can be ordered at the hostel for a fee. Vegetarian options are available, as are foods for diabetics. Guests will also find barbecue facilities available on site. Guests can enjoy satellite TV broadcasting various sport channels in the lobby and bar.\\nFrankfurt city centre is located 1.2 miles from the hostel, while Frankfurt Trade Fair is only 0.9 miles away.  At the hostel, guests can relax in the games room or in the hostel library.\\na&o Frankfurt Galluswarte is set 9.3 miles from Frankfurt Airport. \\n\", ['https://cf.bstatic.com/xdata/images/hotel/max500/384520315.jpg?k=46306933179e6ef20ac67eef72158f3ad5cfa1451a0848bea2a84c32b8d3b344&o=&hp=1', 'https://cf.bstatic.com/xdata/images/hotel/max500/206424173.jpg?k=ba6beaa61a621b6d029e8d6b88a80e16154c9bcb07d643672f0583bd95939502&o=&hp=1', 'https://cf.bstatic.com/xdata/images/hotel/max500/204614126.jpg?k=f9455d118218f4bdec259a26ee61d05e478e589a6b801cd6b051f76a6328c002&o=&hp=1', 'https://cf.bstatic.com/xdata/images/hotel/max300/204614440.jpg?k=2adaad207153e8c481045a2269c42b51341a6e03bfc846d29e8ca4710a8bd7b6&o=&hp=1', 'https://cf.bstatic.com/xdata/images/hotel/max300/189322993.jpg?k=dd6a4a33434a5ec5ee30f36795b2394f05b4c85c8bfe289862cf5a6ef44ebbbd&o=&hp=1'], 'booking.com'], ['a&o Frankfurt Ostend', '1.8', '7.2', 2, '40', '207 Hanauer Landstraße, Ostend, 60314 Frankfurt/Main, Germany', \"\\n\\nYou're eligible for a Genius discount at a&o Frankfurt Ostend! To save at this property, all you have to do is sign in.\\nSet in Frankfurt/Main, 1.8 miles from Eiserner Steg, a&o Frankfurt Ostend offers accommodation with a bar and private parking. The property is located 1.8 miles from Kleinmarkthalle, 1.8 miles from Cathedral of St. Bartholomew and 2.1 miles from Goethe House. The accommodation provides a 24-hour front desk and free WiFi throughout the property.\\nThe units in the hotel are equipped with a flat-screen TV. All rooms come with a private bathroom with a shower, a hairdryer and free toiletries.\\nGuests at a&o Frankfurt Ostend can enjoy a buffet breakfast.\\nMuseumsufer is 2.2 miles from the accommodation, while Römerberg is 2.2 miles away. The nearest airport is Frankfurt Airport, 13 miles from a&o Frankfurt Ostend. \\n\", ['https://cf.bstatic.com/xdata/images/hotel/max500/251904899.jpg?k=9c41b5c65f2bf2215614f2735dbbcc29260cf97d846afb11ba90484d4c50ae44&o=&hp=1', 'https://cf.bstatic.com/xdata/images/hotel/max500/145682430.jpg?k=d177edc4e6c40d4cb76672c447c8eea98755a0aa82c299106e267a0fed961994&o=&hp=1', 'https://cf.bstatic.com/xdata/images/hotel/max500/171141889.jpg?k=d063a71379e0637cd208a9321c6bbd2122cb5c4d59ed10a19ca99823a1b22e52&o=&hp=1', 'https://cf.bstatic.com/xdata/images/hotel/max300/171139738.jpg?k=5e9894622b3ef408f1ad9aff1ba4025161d3d863c18bf6ddcbe463a0dff7fd7d&o=&hp=1', 'https://cf.bstatic.com/xdata/images/hotel/max300/171139699.jpg?k=3e19eb8acf82b5b711992957a99e5f28a7f1fe2c5884c14177dfbccb2c761e40&o=&hp=1'], 'booking.com'], ['Meliá Frankfurt City', '1.2', '8.4', 4, '272', '13 Senckenberganlage, Westend, 60325 Frankfurt/Main, Germany', '\\n\\nYou\\'re eligible for a Genius discount at Meliá Frankfurt City! To save at this property, all you have to do is sign in.\\nThe hotel is opened in June 2021 in Frankfurt/Main, less than 0.6 miles from Messe Frankfurt. Meliá Frankfurt City features a fitness centre, a bar and a spa and wellness centre. Among the facilities of this property are a restaurant, a 24-hour front desk and room service, along with free WiFi throughout the property.\\nGuests at the hotel can enjoy a buffet breakfast.\\nThe Meliá Frankfurt City is 0.7 miles from the Senckenberg Natural History Museum and 0.7 miles from Palmengarten. The nearest airport is Frankfurt Airport, 9.9 miles from the accommodation.\\nHotel offers a private space for \"THE LEVEL\" guests with access to the executive lounge and exclusive hotel service. \\n', ['https://t-cf.bstatic.com/xdata/images/hotel/max500/313522731.jpg?k=445cdeb319c35ff7ad5e1b19518e4e46b986380a721dec75b7fb9e00bc5f04c4&o=&hp=1', 'https://t-cf.bstatic.com/xdata/images/hotel/max500/313511668.jpg?k=17c371e25693a718ac8f3e0602b4464a7cf744162acd477fb85db3925bb88d42&o=&hp=1', 'https://t-cf.bstatic.com/xdata/images/hotel/max500/339603635.jpg?k=a5beb46ba9b14379af0de2c38bbeb79ff9e14771a71a52da027fb72e9e236c2b&o=&hp=1', 'https://t-cf.bstatic.com/xdata/images/hotel/max300/313522996.jpg?k=8f2f81400970acc4406b2e7eeddd552ee9035767a4a2340e58e7e8175956c924&o=&hp=1', 'https://t-cf.bstatic.com/xdata/images/hotel/max300/313522726.jpg?k=0304d751a60aaca84a3e968730a638112d6c4aef0f13a540d342434377f50947&o=&hp=1'], 'booking.com'], ['THE FLAG West M.', '0.6', '8.4', 4, '261', 'Bockenheimer Landstraße 38 - 40, Westend, 60323 Frankfurt/Main, Germany', \"\\n\\nYou're eligible for a Genius discount at THE FLAG West M.! To save at this property, all you have to do is sign in.\\nTHE FLAG West M. Has a restaurant, fitness centre, a bar and garden in Frankfurt/Main. Boasting a terrace, this property is set a short distance from Palmengarten, English Theatre and Senckenberg Natural History Museum. Free WiFi is available and private parking can be arranged at an extra charge.\\nAll guest rooms at the hotel come with a seating area, a flat-screen TV with cable channels, a safety deposit box and a private bathroom with a shower, a hairdryer and free toiletries. At THE FLAG West M. The rooms come with bed linen and towels.\\nA buffet breakfast is available every morning at the accommodation.\\nSpeaking German and English at the reception, staff will be happy to provide guests with practical information on the area.\\nPopular points of interest near THE FLAG West M. Include Goethe House, Kleinmarkthalle and Hauptwache. The nearest airport is Frankfurt Airport, 9.3 miles from the hotel. \\n\", ['https://cf.bstatic.com/xdata/images/hotel/max500/259203236.jpg?k=bec1bf55d93795b43c80b7bbd5d8739bdf585a5bff34f97fd4a500f6734e86e4&o=&hp=1', 'https://cf.bstatic.com/xdata/images/hotel/max500/275964235.jpg?k=28e5c156137e3a22555f9e363cffda7004911b2333433529ceedc841c3d4c02b&o=&hp=1', 'https://cf.bstatic.com/xdata/images/hotel/max500/275963875.jpg?k=08618b091e2211c989e0028d9bb7d793d4dd73dee2b333f9efed0e30c1df8b17&o=&hp=1', 'https://cf.bstatic.com/xdata/images/hotel/max300/275963442.jpg?k=4f596417e1a8bc17eb356a45b11777630ba6afb9927582061a4170f1c98789a2&o=&hp=1', 'https://cf.bstatic.com/xdata/images/hotel/max300/275963292.jpg?k=fe2b8d48ffe8e7ad13c2d4c0b9117ac6bbd6079e8000b3af837ab2e878fc031e&o=&hp=1'], 'booking.com'], ['Motel One Frankfurt Airport', '3.5', '8.5', 3, '164', 'Colmarer Straße 2, Niederrad, 60528 Frankfurt/Main, Germany', '\\nThis design hotel lies in the Niederrad district of Frankfurt, directly between the city centre and Frankfurt Airport. It offers modern rooms, private parking, free Wi-Fi and is near the A5 motorway.\\nAll rooms at the Motel One Frankfurt Airport hotel offer air-conditioning and include a work desk, a flat-screen TV and an en suite bathroom.\\nThe spacious One Lounge is a breakfast café, lobby and bar. Snacks and drinks are available here 24 hours a day. The lounge features designer furniture.\\nMotel One is a 20-minute walk from the Niederrad S-Bahn (city rail) station. This offers a connection to the Frankfurter Messe trade fair. Goldstein bus stop is just 650 feet away. \\n', ['https://t-cf.bstatic.com/xdata/images/hotel/max500/272718861.jpg?k=ce552e5c255c6611489a2d00e98c42ad7709d5d51cae334c7d3f9d4719c89c64&o=&hp=1', 'https://t-cf.bstatic.com/xdata/images/hotel/max500/273693358.jpg?k=0a0b843ba7207b0ca0609c59bed231e9b2788db2ddcca01c21925e04a7245cbc&o=&hp=1', 'https://t-cf.bstatic.com/xdata/images/hotel/max500/273693218.jpg?k=8e410c8733d701d9331c9fae4b7750e934739e73438f0cde5409c5905bc4030d&o=&hp=1', 'https://t-cf.bstatic.com/xdata/images/hotel/max300/273694560.jpg?k=17ac6aba926a929af125d13b93d422ee50270592ff3a60cfbe470163a5cf65b9&o=&hp=1', 'https://t-cf.bstatic.com/xdata/images/hotel/max300/273694580.jpg?k=3cd48f7dbee37f6fe559b84ae554784f84d77aabea146f41444fce43c7d14dcd&o=&hp=1'], 'booking.com'], ['MEININGER Hotel Frankfurt Main / Airport', '5.5', '7.8', 0, '77', 'Bessie-Coleman-Str. 11, 60549 Frankfurt/Main, Germany', '\\nThis superior hotel is just 2,650 feet from Frankfurt am Main Airport Terminal 2. It features a 24-hour reception with live flight information, soundproofed windows, and free Wi-Fi in all areas.\\nThe modern rooms at the Meininger Hotel Frankfurt Main/Airport offer a flat-screen TV and an iPod dock. A hairdryer is provided in the private bathroom.\\nGuests can prepare meals in the shared kitchen, and light snacks and drinks can be ordered at the bar.\\nFrankfurt am Main Flughafen Fernbahnhof Train Station is 0.9 miles from the hotel, and the centre of Frankfurt is a 15-minute drive away. \\n', ['https://t-cf.bstatic.com/xdata/images/hotel/max500/371071524.jpg?k=2eec62e10822f75c78d2a644844e2a958d7607a891f78b66803cb09fcf29ec3b&o=&hp=1', 'https://t-cf.bstatic.com/xdata/images/hotel/max500/210804583.jpg?k=e65d84984b30cf7bb545b63c37f9e719d76f45ae121d93c7d11f57c93aff2679&o=&hp=1', 'https://t-cf.bstatic.com/xdata/images/hotel/max500/161010015.jpg?k=3b34f7c4005e6b05b067e4e0ee6dfc228f977fb6129105eca611c7f6f24f4ebd&o=&hp=1', 'https://t-cf.bstatic.com/xdata/images/hotel/max300/37177308.jpg?k=46148ba4355a09c0f1ead63cd7bdb993aa73258a8f3ab7f7ef029ec953e53560&o=&hp=1', 'https://t-cf.bstatic.com/xdata/images/hotel/max300/19302094.jpg?k=1483b6f0e9ee9718268422da19c5df461ac13f1e4cdb3eb1f06ce99a98d49cc6&o=&hp=1'], 'booking.com'], ['Metropolitan Hotel by Flemings', '0.9', '8.3', 4, '368', 'Poststrasse 6, Gallusviertel, 60329 Frankfurt/Main, Germany', \"\\n\\nYou're eligible for a Genius discount at Metropolitan Hotel by Flemings! To save at this property, all you have to do is sign in.\\nThis 4-star hotel offers large rooms with iPod station, a stylish health club, and free WiFi. It stands beside Frankfurt Central Station, a 10-minute walk from the Frankfurt Messe Exhibition Centre.\\nThe soundproofed rooms of the Metropolitan Hotel by Flemings are non-smoking and are at least 21 m² in size. They include a flat-screen TV with satellite channels, a minibar, and a bathroom with granite décor.\\nThe Metropolitan Health Club features a sauna, steam room, and gym. A range of massages can also be booked here.\\nCreative, international cuisine is served in the Steigenberger’s Brasserie M restaurant. Guests can relax on the summer terrace or in the British-style Metropolitan Bar & Lounge.\\nThe Metropolitan’s 24-hour reception can book exclusive transfers to Frankfurt Airport. This is 9.3 miles away. \\n\", ['https://t-cf.bstatic.com/xdata/images/hotel/max500/333896086.jpg?k=d9f7f7f8ce41fb41cc17e961c2f5b697c0f25c4bd12f91537314964d4da520fe&o=&hp=1', 'https://t-cf.bstatic.com/xdata/images/hotel/max500/72764446.jpg?k=40b0d92fcfa00d7bf8e87c8860cd0f5497c244d172442c248a5ca64b63405f29&o=&hp=1', 'https://t-cf.bstatic.com/xdata/images/hotel/max500/21552393.jpg?k=5e7e2eff228e5186976228ca2677b473d889e93f7b15769439bd4e2df7a61dcd&o=&hp=1', 'https://t-cf.bstatic.com/xdata/images/hotel/max300/21522949.jpg?k=b79f7439c4fe276e090029394c19c9e4df1b0774974b82499704abd29cbe34c9&o=&hp=1', 'https://t-cf.bstatic.com/xdata/images/hotel/max300/72764087.jpg?k=c83c63fbe6ab7296c7f696760cb84688de2ed1e3c47d10bd0a6158a7db27b7fc&o=&hp=1'], 'booking.com'], ['Hilton Frankfurt Airport', '6.4', '8.2', 4, '282', 'The Squaire, Am Flughafen, 60549 Frankfurt/Main, Germany', '\\nThis 4-star hotel is located in the futuristic The Squaire building at Frankfurt Airport, next to Terminal 1. The Hilton Frankfurt Airport offers a 24-hour reception and a free spa.\\nOpened in December 2011, the Hilton Frankfurt Airport Hotel offers air-conditioned rooms and suites with modern interiors. All rooms include a flat-screen TV and tea/coffee facilities, and Wi-Fi is available in the whole hotel.\\nRegional and international food is served in the stylish Rise restaurant with its panoramic views. Guests can relax in the Fifth Lounge & Bar, which is located in the Hilton’s bright atrium.\\nThe fitness centre at Hilton Frankfurt Airport features a sauna and steam room.\\nThe Hilton Airport Hotel is seconds from the A3 motorway and directly above Frankfurt Airport Train Station. Frankfurt city centre is 15 minutes away by car or train. \\n', ['https://t-cf.bstatic.com/xdata/images/hotel/max500/191743690.jpg?k=78773a2be31f0600136ae83417020f418ab296b7eb9bf5cb5bf9ea384b70ebee&o=&hp=1', 'https://t-cf.bstatic.com/xdata/images/hotel/max500/14742965.jpg?k=00c85c08b2a66c794335749b6d0f4d6d58e9a515ed119e3eda4d326c329778c8&o=&hp=1', 'https://t-cf.bstatic.com/xdata/images/hotel/max500/25528978.jpg?k=acb7c2af2b14f04172923486bccf30da9db8b2efdf35e6cc9326f67473591050&o=&hp=1', 'https://t-cf.bstatic.com/xdata/images/hotel/max300/14741513.jpg?k=c98d868a2c87ea483042bb9a4fdd02502e85217cea447cc7b931fdbac187d028&o=&hp=1', 'https://t-cf.bstatic.com/xdata/images/hotel/max300/191857826.jpg?k=f32a42a861849c1eb18947292e6ea22c81a037e5256fe6604a7124aa168f99ef&o=&hp=1'], 'booking.com'], ['Hyatt Place Frankfurt Airport', '5.4', '8.4', 4, '257', 'De-Saint-Exupéry-Strasse 4, 60549 Frankfurt/Main, Germany', \"\\nLocated just within a 4-minute drive from Frankfurt's International Airport, Hyatt Place Frankfurt Airport offers free WiFi, 24/7 reception and gym. Frankfurt's city centre can be reached within 12 minutes by train.\\nThe spacious and modern rooms of Hyatt Place Frankfurt Airport feature signature Hyatt Grand Beds, 42-inch HDTV, refrigerator, a seating area and coffee and tea facilities. Other perks include such mulitfunctional docking station, in room safe and a bathroom with either bath or a shower.\\nOptional delicious breakfast is offered each morning which includes hot items, cheese, cold cuts, fresh juices, pastries and more. Guests are also welcome to dine in for lunch and dinner at the casual urban restaurant Zoom Glocal Dining. Perfectly packaged grab and go items such as fresh snacks, sandwiches and salads are also avaialble. 24/7 coffee and cocktail bar offers hot drinks, premium beers, wines and cocktails.\\nHyatt Place also offers a total of 300 square metres of flexible meeting space.Other facilities include an e-room with printers and computer work stations.\\nFrankfurt Airport is 1.2 miles away. Frankfurt Messe Fairgrounds and Frankfurt's city centre is 4.3 miles away from the property. The Gateway Gardens train station next to the hotel provides connections to Frankfurt Airport, Frankfurt Central Station and the Deutsche Bank Park as well as to the Taunusanlage and Hauptwache stations in the city centre. \\n\", ['https://cf.bstatic.com/xdata/images/hotel/max500/330738300.jpg?k=2e5427d604311e4a8c69617a75fdf1bb138f8ffec7659b400ef0d92b17729d56&o=&hp=1', 'https://cf.bstatic.com/xdata/images/hotel/max500/357962001.jpg?k=a529f0ad4cee17049842429f2f33760a96887f2af789370c57aa50ed8dfebe41&o=&hp=1', 'https://cf.bstatic.com/xdata/images/hotel/max500/381735213.jpg?k=7f053026cebb4a0216e8a2dc3cbc452134d7bbefe041ae2de0d4048ec64e81b9&o=&hp=1', 'https://cf.bstatic.com/xdata/images/hotel/max300/330738242.jpg?k=d49f0948df8737cc63cba34579f0bb8be95bf05db5e7811fa29c9409b4815d0d&o=&hp=1', 'https://cf.bstatic.com/xdata/images/hotel/max300/330738246.jpg?k=3a20016ad767c515d5bcbe32c281f3ab4a590b1bcd0ef1414eb866dc7fd19b4a&o=&hp=1'], 'booking.com'], ['Sheraton Frankfurt Airport Hotel & Conference Center', '6.4', '7.8', 4, '324', 'Hugo-Eckener-Ring 15, Airport / Terminal 1, 60549 Frankfurt/Main, Germany', '\\nThis non-smoking hotel is directly connected to Frankfurt Airport’s Terminal 1. It offers soundproofed rooms, stylish spa and fitness facilities, and 2 à la carte restaurants. Free WiFi is provided in the lobby.\\nThe modern rooms at the Sheraton Frankfurt Airport Hotel & Conference Center feature a flat-screen TV and maple-wood furniture.\\nThe Sheraton Fitness area includes modern saunas and steam rooms. Massages and beauty treatments are available. The lobby area offers computer terminals and a flat-screen TV.\\nGerman specialities are served in the Frankfurt Airport Sheraton’s Taverne restaurant. The Flavors restaurant prepares European and Asian dishes. The Sports bar shows live sports events and the Davidoff Lounge is the only smokers bar at Frankfurt Airport.\\nDrivers are 15 minutes from central Frankfurt. Trains run from Frankfurt Flughafen Train Station to Frankfurt Main Station in 20 minutes. \\n', ['https://t-cf.bstatic.com/xdata/images/hotel/max500/328126170.jpg?k=778560eeca3dcd614b82e00c8ac818358076a4eb8120c32cff23005d5c12a5ac&o=&hp=1', 'https://t-cf.bstatic.com/xdata/images/hotel/max500/53797893.jpg?k=aea9981b3005ad32a9f9e1b454d7c87e3134b89297d9d1e5e3a8088e798f0560&o=&hp=1', 'https://t-cf.bstatic.com/xdata/images/hotel/max500/250467280.jpg?k=a9fe3847b077a8a067e7e69cfd60fa3ff393844e5b44511f7bcac3dcbbc0064a&o=&hp=1', 'https://t-cf.bstatic.com/xdata/images/hotel/max300/250462922.jpg?k=ee2b716b0ba68cae6a0a2816124d7e1e7151131f7bd64c95e7f924b2601d740b&o=&hp=1', 'https://t-cf.bstatic.com/xdata/images/hotel/max300/167206964.jpg?k=cb8602cd0fec5b462428096891bf68b36fd3659b8447e26535ba40b12aeb0927&o=&hp=1'], 'booking.com'], ['Park Inn by Radisson Frankfurt Airport', '5.5', '8.0', 3, '254', 'Amelia-Mary-Earhart-Str.10, 60549 Frankfurt/Main, Germany', \"\\n\\nYou're eligible for a Genius discount at Park Inn by Radisson Frankfurt Airport! To save at this property, all you have to do is sign in.\\nJust 2,650 feet from Frankfurt Airport's Terminal 2, this hotel offers soundproofed rooms with LED smart TVs. It has a modern gym and a steak restaurant.\\nThe air-conditioned rooms at the Park Inn by Radisson Frankfurt Airport include floor-to-ceiling windows and modern bathrooms with hairdryers. Basic Wi-Fi is free in all rooms, and premium internet can also be booked.\\nSeasonal dishes and grilled specialities are served in the RBG Bar & Grill. German beer, fine wines and cocktails can be enjoyed in Park Inn’s bar and lounge.\\nFrankfurt city centre can be reached in 20 minutes from the nearby Flughafen Frankfurt S-Bahn Station.\\nPark Inn Frankfurt Airport stands directly beside a junction for the A3 and A5 motorways. Darmstadt and Mainz are 25 minutes away by car. \\n\", ['https://cf.bstatic.com/xdata/images/hotel/max500/232818907.jpg?k=1ab3b15066ff5aa6a978461c23992ef80623eaedcc83caebc11c166f2dd04ec6&o=&hp=1', 'https://cf.bstatic.com/xdata/images/hotel/max500/240848270.jpg?k=46cb79221d0803e160e61a317bd265617a4962fda00ee9aca906c83ff1799ce2&o=&hp=1', 'https://cf.bstatic.com/xdata/images/hotel/max500/240848322.jpg?k=5ed4efaa4f1400ce7a596e3574e5a408a2d89375813b0b209b55bf048b0fe220&o=&hp=1', 'https://cf.bstatic.com/xdata/images/hotel/max300/232818168.jpg?k=ccb08ba13f2c1494273c1da7ee17eb47820aad86a0615a497bb27b9389ad49d5&o=&hp=1', 'https://cf.bstatic.com/xdata/images/hotel/max300/232819343.jpg?k=c2b78f95d98276cff597309f13c080303dec3ad3831b967cd9d69c7ea437618d&o=&hp=1'], 'booking.com'], ['Dorint Main Taunus Frankfurt/Sulzbach', '7.1', '7.6', 4, '163', 'Am Main-Taunus-Zentrum 1, 65843 Frankfurt/Main, Germany', '\\nThis hotel in Sulzbach has large rooms, a large parking and a spa. It is a 10-minute walk from the Main Taunus Zentrum shopping centre and a 12-minute drive from Frankfurt.\\nThe air-conditioned rooms of the 4-star-superior Dorint Main Taunus Frankfurt/Sulzbach include a flat-screen TV, and hot drinks facilities, and a bathroom with hairdryer. Free WiFi is provided in all rooms.\\nThe Basilico restaurant offers Mediterranean food. Guests can eat beside the fireplace, in the conservatory or on the terrace. Drinks and snacks are served in the lively New York Bar.\\nThe Dorint Main Taunus Frankfurt/Sulzbach features a gym, sauna and steam room.\\nThe A66 motorway and Sulzbach city centre are each 0.9 miles away. \\n', ['https://t-cf.bstatic.com/xdata/images/hotel/max500/297791838.jpg?k=d4c8f608580ab5b38547f7da1dc8580aa9705f0169557f681f9b5b831c5dc816&o=&hp=1', 'https://t-cf.bstatic.com/xdata/images/hotel/max500/332322266.jpg?k=bc8298a66a74a538fb1e94db3f9ab639573e3536e375bd1d22ce11cc5e83076f&o=&hp=1', 'https://t-cf.bstatic.com/xdata/images/hotel/max500/295328326.jpg?k=5f12ed085f0220f85735d978a657254885386691a7513aae8c172ae4510ebfba&o=&hp=1', 'https://t-cf.bstatic.com/xdata/images/hotel/max300/14309263.jpg?k=d93b86c0cdd312406b55e3a2b649a26ca42e414af5087e5d3148a405e437904f&o=&hp=1', 'https://t-cf.bstatic.com/xdata/images/hotel/max300/295328374.jpg?k=172f489ae7ef5c4c2d22be311e7598eb3a48d748b69f06169e73f1f1dd6b20b8&o=&hp=1'], 'booking.com'], ['Leonardo Royal Hotel Frankfurt', '1.6', '7.5', 4, '306', 'Mailänder Str. 1, Sachsenhausen, 60598 Frankfurt/Main, Germany', \"\\n\\nYou're eligible for a Genius discount at Leonardo Royal Hotel Frankfurt! To save at this property, all you have to do is sign in.\\nBoasting a central location in the lively Sachsenhausen district of Frankfurt, this striking 4-star skyscraper hotel offers a high level of comfort together with magnificent views of the city’s skyline.\\nRecently renovated in 2016, the Leonardo Royal Hotel Frankfurt provides ideal accommodation for guests visiting Frankfurt on a city break, business trip or trade exhibition. There are 480 indoor parking spaces, available for a fee.\\nThe hotel lies just a 20-minute journey from Frankfurt’s international airport. The main shopping areas and cultural attractions are easy to reach by car or public transport from here, as is the Frankfurt Messe (trade fair centre).\\nGuests are invited to enjoy a hearty breakfast in the Vitruv restauarant, where tables can also be booked for lunch and evening meals. The bistro Leo Lounge offers snacks, desserts and cocktails, while the Leo Sportsbar serves seasonal, rustic dishes alongside a range of beers.\\nMake use of the various sports and spa facilities on site, or explore the countless bars and discotheques in the surrounding Sachsenhausen area. Wireless internet access is available for an additional charge throughout the building. \\n\", ['https://cf.bstatic.com/xdata/images/hotel/max500/43105145.jpg?k=734dab85f7954c295095ca6ae077ebfc5da1de9b6813bf1818d51cb714369437&o=&hp=1', 'https://cf.bstatic.com/xdata/images/hotel/max500/381908681.jpg?k=036644981ee7c68f6908c55271323dafb45d35e052cf5743d71ea41e09292ce6&o=&hp=1', 'https://cf.bstatic.com/xdata/images/hotel/max500/382371954.jpg?k=2e4cb8ab036af012699fb93dcc080d5cdffd908a3f2476543377482c3b615802&o=&hp=1', 'https://cf.bstatic.com/xdata/images/hotel/max300/382371932.jpg?k=294e8c5160816b16db2c5f38d71e6a0c40ad3c4257f538ddc1469075fd6a13ba&o=&hp=1', 'https://cf.bstatic.com/xdata/images/hotel/max300/381930578.jpg?k=74feaf83ea4de48e656313714f2776a7b6711d3b79c645282dce33af606bdb7a&o=&hp=1'], 'booking.com'], ['Hampton By Hilton Frankfurt Airport', '5.7', '8.3', 3, '255', 'Thea-Rasche-Straße 6, 60549 Frankfurt/Main, Germany', '\\nSituated in Frankfurt/Main, 6.2 miles from Städel Museum, Hampton By Hilton Frankfurt Airport features accommodation with a bar, private parking and a shared lounge. Among the facilities at this property are a 24-hour front desk and a business centre, along with free WiFi throughout the property. The hotel has family rooms.\\nThe hotel will provide guests with air-conditioned rooms with a desk, a kettle, a safety deposit box, a flat-screen TV and a private bathroom with a shower. All rooms have a wardrobe.\\nA buffet breakfast is available each morning at Hampton By Hilton Frankfurt Airport.\\nGerman Film Museum is 6.2 miles from the accommodation, while Museumsufer is 6.8 miles from the property. The nearest airport is Frankfurt Airport, 1.8 miles from Hampton By Hilton Frankfurt Airport. \\n', ['https://t-cf.bstatic.com/xdata/images/hotel/max500/174578647.jpg?k=7c47de6526438797380d3d9c5af9fc31c3ddc08983cb396724817e3fa8bbd2f8&o=&hp=1', 'https://t-cf.bstatic.com/xdata/images/hotel/max500/174581045.jpg?k=62063d0a2dbae6f300757df24964d37bee823819cb99ba7ddc71da2679080645&o=&hp=1', 'https://t-cf.bstatic.com/xdata/images/hotel/max500/174581071.jpg?k=e2edc78239e080560e26ab3376abab3446492e097d881cd1827711a33a49bb04&o=&hp=1', 'https://t-cf.bstatic.com/xdata/images/hotel/max300/174579266.jpg?k=6f835d514eca76082caa82e0d169a6cfb633849ebedaf2710b346b3391c6dbfc&o=&hp=1', 'https://t-cf.bstatic.com/xdata/images/hotel/max300/174579300.jpg?k=d76979fc6e8a5fccb8b0be7574a84c9e849c25562c4e7ead6c092720d288ffb0&o=&hp=1'], 'booking.com'], ['Plaza Hotel & Living Frankfurt', '1.5', '6.6', 3, '164', 'Launhardstr. 2-4, Ostend, 60314 Frankfurt/Main, Germany', \"\\n\\nYou're eligible for a Genius discount at Plaza Hotel & Living Frankfurt! To save at this property, all you have to do is sign in.\\nThis apartment hotel offers spacious rooms and on-site parking. It is located in Frankfurt's Osthafen district, an 8-minute walk from Ostbahnhof underground station.\\nThe rooms of the Plaza Hotel & Living Frankfurt include cable TV.\\nWir bieten ein Frühstück über unseren Kooperationspartner an  und servieren das Frühstück nicht selbs\\nGuests can use the launderette including a washing machine, dryer, ironing board and iron.\\nThe Plaza Hotel & Living Frankfurt lies 2 underground stops or a 10-minute tram ride from Frankfurt city centre. A tram stop is just around the corner, where tram 11 goes to the heart of the Old Town. \\n\", ['https://t-cf.bstatic.com/xdata/images/hotel/max500/297837438.jpg?k=e0772be573cab45098c87ae689c8bd0d15b341f43ed6520501e9a49b57fba6e2&o=&hp=1', 'https://t-cf.bstatic.com/xdata/images/hotel/max500/297842884.jpg?k=8caac642741e436fa48de42f031d748df31fc3b44d68497bec7cc736294a2b78&o=&hp=1', 'https://t-cf.bstatic.com/xdata/images/hotel/max500/297836236.jpg?k=5fabcbec0c3ada1398611e56dfddee7bc479daeb7bce01fe3c30370a942c10e0&o=&hp=1', 'https://t-cf.bstatic.com/xdata/images/hotel/max300/297842791.jpg?k=2f0fa5e536acf4eaf8db66e3a8c4809e9f0e5ed6efca9991faa521b92a5f0794&o=&hp=1', 'https://t-cf.bstatic.com/xdata/images/hotel/max300/297841844.jpg?k=428487e6bdf416145231f68dd17b6c9fff3b3aed32c18b2114bf0c3362a5200b&o=&hp=1'], 'booking.com'], ['Moxy Frankfurt City Center', '0.1', '8.2', 3, '270', 'Thurn-und-Taxis-Platz 8, Frankfurt City Centre (Old Town), 60313 Frankfurt/Main, Germany', '\\nThis stylish hotel lies in the heart of Frankfurt am Main, between the Zeil shopping street and the financial district. The Moxy Frankfurt City Center offers complimentary high-speed WiFi, a coffee house and a 24/7 bar.\\nNewly opening in October 2018, the Moxy Frankfurt City Center offers rooms with air conditioning and a 42-inch flat-screen TV with cable and satellite channels. The rooms feature sumptuous bedding, floor-to-ceiling windows and a private bathroom with bathroom amenities.\\nGuests can enjoy a quick breakfast to go, or else a rich continental breakfast in the hotel lobby. Cocktails, wines and local beers can be enjoyed at the bar, where around the clock guests can order international snacks to go. Many cafés and restaurants can also be found nearby.\\nThe Moxy Frankfurt City Center is within easy walking distances of shops, museums and going-out areas.\\nOn-site parking is available for an hourly or daily rate. \\n', ['https://cf.bstatic.com/xdata/images/hotel/max500/309615533.jpg?k=3b5e774b83de69a876a4507c3ef9799cdb94dd72e3f756a21f9500bc0d5ef519&o=&hp=1', 'https://cf.bstatic.com/xdata/images/hotel/max500/172779641.jpg?k=fe4e19f158ef54a91db05c7b9c07d030c12e13f2432b67bf5a80e3dcd1a76e17&o=&hp=1', 'https://cf.bstatic.com/xdata/images/hotel/max500/172779653.jpg?k=1b2dbe032a66db7d0cacc684d0cdb98d8e22e7db800ac91e8a8a6eb678b22f10&o=&hp=1', 'https://cf.bstatic.com/xdata/images/hotel/max300/209031027.jpg?k=deff4ba63c935e45a2e28e3c4d24bd4c0782631bf961b0cb27dbce8f4af3b028&o=&hp=1', 'https://cf.bstatic.com/xdata/images/hotel/max300/172782953.jpg?k=f0b75d7752f4409de1ef490d61e2a33793bb83c985503b8e0d34c6c76918f82b&o=&hp=1'], 'booking.com'], ['IntercityHotel Frankfurt Airport', '6.8', '7.7', 4, '197', 'Am Luftbrückendenkmal 1, 60549 Frankfurt/Main, Germany', '\\nThis modern IntercityHotel offers free WiFi. Frankfurt Airport’s main terminal is just 2.5 miles away, and a shuttle service can be booked at the hotel.\\nDining options at the IntercityHotel Frankfurt include the Fluggi restaurant and the aeroplane-themed JU 52 pub. International cuisine, fine wines and German beers are served here.\\nDecorated in warm colour schemes, all of the classically furnished rooms at the IntercityHotel Frankfurt Airport come equipped with cable TV and a modern bathroom.\\nLeisure facilities at the IntercityHotel include a Finnish sauna and a well-equipped gym.\\nThe hotel enjoys good A3 and A5 motorway connections from the Frankfurter Kreuz motorway junction.\\nA shuttle bus is available from or to Frankfurt Airport for an extra fee. \\n', ['https://t-cf.bstatic.com/xdata/images/hotel/max500/231368552.jpg?k=ad00d8062afba4c8a1162ce9e23160a80387f638145eedfd72f851f1d5172f78&o=&hp=1', 'https://t-cf.bstatic.com/xdata/images/hotel/max500/58016889.jpg?k=27da50603ad85c085c60dde202bf6d27e1e0c560739683af66bfcd7c4639eb05&o=&hp=1', 'https://t-cf.bstatic.com/xdata/images/hotel/max500/58024746.jpg?k=934992eb5dc020c3fadcc982bd23d03cc193c2cbe8392736938aac9552552ff9&o=&hp=1', 'https://t-cf.bstatic.com/xdata/images/hotel/max300/58023638.jpg?k=44ea84870e9f7820030532cb56d9530e06c48bf5769122a46f213a83d751bb9c&o=&hp=1', 'https://t-cf.bstatic.com/xdata/images/hotel/max300/258150631.jpg?k=6023fa1695fa4a8c199bfdfb871eb0ba33f49759e612feb41a2ea3f48196f894&o=&hp=1'], 'booking.com'], ['Five Elements Hostel Frankfurt', '0.7', '7.5', 3, '29', 'Moselstraße 40, Bahnhofsviertel, 60329 Frankfurt/Main, Germany', \"\\n\\nYou're eligible for a Genius discount at Five Elements Hostel Frankfurt! To save at this property, all you have to do is sign in.\\nJust 650 feet from Frankfurt Central Station, this modern hostel is centrally situated in the city’s red light district. The Five Elements Hostel offers free WiFi and provides a great base for exploring Frankfurt.\\nGuests at the Five Elements Hostel will enjoy comfortably furnished rooms and apartments, a 24-hour reception, and a lively bar which is open around the clock. Guests can enjoy an all-you-can-eat buffet each morning until 12:00.\\nThe friendly hostel staff will gladly help you with any questions you may have about your stay in Frankfurt.\\nFive Elements Hostel's central Frankfurt location puts many famous sights within walking distance. These include the Palmengarten (botanical gardens), museums along the River Main, the Sachsenhausen Äppelwoi (cider) district and the historic Frankfurter Paulskirche church. \\n\", ['https://cf.bstatic.com/xdata/images/hotel/max500/187978168.jpg?k=3ffc0ed692f91634512aed146d6ab4a7e7dbb29ecaf9ab4bdd44417d545fa1ed&o=&hp=1', 'https://cf.bstatic.com/xdata/images/hotel/max500/187979753.jpg?k=f193fcacb9d6c6e643747433c190e4a9e297bd14bb01d7cbb47d24cefacdf89c&o=&hp=1', 'https://cf.bstatic.com/xdata/images/hotel/max500/187982101.jpg?k=21a0d03545256ed07b6cb44617353f53515805e9a11650341159d646c463fbd2&o=&hp=1', 'https://cf.bstatic.com/xdata/images/hotel/max300/32641901.jpg?k=8f79ddbc18aac6947cf2ae5a834403beb5770ecea2dd56d386fdb2abbb14461c&o=&hp=1', 'https://cf.bstatic.com/xdata/images/hotel/max300/32639848.jpg?k=c9e4fa98fb6867c66e5772cad1416250c4d635ad2d9ebf91071169699efded4f&o=&hp=1'], 'booking.com'], ['Maritim Hotel Frankfurt', '1.3', '7.8', 4, '340', 'Theodor-Heuss-Allee 3, Westend, 60486 Frankfurt/Main, Germany', \"\\nThis stylish hotel is located directly beside the Frankfurt Trade Fair and near the Skyline Plaza, Frankfurt's famous new shopping mall, close to the city centre by public transport. The Maritim Hotel Frankfurt offers modern rooms, a spa with large swimming pool, and 2 international restaurants with kitchen.\\nThe spacious rooms at the Maritim Hotel Frankfurt feature elegant décor. All rooms include air conditioning, satellite TV. WiFi is provided free of charge for guests in the whole hotel.\\nA sumptuous breakfast buffet is available in the Ambiente restaurant . Delicious hot food and drinks can be enjoyed throughout the day from our chef. The hotel also offers snacks and drinks on the beautiful terrace with self-service.\\nThe Maritim Sports Club also includes a swimming pool with fitness area, gym and a pool.\\nThe Maritim Frankfurt is a 5-minute walk from the Messe S-Bahn Station and Festhalle/Messe Underground Station. It is a 15-minute walk or 2 direct tram stops from Frankfurt Main Station. On-site parking is also available. \\n\", ['https://t-cf.bstatic.com/xdata/images/hotel/max500/91916201.jpg?k=e21d07422f44c5f741c603b374da0ff749817d465a9142083daa846c2d159562&o=&hp=1', 'https://t-cf.bstatic.com/xdata/images/hotel/max500/322138625.jpg?k=8e9a69784dec8dd5dd7bcbcb30d2b4f1fb14b1107354bf4946942ccc9210cdfb&o=&hp=1', 'https://t-cf.bstatic.com/xdata/images/hotel/max500/53542887.jpg?k=dee696e9434dffdb5c9a9314b1304b04332e3aa14b2faf43cd15402bced69719&o=&hp=1', 'https://t-cf.bstatic.com/xdata/images/hotel/max300/373465176.jpg?k=ff6e47523ca3a9f4e11cf350433d963775a88dcc12c94d734804c1799599a17c&o=&hp=1', 'https://t-cf.bstatic.com/xdata/images/hotel/max300/322130726.jpg?k=52d05d4a16415a8be691a92b1b4d3cf55232d4134562c071fae9692e1f657440&o=&hp=1'], 'booking.com'], ['MOXY Frankfurt East', '1.6', '8.4', 3, '252', 'Hanauer Landstrasse 162, Ostend, 60314 Frankfurt/Main, Germany', '\\nSituated in the Ostend district of Frankfurt am Main, MOXY Frankfurt East offers non-smoking rooms, parking facilities, free WiFi, a fitness centre, and a courtyard. Boasting a 24-hour front desk, this property also provides guests with a restaurant and a bar.\\nAll units in the hotel feature air conditioning and soundproofing, and are equipped with a flat-screen TV with cable channels. The private bathrooms are fitted with a shower, free toiletries and a hair dryer.\\nGuests at MOXY Frankfurt East can enjoy a continental breakfast buffet. The on-site restaurant serves food all day.\\nThe accommodation comes with a terrace, a shared lounge, and a mini-market. Dry cleaning is available for an additional charge.\\nThe city hall Römer, Cathedral of St. Bartholomew, Hauptwache Square, Kleinmarkthalle, and Eiserner Steg bridge are all reachable within 1.9 miles from the hotel. The nearest airport is Frankfurt Airport, 13 miles from the property. \\n', ['https://cf.bstatic.com/xdata/images/hotel/max500/124897790.jpg?k=99d9d553bd936316f8c3b4e2b5c3bad184f11ed13e2e928955359c67171470a3&o=&hp=1', 'https://cf.bstatic.com/xdata/images/hotel/max500/124899154.jpg?k=41bfed6ee5240bc74f3cfa20d5cc5ee225f0f7a8a828a0ad401c621527f3829f&o=&hp=1', 'https://cf.bstatic.com/xdata/images/hotel/max500/124894017.jpg?k=997a5913d8a984c45c4e799e144cec68a379730cf39adfa8295f466771f14c2c&o=&hp=1', 'https://cf.bstatic.com/xdata/images/hotel/max300/96199754.jpg?k=6cb680a2245caf348fcdaedf508652f537e000e13ae1bfafee201ed1279521e6&o=&hp=1', 'https://cf.bstatic.com/xdata/images/hotel/max300/127197042.jpg?k=e2de5675400657e5ec48db73f92b974fdb7431274878948416637d3ce48eb90e&o=&hp=1'], 'booking.com'], ['Hampton By Hilton Frankfurt City Centre East', '1.3', '8.4', 3, '290', 'Grusonstrasse 4   , Ostend, 60314 Frankfurt/Main, Germany', '\\nHampton By Hilton Frankfurt City Centre East in Frankfurt/Main provides adults-only accommodation with a fitness centre and a bar. Among the facilities at this property are a 24-hour front desk and a business centre, along with free WiFi throughout the property. Guests can have a drink at the snack bar.\\nRooms include air conditioning and a TV, and some rooms at the hotel have a safety deposit box. At Hampton By Hilton Frankfurt City Centre East every room includes a private bathroom.\\nGuests at the accommodation can enjoy a buffet breakfast.\\nKleinmarkthalle is 1.1 miles from Hampton By Hilton Frankfurt City Centre East, while Cathedral of St. Bartholomew is 1.2 miles from the property. The nearest airport is Frankfurt Airport, 9.9 miles from the hotel. \\n', ['https://t-cf.bstatic.com/xdata/images/hotel/max500/151594031.jpg?k=e5fc1f3e4a934dfb31b3caa89cabd214b4ad8482f4c0f975503aa19ce05d95fd&o=&hp=1', 'https://t-cf.bstatic.com/xdata/images/hotel/max500/144404702.jpg?k=43bb36815d366b5a8f03ce58ed237a20b1d0f425cf1a6062c3e8ddaa0573ee3d&o=&hp=1', 'https://t-cf.bstatic.com/xdata/images/hotel/max500/144404747.jpg?k=7e5ffd3fcf3950ff3224decc0ec2c334e54365a248f809d267852c34bbf6fa28&o=&hp=1', 'https://t-cf.bstatic.com/xdata/images/hotel/max300/144404677.jpg?k=b9aa2dc12d7091d2cd234683672440e371bb470e8a64c41a979d1645648402d8&o=&hp=1', 'https://t-cf.bstatic.com/xdata/images/hotel/max300/144404637.jpg?k=312b9ed41de0880407b88e6a8fcdbf75c940eb08c9cd5b0cb263fc2ff0650e22&o=&hp=1'], 'booking.com'], ['Hotel Victoria', '0.6', '8.0', 4, '262', 'Elbestr. 24-26/ Kaiserstr. 59, Bahnhofsviertel, 60329 Frankfurt/Main, Germany', '\\nJust a 3-minute walk from Frankfurt Central Station and located in an historical building, this elegant hotel offers a 24-hour bar and free WiFi. Frankfurt Opera House is a 5-minute walk away.\\nThe 4-star Hotel Victoria offers air-conditioned and soundproofed rooms and suites with wooden floors and colourful pop art paintings. All rooms include a satellite TV, minibar and safety deposit box.\\nA large hot and cold breakfast buffet is provided each morning in Victoria’s stylish breakfast room. Guests can choose from a selection of daily newspapers.\\nThe Zeil shopping street is a 13-minute walk away or 2 stops away by S-Bahn train. The Victoria Hotel is also a 2-minute walk from the Weser/Münchener Straße Tram Stop, which provides a quick connection to the Römer. \\n', ['https://cf.bstatic.com/xdata/images/hotel/max500/7517397.jpg?k=323132d9a84f319e724023d3332970cdbdf12cfc7edb9abae6f7e9a586348619&o=&hp=1', 'https://cf.bstatic.com/xdata/images/hotel/max500/71853701.jpg?k=45804111c47e615aea5c5f12682e73ecda822fdd65fc69554da803dde1eb30eb&o=&hp=1', 'https://cf.bstatic.com/xdata/images/hotel/max500/47201544.jpg?k=74913378a7f3b2ce5f85da54cf4bf1be465a860731c82b4b3e2fbd8c8c394ba8&o=&hp=1', 'https://cf.bstatic.com/xdata/images/hotel/max300/71853559.jpg?k=b706a86bbb92c58a6155894e9476ef614817099abe27be44d9fa478e1c5304f1&o=&hp=1', 'https://cf.bstatic.com/xdata/images/hotel/max300/71853021.jpg?k=f255e57e06a01b36f90d38025e6f89099387afcbd3a8c9450611fba8f255629b&o=&hp=1'], 'booking.com'], ['Moxy Frankfurt Airport', '5.6', '8.1', 4, '244', 'Amelia-Mary-Earhart-Straße 5, 60549 Frankfurt/Main, Germany', \"\\nFeaturing a terrace, and fitness facilities,  Moxy Frankfurt Airport is located in Frankfurt/Main, 5 miles from Fair Frankfurt. Built in 2017, the property is within 3.1 miles of Commerzbank-Arena. The property is set in the Frankfurt Airport Area district and Messeturm is 5 miles away.\\nThe rooms in the hotel are equipped with a flat-screen TV. A welcome drink is also provided to guests on arrival.\\nA continental breakfast is available daily at the property.\\nMoxy Frankfurt Airport offers a business centre for guests' use. Speaking German and English, staff will be happy to provide guests with practical guidance on the area at the 24-hour front desk. \\n\", ['https://t-cf.bstatic.com/xdata/images/hotel/max500/104738810.jpg?k=98a9f31c30f65731ff97d1c1659cde10fd9c60678796f8c7efba2e90cda3b030&o=&hp=1', 'https://t-cf.bstatic.com/xdata/images/hotel/max500/104737577.jpg?k=af34cdff885aa62961b91986c7b2beac82d12dc80b956699379807cacfbcb4f4&o=&hp=1', 'https://t-cf.bstatic.com/xdata/images/hotel/max500/104738806.jpg?k=5e0009b8c7cda75f59efcf53600cb293b0b381fdea04e5c3171c15385f671d4b&o=&hp=1', 'https://t-cf.bstatic.com/xdata/images/hotel/max300/104738828.jpg?k=9415ecf79d0b1b288c6b94e496b6ed36c78807b82bd5eaf9c4c38fffcfe867bf&o=&hp=1', 'https://t-cf.bstatic.com/xdata/images/hotel/max300/88352979.jpg?k=6bb5f34807bd30c458f0e7ca1ab4eca28cd1586711f78c2ba428d9cb38b3662b&o=&hp=1'], 'booking.com'], ['Panorama Hostel', '2.1', '6.5', 0, '21', 'Mainzer  Landstr. 341, 5 em, Gallusviertel, 60326 Frankfurt/Main, Germany', '\\nSet in Frankfurt/Main, 1.2 miles from Messe Frankfurt, Panorama Hostel offers accommodation with a bar, private parking and a shared lounge. Among the facilities at this property are a shared kitchen and an ATM, along with free WiFi throughout the property. The hostel features family rooms.\\nCertain rooms will provide you with a kitchen with a microwave, a fridge and a stovetop. The units feature bed linen.\\nFrankfurt Central Station is 1.4 miles from the hostel, while English Theatre is 1.9 miles away. The nearest airport is Frankfurt Airport, 8.1 miles from Panorama Hostel. \\n', ['https://cf.bstatic.com/xdata/images/hotel/max500/294592472.jpg?k=9521b35045d283f5bd64cb44b2a30267e9b4c1ba3fd8d84adb6d0bf755410f00&o=&hp=1', 'https://cf.bstatic.com/xdata/images/hotel/max500/289340313.jpg?k=b2c7ba2d168d3175d954bd484412dcb80f591fb66b1b9ea67d092e3537b0d2c7&o=&hp=1', 'https://cf.bstatic.com/xdata/images/hotel/max500/301759482.jpg?k=1f89135ef1a36ace27896bb5952d5c3a1fb6a7600f6bd916bb2ba4c8c801ce24&o=&hp=1', 'https://cf.bstatic.com/xdata/images/hotel/max300/306585155.jpg?k=db4993c11191a3fc54799b420b380130b18a960b4ff904bff38a3665dca441b1&o=&hp=1', 'https://cf.bstatic.com/xdata/images/hotel/max300/299301011.jpg?k=fd2d25de4ec6aa31c067d4a0467dcb91ec67ef0f03ec2db62c721332b566e02f&o=&hp=1'], 'booking.com'], ['the niu Charly', '0.8', '8.3', 3, '316', 'Niddastraße 60-62, Bahnhofsviertel, 60329 Frankfurt/Main, Germany', '\\nBoasting a bar, the niu Charly is situated in Frankfurt/Main in the Hessen region, 1,950 feet from English Theatre and 2,300 feet from Messe Frankfurt. Among the facilities at this property are a 24-hour front desk and a shared lounge, along with free WiFi throughout the property. Guests can have a drink at the snack bar.\\nGuest rooms at the hotel are fitted with a seating area. The private bathroom is fitted with a shower and a hairdryer. The rooms will provide guests with air conditioning, a safety deposit box and a flat-screen TV.\\nThe niu Charly offers a continental or buffet breakfast.\\nThe accommodation offers a sun terrace.\\nPopular points of interest near the niu Charly include Städel Museum, Goethe House and German Film Museum. The nearest airport is Frankfurt Airport, 8.1 miles from the hotel. \\n', ['https://t-cf.bstatic.com/xdata/images/hotel/max500/224975184.jpg?k=dc003086b0b5fbc1c2ec01fd8e999f982157705bc2218215cec61bfcd8a091e7&o=&hp=1', 'https://t-cf.bstatic.com/xdata/images/hotel/max500/224973178.jpg?k=2b81f737245a1ec31513ad4ba41435faf7096a9afea21af721124567e69bf3f3&o=&hp=1', 'https://t-cf.bstatic.com/xdata/images/hotel/max500/186891439.jpg?k=5cb55a8ac185f6729bed6c8dfef61ccb8db59db1acb2d8bd1c6bc708b35756bf&o=&hp=1', 'https://t-cf.bstatic.com/xdata/images/hotel/max300/224973323.jpg?k=5ecabfce333c595d7383acafaf78d11aa3dc3038dad454ee50b9b4b7fe06bd08&o=&hp=1', 'https://t-cf.bstatic.com/xdata/images/hotel/max300/233146787.jpg?k=aa38fbd01ccd73294f13267530c56c94280d1527afbb8b21599b372ebd1c2582&o=&hp=1'], 'booking.com'], ['the niu Air', '2.6', '8.4', 3, '200', 'Leonardo-da-Vinci-Allee 30, Bockenheim, 60486 Frankfurt/Main, Germany', \"\\n\\nYou're eligible for a Genius discount at the niu Air! To save at this property, all you have to do is sign in.\\nLocated in Frankfurt/Main and within 1.7 miles of Senckenberg Natural History Museum, the niu Air features a bar, allergy-free rooms, and free WiFi throughout the property. The property is set 2 miles from Messe Frankfurt, 3.1 miles from Palmengarten and 3.1 miles from English Theatre. Private parking is available on site.\\nAt the hotel, every room is fitted with a desk, a flat-screen TV, a private bathroom, bed linen and towels. All units include a safety deposit box.\\nGuests at the niu Air can enjoy a buffet breakfast.\\nSpeaking German and English, staff are always on hand to help at the reception.\\nGoethe House is 3.1 miles from the accommodation, while Römerberg is 3.1 miles away. The nearest airport is Frankfurt Airport, 9.3 miles from the niu Air. \\n\", ['https://cf.bstatic.com/xdata/images/hotel/max500/241484269.jpg?k=c8af2a8947daa2265680d8cbd45cbf07552dd651c2b920721e9560b00e4f4ce4&o=&hp=1', 'https://cf.bstatic.com/xdata/images/hotel/max500/241496684.jpg?k=4f16007a13ca37bb7e18ec71863e5598599b39e336599d18bc5869db599bc506&o=&hp=1', 'https://cf.bstatic.com/xdata/images/hotel/max500/241496746.jpg?k=440ceea589b7bd54863a94bde1e495c68a9393f94ed824b6d26e053ffd12bbaa&o=&hp=1', 'https://cf.bstatic.com/xdata/images/hotel/max300/241496915.jpg?k=110d273b814660ac607524b842815bd9e99ac47b2c5ca7066ba657a499617c74&o=&hp=1', 'https://cf.bstatic.com/xdata/images/hotel/max300/241493044.jpg?k=b65bc4bdd9bc1d5b2cca842aa2e42ed325753b0eebccf3f7c769410d181b11c9&o=&hp=1'], 'booking.com'], ['Frankfurt Airport Marriott Hotel', '6.4', '8.0', 5, '348', 'Airport / Terminal 1, Hugo-Eckener-Ring 15, 60549 Frankfurt/Main, Germany', '\\nFrankfurt Airport Marriott Hotel features a restaurant, free bikes, a fitness centre and bar in Frankfurt/Main. A sauna and a car rental service are available for guests. The accommodation provides a 24-hour front desk, room service and luggage storage for guests.\\nAt the hotel each room has air conditioning, a seating area, a flat-screen TV with cable channels, a safety deposit box and a private bathroom with a shower, bathrobes and slippers. At Frankfurt Airport Marriott Hotel rooms include bed linen and towels.\\nGuests at the accommodation can enjoy a continental or a buffet breakfast.\\nStädel Museum is 6.8 miles from Frankfurt Airport Marriott Hotel, while German Film Museum is 6.8 miles away. The nearest airport is Frankfurt Airport, 1.2 miles from the hotel. \\n', ['https://t-cf.bstatic.com/xdata/images/hotel/max500/228656385.jpg?k=a2abce9efc98102a0ed9f5b1209ae68bf0c34b9195293029f5569cfdd760d7c2&o=&hp=1', 'https://t-cf.bstatic.com/xdata/images/hotel/max500/246511600.jpg?k=f289a34d328891cbed6d1ff6cb7e66ff8dd078b1077640fe62f127b9409a0dad&o=&hp=1', 'https://t-cf.bstatic.com/xdata/images/hotel/max500/229007189.jpg?k=b668cb532f781031ef366a5e949b7ec48ac267e9cd0db6639a82ae52c8dfa095&o=&hp=1', 'https://t-cf.bstatic.com/xdata/images/hotel/max300/246511913.jpg?k=bf3e5510caaea8c325e0141b80bfbf475ede039f10e4227417ab994e45749e07&o=&hp=1', 'https://t-cf.bstatic.com/xdata/images/hotel/max300/246511621.jpg?k=b41807c3b825c09c04ee2a8b4b433f059773fbcc6ec7de1ab57f1bbad3a318ef&o=&hp=1'], 'booking.com'], ['AZIMUT Hotel Frankfurt', '1', '8.2', 3, '191', 'Mainzer Landstr. 117+119, Gallusviertel, 60327 Frankfurt/Main, Germany', \"\\n\\nYou're eligible for a Genius discount at AZIMUT Hotel Frankfurt! To save at this property, all you have to do is sign in.\\nSet in Frankfurt/Main and with Frankfurt Central Station reachable within 600 metres, AZIMUT Hotel Frankfurt offers a bar, allergy-free rooms, free WiFi throughout the property and a terrace. This property is situated a short distance from attractions such as Senckenberg Natural History Museum, German Film Museum, and Hauptwache. Private parking can be arranged at an extra charge.\\nThe hotel will provide guests with air-conditioned rooms offering a desk, a safety deposit box, a flat-screen TV and a private bathroom with a shower. At AZIMUT Hotel Frankfurt the rooms come with bed linen and towels.\\nA buffet breakfast is available every morning at the accommodation.\\nFor guests' convenience, AZIMUT Hotel Frankfurt has a business centre. Languages spoken at the 24-hour front desk include German, English, Russian and Turkish.\\nPopular points of interest near the hotel include Messe Frankfurt, English Theatre and Goethe House. The nearest airport is Frankfurt Airport, 8.1 miles from AZIMUT Hotel Frankfurt. \\n\", ['https://t-cf.bstatic.com/xdata/images/hotel/max500/112083936.jpg?k=55fb03a37cdcd6cd5c40f1188e69366c5ee2e320a691e293c26b4e2b5cb22c46&o=&hp=1', 'https://t-cf.bstatic.com/xdata/images/hotel/max500/112066852.jpg?k=cec744e41bf995b57342aa688109cfe3d5e210d169e0abc59bd375341fea02bd&o=&hp=1', 'https://t-cf.bstatic.com/xdata/images/hotel/max500/261884834.jpg?k=0f65ff1c015f0ce6cad5a1bbb5cca021b4404624389e912a47d4dbcc6ba9c3a6&o=&hp=1', 'https://t-cf.bstatic.com/xdata/images/hotel/max300/112081544.jpg?k=79a3c10b962e9a8d4ab45c326f827390bc5502db9188a2c4b60148ee0937b88c&o=&hp=1', 'https://t-cf.bstatic.com/xdata/images/hotel/max300/112082516.jpg?k=8f5a310e09265a924e62dc55dda262e4f673ac5c04f9ae8a44ca1a91e855268b&o=&hp=1'], 'booking.com'], ['Hilton Garden Inn Frankfurt City Centre', '0.5', '8.0', 4, '305', 'Weserstrasse 43, Bahnhofsviertel, 60329 Frankfurt/Main, Germany', '\\nHilton Garden Inn Frankfurt City Centre has a garden, fitness centre, a bar and shared lounge in Frankfurt/Main. Among the facilities of this property are a restaurant, a 24-hour front desk and room service, along with free WiFi. The property is non-smoking and is situated 0.7 miles from Messe Frankfurt.\\nThe rooms are fitted with air conditioning, a TV with satellite channels, a fridge, a kettle, a shower, a hair dryer and a desk. At the hotel rooms are fitted with a private bathroom.\\nA breakfast buffet is available each morning at Hilton Garden Inn Frankfurt City Centre.\\nHilton Garden Inn Frankfurt City Centre also provides a terrace, a business centre and guests can check the newspapers at the hotel.\\nPopular points of interest near Hilton Garden Inn Frankfurt City Centre include Städel Museum, German Film Museum and Goethe House. The nearest airport is Frankfurt Airport, 8.1 miles from the accommodation. \\n', ['https://t-cf.bstatic.com/xdata/images/hotel/max500/240019477.jpg?k=d1df082bc53b18e46b14ff3a5c1255c6968c6bd66d22e15451e3de81f51d8732&o=&hp=1', 'https://t-cf.bstatic.com/xdata/images/hotel/max500/134002897.jpg?k=b23394abb959d1b8b64c6e4cad873a2c2e50b956dbd624d883c04d2dca88048f&o=&hp=1', 'https://t-cf.bstatic.com/xdata/images/hotel/max500/240019794.jpg?k=41f95f4eddc2b98012aaefe51ad5a69a92e3266bc43f68a0bedc4ac05953603a&o=&hp=1', 'https://t-cf.bstatic.com/xdata/images/hotel/max300/134002243.jpg?k=f063d15133ec381bbd86069f95fefeafddfe920ce0a211a4dc156f210fc57968&o=&hp=1', 'https://t-cf.bstatic.com/xdata/images/hotel/max300/134002282.jpg?k=9bba6c2cd7621e68cfd0dc407bc679003bde7882950b64daa3538b954fe5264c&o=&hp=1'], 'booking.com'], ['Holiday Inn Express Frankfurt Messe, an IHG Hotel', '1.8', '7.9', 3, '206', 'Gutleutstraße 296, Gutleutviertel, 60327 Frankfurt/Main, Germany', '\\nThis modern Holiday Inn Express in the Gutleutviertel district of Frankfurt offers air-conditioned rooms and a daily breakfast buffet. Frankfurt Trade Fair and Frankfurt Central Station are just 1.2 miles away.\\nEvery room at the Holiday Inn Express Frankfurt Messe has a flat-screen satellite TV, tea/coffee facilities and a private bathroom. Free Wi-Fi is available in all  areas of the accommodation.\\nGerman beers, fine wines and small snacks are served at the Holiday Inn Express’s bar. The staff at the 24-hour reception can also help to reserve tables at nearby restaurants.\\nUp to 2 children under the age of 18 can stay with parents for free on the sofa bed.\\nFrankfurt Airport is just a 20-minute drive away from the Holiday Inn Express.\\nWe provide shuttle service one way to fair ground Frankfurt during major fairs. \\n', ['https://cf.bstatic.com/xdata/images/hotel/max500/248827836.jpg?k=d11659bb1624900da2ec7cd48d05dffe045582e4f82f2f9ca618a46a85fae933&o=&hp=1', 'https://cf.bstatic.com/xdata/images/hotel/max500/351104819.jpg?k=dcfe51267af1a263fea76097ad0aabd31552bbe902f929bde688c2c7c7e59f18&o=&hp=1', 'https://cf.bstatic.com/xdata/images/hotel/max500/350833715.jpg?k=beb07206af378f1ee9746d0b6ba95c218982a79ce01468f2856e58ad7cd113ed&o=&hp=1', 'https://cf.bstatic.com/xdata/images/hotel/max300/350833709.jpg?k=ad3df83a642ee62671a506acc58b0f26531de1877faa03a05bf0a0c1332f3c87&o=&hp=1', 'https://cf.bstatic.com/xdata/images/hotel/max300/248827852.jpg?k=af3e5f4b01be76d77b07f7cbe6d2c4b999f55d5ce92e5950308c246456d562ff&o=&hp=1'], 'booking.com'], ['Motel One Frankfurt-Römer', '0.2', '8.6', 3, '242', 'Berliner Strasse 55, Frankfurt City Centre (Old Town), 60311 Frankfurt/Main, Germany', \"\\nThis hotel is situated in the heart of Frankfurt am Main, just around the corner from the Old Town, cathedral and the modern art museum. The Motel One Frankfurt-Römer offers free WiFi and a 24-hour reception.\\nNewly opening in November 2018, the hotel features contemporary-style rooms with air conditioning, a flat-screen TV and a private bathroom with shower and hairdryer. Guests also enjoy hypoallergenic bedding and a pillow menu. iPads can be rented for free at reception.\\nA continental or buffet breakfast is available daily at the property.\\nAll of Frankfurt's city centre attractions , shopping areas and museums can be easily reached on foot from Motel One Frankfurt-Römer.\\nPrivate parking spaces are available on site for a daily charge. \\n\", ['https://cf.bstatic.com/xdata/images/hotel/max500/271740486.jpg?k=40506e12aab19ead579c1e7e18308396cf4a5f2e1d84ceffb68c225e2df9b819&o=&hp=1', 'https://cf.bstatic.com/xdata/images/hotel/max500/274776650.jpg?k=acc491c6b7b9963cbf4bd5390cf64902d8a1cec88e117d236214cd06e420b547&o=&hp=1', 'https://cf.bstatic.com/xdata/images/hotel/max500/274775284.jpg?k=8e93243994dc0dd8f747109ba7c827500e724188059036a3f0bd6664d81056e3&o=&hp=1', 'https://cf.bstatic.com/xdata/images/hotel/max300/274776345.jpg?k=55aa65b10eec24eb66179127d349ba089fc2a05e56d60627bebf5ed50c85391f&o=&hp=1', 'https://cf.bstatic.com/xdata/images/hotel/max300/274775360.jpg?k=d461ccb54b764e07372b8aaf980faa7a3d4874f7d6257fbab95076f329a6362d&o=&hp=1'], 'booking.com'], ['Hotel Monopol - Central Station', '0.9', '6.9', 4, '232', 'Mannheimer Str. 11-13, Gutleutviertel, 60329 Frankfurt/Main, Germany', \"\\n\\nYou're eligible for a Genius discount at Hotel Monopol - Central Station! To save at this property, all you have to do is sign in.\\nThis 4-star hotel is located within a 100-year-old building beside Frankfurt Central Station. It offers free WiFi, a  full American breakfast and soundproofed rooms with free minibar.\\nAll spacious, brightly decorated rooms at the Hotel Monopol Frankfurt feature satellite TV, a desk, and a private bathroom. Guests enjoy free local telephone calls and the free minibar is refilled every day. Complimentary coffee, tea and mineral water, as well as fruits and cakes are also available during the day. Guests also enjoy complimentary local and international newspapers.\\nInternational dishes and seasonal specialities are served in the Metropol’s restaurant. In the afternoons, guests can enjoy free coffee and cake in the lobby.\\nFree calls to local landlines and free sewing services are offered by the Monopol Frankfurt. Guests can reserve the business facilities for up to 4 hours at no extra cost.\\nThe Messe Frankfurt Exhibition Centre is 0.6 miles away from the Monopol Hotel. Frankfurt Airport is only 15 minutes by S-Bahn train. \\n\", ['https://cf.bstatic.com/xdata/images/hotel/max500/134222011.jpg?k=35043314ae9c6129da43e6e900317da04a0af1e380342b6408fc5772a84ba009&o=&hp=1', 'https://cf.bstatic.com/xdata/images/hotel/max500/133847322.jpg?k=5de88388015e48e8afe3d7d4848f75103e3f7d31a389e137baf4842c6072106b&o=&hp=1', 'https://cf.bstatic.com/xdata/images/hotel/max500/314000530.jpg?k=a25c008370a9b5dd58eb36910142887f762b73d2055a3149b9ebdad28bb59d1b&o=&hp=1', 'https://cf.bstatic.com/xdata/images/hotel/max300/313995230.jpg?k=ccc94f802ca9321e7c3011f7a210fca4fef830bf7ad095229c4f5141347f8811&o=&hp=1', 'https://cf.bstatic.com/xdata/images/hotel/max300/180071239.jpg?k=9dc093434b60dbad7cb5626e8f4213318e18c19276b75a2a68241f9bc865d7cf&o=&hp=1'], 'booking.com'], ['the niu Coin', '1.5', '8.4', 3, '181', 'Mayfarthstraße 29, Ostend, 60314 Frankfurt/Main, Germany', \"\\n\\nYou're eligible for a Genius discount at the niu Coin! To save at this property, all you have to do is sign in.\\nSituated in Frankfurt/Main and with Eiserner Steg reachable within 2.4 km, the niu Coin features a bar, allergy-free rooms, free WiFi throughout the property and a shared lounge. The property is located 1.6 miles from Cathedral of St. Bartholomew, 1.8 miles from Goethe House and 2.1 miles from Römerberg. Private parking can be arranged at an extra charge.\\nThe hotel will provide guests with air-conditioned rooms with a desk, a safety deposit box, a flat-screen TV and a private bathroom with a shower. At the niu Coin rooms are fitted with bed linen and towels.\\nThe accommodation offers a buffet or vegetarian breakfast.\\nSpeaking German and English, staff are ready to help around the clock at the reception.\\nStädel Museum is 2.1 miles from the niu Coin, while English Theatre is 2.2 miles from the property. The nearest airport is Frankfurt Airport, 13 miles from the hotel. \\n\", ['https://t-cf.bstatic.com/xdata/images/hotel/max500/269089115.jpg?k=84b3138081eeecf498f9578a8b40bf6ca4c0a1f045b039a7fd926d699b3d1f88&o=&hp=1', 'https://t-cf.bstatic.com/xdata/images/hotel/max500/269091524.jpg?k=c8186a4790a333bcc962c10782ad19414a1dd31bbed03e0d660ad5f70618246a&o=&hp=1', 'https://t-cf.bstatic.com/xdata/images/hotel/max500/269085711.jpg?k=e8ba26dafc3c93f3d8b29b064c249562e4eed8134c34b54150490d4dec428302&o=&hp=1', 'https://t-cf.bstatic.com/xdata/images/hotel/max300/269089110.jpg?k=7a8c626ec760cf4e44ffd35dc75c4b0390530422e6b4d9c6faec784d06fcf3e3&o=&hp=1', 'https://t-cf.bstatic.com/xdata/images/hotel/max300/269089373.jpg?k=c38a3f8189f0e3b0012bbf1fd6024f3383a7a9f08fbfc533f7920d07e24a35b6&o=&hp=1'], 'booking.com'], ['NH Collection Frankfurt City', '0.4', '8.2', 4, '379', 'Vilbeler Strasse 2, Frankfurt City Centre (Old Town), 60313 Frankfurt/Main, Germany', \"\\n\\nYou're eligible for a Genius discount at NH Collection Frankfurt City! To save at this property, all you have to do is sign in.\\nThe 4-star superior NH Collection Frankfurt City lies in the heart of Frankfurt, a 5-minute walk from the Zeil shopping street. It offers international cuisine and a spa area with sauna steam bath, and gym.\\nThe bright and spacious non-smoking rooms at the NH Collection Frankfurt City feature modern décor. Every room includes a Nespresso™ coffee maker with capsules as well as a higher mattress and choice of pillows.\\nAn early-bird breakfast service, a full breakfast buffet as well as International cuisine are served in the NH Collection Frankfurt City’s brightly decorated restaurant with its large windows. Guests are also welcome to relax with a drink in the spacious lobby bar with its lounge seating. laptops and smartphones during your stay complimentary. A Guest Relation Manager is on call to ensure all guests' needs are met.\\nKonstablerwache Underground and S-Bahn Station is a 5-minute walk from the NH, providing fast links to Frankfurt Airport and the Frankfurt Trade Fair. Public parking is also available. \\n\", ['https://cf.bstatic.com/xdata/images/hotel/max500/328268770.jpg?k=b07d9025b8f2dcce61a8b20a099f5891184693db1ecea49e73b2f6cd5a140ffd&o=&hp=1', 'https://cf.bstatic.com/xdata/images/hotel/max500/328268709.jpg?k=a34c742a98d8983e7970717894981753064cd0c0a1b142c32fdbe66166187940&o=&hp=1', 'https://cf.bstatic.com/xdata/images/hotel/max500/345379193.jpg?k=ee0285f556c3e00a290f8a7930b9d3a7e9093157ba95f90e8c7352cf050fb093&o=&hp=1', 'https://cf.bstatic.com/xdata/images/hotel/max300/328268716.jpg?k=484297d8b1ced01ffeea35729bd26f5dfcbf09b876be7d726fcd548330a00175&o=&hp=1', 'https://cf.bstatic.com/xdata/images/hotel/max300/328268722.jpg?k=422cf0d15199d5c19cf95a17ca2a1c8ae3c8cefca3054c71035afac633c445bd&o=&hp=1'], 'booking.com'], ['Turm Hotel', '0.4', '8.3', 4, '240', 'Eschersheimer Landstrasse 20, Nordend, 60322 Frankfurt/Main, Germany', \"\\n\\nYou're eligible for a Genius discount at Turm Hotel! To save at this property, all you have to do is sign in.\\nThis attractive, non-smoking 3-star hotel offers modern accommodation in Frankfurt’s city centre, just a short walk from the nearest U-Bahn (underground) station, Eschenheimer Tor, and all the major sights.\\nAll rooms at the Turm Hotel come with satellite TV and a private bathroom. All rooms also feature free Wi-Fi access.\\nGuests can wake up to a delicious breakfast buffet for an additional fee.\\nYou can hire a bike and set off to explore the city. The hotel also has a computer games room and computer work station for guests to use.\\nWhy not round off a pleasant evening with a drink in the welcoming hotel bar. \\n\", ['https://t-cf.bstatic.com/xdata/images/hotel/max500/112521137.jpg?k=0781892fca5ffe227addd1394a98bbbef3a936f4d7b25d80a7c33729a487d8b5&o=&hp=1', 'https://t-cf.bstatic.com/xdata/images/hotel/max500/211373471.jpg?k=e7e321606129eec84db0d935ccab05bf3612d9f20919a02effec1e0473627d9f&o=&hp=1', 'https://t-cf.bstatic.com/xdata/images/hotel/max500/41927445.jpg?k=e741fdfd2d8cae666a323ede699bba5b001c7ad2383c8e4036374aa4613bff49&o=&hp=1', 'https://t-cf.bstatic.com/xdata/images/hotel/max300/279971963.jpg?k=c181503810f0f389acf81648293489aeb13848397e2a248a5b90a9d7e3573042&o=&hp=1', 'https://t-cf.bstatic.com/xdata/images/hotel/max300/65489588.jpg?k=e658c4b4928718c9e849e5f3a3998e9acc78135590dbf287fcdf79ef3bc5c44d&o=&hp=1'], 'booking.com'], ['AMERON Frankfurt Neckarvillen Boutique', '0.5', '8.7', 4, '342', 'Neckarstraße 7-13, Bahnhofsviertel, 60329 Frankfurt/Main, Germany', \"\\n\\nYou're eligible for a Genius discount at AMERON Frankfurt Neckarvillen Boutique! To save at this property, all you have to do is sign in.\\nAMERON Frankfurt Neckarvillen Boutique has a restaurant, fitness centre, a bar and shared lounge in Frankfurt/Main. Located around 700 feet from English Theatre, the First Class Boutique Hotel with free WiFi is also 5 minute away from city centre, and  2,300 feet away from Goethe House. The accommodation features a 24-hour front desk, room service and organising tours for guests.\\nThe hotel will provide guests with air-conditioned rooms with a desk, a coffee machine, a minibar, a safety deposit box, a flat-screen TV and a private bathroom with a shower. At AMERON Frankfurt Neckarvillen Boutique the rooms are fitted with bed linen and towels.\\nGuests at the accommodation can enjoy a buffet or an American breakfast.\\nAMERON Frankfurt Neckarvillen Boutique offers a terrace. Guests at the hotel will be able to enjoy activities in and around Frankfurt/Main, like hiking and cycling.\\nPopular points of interest near AMERON Frankfurt Neckarvillen Boutique include German Film Museum, Eiserner Steg and Städel Museum. The Mainstation is 1,650 feet away, the nearest airport is Frankfurt Airport, 6.2 miles from the accommodation. \\n\", ['https://t-cf.bstatic.com/xdata/images/hotel/max500/233996043.jpg?k=e83b8bf6991a65d1940dc87ae52d0b4c292bf30163cdefa68935d7fcfd5d0dc1&o=&hp=1', 'https://t-cf.bstatic.com/xdata/images/hotel/max500/233999393.jpg?k=e80f2db7723072b6c17be1fc741ab7e79cdefaac4a916813081df6b7cab14559&o=&hp=1', 'https://t-cf.bstatic.com/xdata/images/hotel/max500/233999348.jpg?k=3b44dbcf5ac2222c6bae37ed1181debbec6c767c7fd43bb722f1c0d60f62d2b3&o=&hp=1', 'https://t-cf.bstatic.com/xdata/images/hotel/max300/233996062.jpg?k=ffccc343c2a058a2eac4e1bc6c4b7904b750650ad6c9246b97aba2f506a7ff51&o=&hp=1', 'https://t-cf.bstatic.com/xdata/images/hotel/max300/346731267.jpg?k=4c61d106dca83798cfa723ec34a5e588d4c2fa422b024097065c5ead5d230d8b&o=&hp=1'], 'booking.com'], ['Bristol Hotel', '1', '7.6', 4, '223', 'Ludwigstr. 15, Gallusviertel, 60327 Frankfurt/Main, Germany', \"\\n\\nYou're eligible for a Genius discount at Bristol Hotel! To save at this property, all you have to do is sign in.\\nThis hotel is located in the heart of Frankfurt, just a 2-minute walk from Frankfurt Central Station. The Bristol Hotel offers contemporary design and free high speed WiFi throughout the property.\\nThe Bristol Hotel Frankfurt features a modern glass façade and rooms with a clear and structured design. Every room includes a flat-screen TV with satellite channels as well as a private bathroom.\\nA full breakfast buffet is provided from 06:30 each morning in the Bristol’s bright breakfast room, where guests can enjoy the view through the large windows onto the garden of the hotel. Drinks are offered at the Bristol Bar (smokers bar) or at the Bristol summer-lounge on sunny days.\\nThe Bristol Hotel is a 10-minute walk from Frankfurt Trade Fair, banking district and the Museumsufer Museum Mile directly across the River Main and offers a 24 hour reception. This hotel offers conference rooms for meetings and events.\\nFrankfurt Central Station provides bus, tram, underground and S-Bahn train connections to all parts of Frankfurt. Frankfurt Airport is just 15 minutes away by train. \\n\", ['https://t-cf.bstatic.com/xdata/images/hotel/max500/197672865.jpg?k=b40b94222e094908395a5b6557afe7d3c606d48d5ce75d6467ed73074c7db741&o=&hp=1', 'https://t-cf.bstatic.com/xdata/images/hotel/max500/210286123.jpg?k=520459dcac1c404652caba210f1e49094998f8132349fe42f043463d445f116a&o=&hp=1', 'https://t-cf.bstatic.com/xdata/images/hotel/max500/211235117.jpg?k=562420836e5ea148f74046e4f2cba1948c98958eb2f95c0d73cd5ee97d93b89d&o=&hp=1', 'https://t-cf.bstatic.com/xdata/images/hotel/max300/197672716.jpg?k=919be17b0ad5a30fbc17586ec5707e35600b51c2762a0edbfd180fe345e79e0a&o=&hp=1', 'https://t-cf.bstatic.com/xdata/images/hotel/max300/197672536.jpg?k=613db9ddf98af8bf0734cf67d26783611812e417ae8eae76a9a716e0dde12afa&o=&hp=1'], 'booking.com'], ['Europa Style', '0.9', '8.3', 4, '192', 'Baseler Str. 19, Gutleutviertel, 60329 Frankfurt/Main, Germany', '\\nThis modern hotel in the heart of Frankfurt am Main is just 350 feet from Frankfurt Central Station. It offers air-conditioned, soundproofed rooms with free Wi-Fi and a stylish restaurant.\\nAll comfortably furnished rooms at the Europa Style feature a flat-screen TV with satellite channels, a laptop safe box and minibar. Some include tea/coffee facilities.\\nSeveral international restaurants, bars and clubs are within walking distance. The famous Zeil shopping mile and Frankfurt Messe Exhibition Grounds are about a 5-minute drive away.\\nA breakfast buffet is served each morning at the Europa. Drinks are offered at the hotel bar.\\nThe concierge service can help guests plan their visit to Frankfurt. A 24-hour reception with luggage storage is available. \\n', ['https://cf.bstatic.com/xdata/images/hotel/max500/38228737.jpg?k=3820a27192678edd7c274f0ca5173b9b016167ea460a115b8b6e9eea42aef1b6&o=&hp=1', 'https://cf.bstatic.com/xdata/images/hotel/max500/38228716.jpg?k=2be283bec12070e3d46ee3b32699630a22fcb6b1a6bfedd8db9cc39426aa2d51&o=&hp=1', 'https://cf.bstatic.com/xdata/images/hotel/max500/38228713.jpg?k=96db4664589ec01f36e5a5d8b8627b2af0e07bcff25e8837939ff46b69015512&o=&hp=1', 'https://cf.bstatic.com/xdata/images/hotel/max300/38228735.jpg?k=c597716f3416e0133ccac9b91811c9d30803c5b436ab8ed2e43ce10544df3d82&o=&hp=1', 'https://cf.bstatic.com/xdata/images/hotel/max300/38228718.jpg?k=836cafad6de749e889abd7ee47cc6a55d2a0d79366006394a52ce8dab2c5de9b&o=&hp=1'], 'booking.com'], ['Hilton Frankfurt City Centre', '0.2', '8.3', 5, '482', 'Hochstr. 4, Frankfurt City Centre (Old Town), 60313 Frankfurt/Main, Germany', \"\\nLocated a few minutes' walk from all main attractions in the centre of Frankfurt, this hotel features a health club with complimentary 100 feet pool as well as a restaurant with park terrace. Hilton Frankfurt City offers soundproofed rooms with panoramic views.\\nThe spacious rooms at the Hilton Frankfurt City overlook the city centre or Bockenheimer Anlage Park. All rooms and suites feature a large desk, flat-screen TV, and comfortable armchair. Free Wi-Fi access is available in all public areas of the hotel, there is a charge to use it in the rooms.\\nThe Hilton’s health and fitness club includes a stylish sauna, hot tub, gym and half Olympic-sized indoor pool. Exclusive beauty treatments, facials and massages are available upon request.\\nBreakfast is served in the restaurant with its great view of the idyllic park, or else on the large parkside terrace in fine weather. Guests can enjoy local and international dishes as well as a wide variety of gins and tonics in the Vista Bar & Lounge.\\nChildren receive a check-in treat and children's bathrobes, while there is an open park space behind the hotel. Guests of all ages can relax on the outdoor terrace of the park.\\nEschenheimer Tor Underground Station is 500 feet from the Frankfurt Hilton. Trains run to Frankfurt Trade Fair (Frankfurter Messe) in 15 minutes. The hotel is around the corner from the Goethestraße, the city's most popular high-end shopping street. It is 1,500 feet from the Alte Oper (Old opera), 0.7 miles from the Old Town and Römer Square, and 0.7 miles from the English Theatre. \\n\", ['https://t-cf.bstatic.com/xdata/images/hotel/max500/190708609.jpg?k=e6bcb8d92e0cac675a3d899e9dd2af5a9196efe051e1a3983211514fb4f1fa02&o=&hp=1', 'https://t-cf.bstatic.com/xdata/images/hotel/max500/326332724.jpg?k=3a8e858ccf777c3587951251102752156bedc8a7a08737aec2091df0e69d484b&o=&hp=1', 'https://t-cf.bstatic.com/xdata/images/hotel/max500/274054533.jpg?k=f647c6ca9484faeb5450f83599ac1cfe8dab348958b70e75ae892cdfc7baba0c&o=&hp=1', 'https://t-cf.bstatic.com/xdata/images/hotel/max300/55021799.jpg?k=f29baa1494f6cb5cced9a59a92c890c10836f4d37b0818ac8ac379a397ded54c&o=&hp=1', 'https://t-cf.bstatic.com/xdata/images/hotel/max300/117909838.jpg?k=b6f9649aad41f3c3ec74d57c0dbd9c6597ed8a05ff8b1c51840607c592df3c26&o=&hp=1'], 'booking.com'], ['25hours Hotel The Goldman', '1.5', '8.3', 4, '188', 'Hanauer Landstraße 127, Ostend, 60314 Frankfurt/Main, Germany', '\\nJust a 10-minute tram ride from Frankfurt’s Römer square and city centre, this design hotel near the Ostbahnhof Train Station enjoys easy access to the Frankfurt Trade Fair and Frankfurt Airport.\\nExtended in 2012, 25hours Hotel The Goldman offers guests a creative and innovative design provided by local artists. All rooms are non-smoking, individually themed, and provide a unique accommodation experience.\\nEnjoy some delicious food in the stylish ambience of the Goldman restaurant. Located in the creative east end of the city, the restaurant is decorated in a maritime theme. The hotel lounge also provides a relaxed setting for guests wishing to work or socialise and is popular with local artists in the evenings.\\nGuests at 25hours Hotel The Goldman enjoy free Sky TV, complimentary water, and free high-speed WiFi. \\n', ['https://t-cf.bstatic.com/xdata/images/hotel/max500/28763311.jpg?k=81bdbbfe364992b1429d0c80b680363e98090fb2f8d8a1310fc96ee3e9efa98f&o=&hp=1', 'https://t-cf.bstatic.com/xdata/images/hotel/max500/367703199.jpg?k=21a3c6668ba11ecbf5ce323a470d393a8a5b5825aaa4261321cded9049ae3760&o=&hp=1', 'https://t-cf.bstatic.com/xdata/images/hotel/max500/367704471.jpg?k=5a7ed3a170df6f3faf2c211fb474cf069e17558045f7c06166595bca28af7c7c&o=&hp=1', 'https://t-cf.bstatic.com/xdata/images/hotel/max300/217573233.jpg?k=4cfcb4fa9796dcbb21019e2b5f102267c94619cef957e27d41a6be98fb4f773a&o=&hp=1', 'https://t-cf.bstatic.com/xdata/images/hotel/max300/28762862.jpg?k=3c84cf59b4aa929820e9d329792cac6add79d0a7c16941a484de2075cafd9b7a&o=&hp=1'], 'booking.com'], ['Crowne Plaza Frankfurt Congress Hotel, an IHG Hotel', '3.4', '7.8', 4, '309', 'Lyoner Strasse 44 -48, Niederrad, 60528 Frankfurt/Main, Germany', '\\nOffering 2 restaurants, Crowne Plaza Frankfurt Congress Hotel is 650 feet from the 18-hole Frankfurt Golf Club. Frankfurt Airport is a 10-minute drive away.\\nThe air-conditioned rooms and suites feature soundproofed windows, broadband internet, and telephone.\\nA sauna, steam room, and modern gym are located in the wellness area.\\nGerman and international food is served in the hotel restaurants. During summer, guests can relax on the terrace overlooking the forest. The hotel bar offers a selection of cocktails and snacks.\\nGuests can use the lounge with free WiFi, internet work stations, and a big flat-screen TV.\\nThe Niederrad S-Bahn (city rail) station is 0.6 miles from the Hotel. Trains run to Frankfurt Central Station in 5 minutes. \\n', ['https://cf.bstatic.com/xdata/images/hotel/max500/268752892.jpg?k=2fb778cc4668b03af8fc61ad3d66a92395a0994541251ab6c0926a8d8e9a0658&o=&hp=1', 'https://cf.bstatic.com/xdata/images/hotel/max500/268752995.jpg?k=227031f675d0304d6409f90c621d86285d3337aae55978356269e826372d651c&o=&hp=1', 'https://cf.bstatic.com/xdata/images/hotel/max500/250174043.jpg?k=8eef1206558071bd40e88932946e0d24fb4e969fb234b0c3f158e699da7c74a4&o=&hp=1', 'https://cf.bstatic.com/xdata/images/hotel/max300/268752857.jpg?k=c18c652ce31bb52907c3932bdc0480bf5c3b7e44600ceb007befac8e41b99ed1&o=&hp=1', 'https://cf.bstatic.com/xdata/images/hotel/max300/273394489.jpg?k=6e36360ea6d37b8296508faad3d5c1915d6bf88356823875405f45d37fee616b&o=&hp=1'], 'booking.com'], ['Mercure Hotel Kaiserhof City Center', '0.7', '7.8', 4, '293', 'Kaiserstrasse 62, Bahnhofsviertel, 60329 Frankfurt/Main, Germany', \"\\n\\nYou're eligible for a Genius discount at Mercure Hotel Kaiserhof City Center! To save at this property, all you have to do is sign in.\\nThis 4-star superior hotel in central Frankfurt offers modern rooms and a 24-hour reception. Frankfurt Main Train Station and the Hauptbahnhof underground station are just 800 feet away.\\nAll of the Mercure Hotel Kaiserhof City Center's rooms include satellite TV channels, a desk and Wi-Fi.\\nA large breakfast buffet is available each morning in the Kaiserhof's breakfast room. There are also lots of cafés and restaurants within easy walking distance.\\nThe Mercure Hotel Kaiserhof is just 1 underground stop from the Frankfurt Messe Trade Fair. The Museumsufer (Museum Embankment) can be reached in just 15 minutes on foot. \\n\", ['https://cf.bstatic.com/xdata/images/hotel/max500/266840011.jpg?k=c21ebd15c32b0db02a3c3b8e2c47712a901d3b021033687304585de9aebe40c3&o=&hp=1', 'https://cf.bstatic.com/xdata/images/hotel/max500/252255192.jpg?k=5e5fd1b04c64a317ff42e8691adfe876d9900dc1c435e421bdcefb77ea4659da&o=&hp=1', 'https://cf.bstatic.com/xdata/images/hotel/max500/127640367.jpg?k=0a72610d16f3b4850a50f99263728365928181056996cf03e4ef28f7d1354f7c&o=&hp=1', 'https://cf.bstatic.com/xdata/images/hotel/max300/127642671.jpg?k=7c0f6c7d4ff502d3ff7ca53c17e70f24be9e9e996c8dc4f0f92b741ab27abe69&o=&hp=1', 'https://cf.bstatic.com/xdata/images/hotel/max300/221634393.jpg?k=da7181dbdc749ce84ef84d89379959bfe297788dbf4dff30cf3a90dc2f6c9b24&o=&hp=1'], 'booking.com'], ['Pearl Design Hotel Frankfurt City', '1.3', '7.7', 4, '203', 'Gutleutstr. 173, Gutleutviertel, 60327 Frankfurt/Main, Germany', \"\\n\\nYou're eligible for a Genius discount at Pearl Design Hotel Frankfurt City! To save at this property, all you have to do is sign in.\\nThis 4-star hotel is a 2-minute walk from the River Main and a 10-minute walk from Frankfurt Central Station. It offers a 24-hour reception, modern design and free Wi-Fi internet.\\nThe air-conditioned rooms at the Hotel Pearl feature a flat-screen TV. The bathroom includes a rain shower and cosmetic mirror. Some rooms offer views of Frankfurt’s impressive skyline. Tea and coffee making facilities are also provided in the room. A seminar room with access to the sun terrace is available upon request for an extra fee.\\nOrganic, vegan and vegetarian options are available. Guests can enjoy an evening drink in the hotel bar or on the terrace.\\nThe Pearl Design Hotel Frankfurt City in the Westhafen (west harbour) area of Frankfurt is just 1.5 miles from the Frankfurter Messe trade fair. There are direct buses from Rottweiler Platz, 650 feet from the hotel.\\nThe Hotel Pearl Frankfurt has a private car park. Frankfurt Airport is a 15-minute drive away. \\n\", ['https://t-cf.bstatic.com/xdata/images/hotel/max500/107953191.jpg?k=a95111ba81471bb4ceff472390c328b172e51b60452b688371cd689b7f99b931&o=&hp=1', 'https://t-cf.bstatic.com/xdata/images/hotel/max500/285723764.jpg?k=583df85753fd311365feb1602d65c0230aef79e9db4e460422b5cf044c6d2e09&o=&hp=1', 'https://t-cf.bstatic.com/xdata/images/hotel/max500/107948634.jpg?k=f756870a40b026246d7a4fd2592f6a3ff40d3e653f249f65d653598dd578c148&o=&hp=1', 'https://t-cf.bstatic.com/xdata/images/hotel/max300/107948596.jpg?k=acc98c9d0926cf4d8bf9c01e1311f59ec71b51bec475371ee6d11818e5ba079d&o=&hp=1', 'https://t-cf.bstatic.com/xdata/images/hotel/max300/107948651.jpg?k=0bcb9c7ac3c6cf08ba42011b2a08a4d6ae9596a3a17ad2ff6944e08205e84fc1&o=&hp=1'], 'booking.com'], ['Holiday Inn Frankfurt - Alte Oper, an IHG Hotel', '0.6', '8.3', 4, '412', 'Mainzer Landstrasse 27, Bahnhofsviertel, 60329 Frankfurt/Main, Germany', '\\nFeaturing elegant modern interiors and free WiFi access throughout, Holiday Inn Frankfurt - Alte Oper is located in Frankfurt am Main. There is a fitness centre as well as a restaurant and a bar in the hotel.\\nAll of the bright rooms at the property come with air conditioning, a flat-screen TV and a private bathroom providing a hairdryer and free toiletries. Rooms also feature a safety deposit box and tea/coffee facilities.\\nFrankfurt Messe Convention Centre and the Main tower are just 2,450 feet from the property, while Frankfurt’s Old Town and central shopping district can easily be reached in less than 20 minutes on foot.\\nHoliday Inn Frankfurt - Alte Oper is just 1,650 feet from Frankfurt Central Station. The property is a 15-minute drive from Frankfurt Airport. Paid parking is available on site. \\n', ['https://cf.bstatic.com/xdata/images/hotel/max500/233944345.jpg?k=d0a8927c942b7ef6ca1ef2af8f925eaea12e849fc6c012a3a79cff1455d9a3fa&o=&hp=1', 'https://cf.bstatic.com/xdata/images/hotel/max500/326975508.jpg?k=781eb85c6cc46224a128418d7a8adbe7e44c55319b135897b008d1971fe16082&o=&hp=1', 'https://cf.bstatic.com/xdata/images/hotel/max500/233738116.jpg?k=c7ec311ad0cc6b39e9c75f8c2d714b742cb1f93f090efec34a7e7553a8ec1a30&o=&hp=1', 'https://cf.bstatic.com/xdata/images/hotel/max300/224737315.jpg?k=603ce9a18eae4681e0d887140644e75a2b4acf7b4d3647d872dbbf7c11e395d7&o=&hp=1', 'https://cf.bstatic.com/xdata/images/hotel/max300/271028304.jpg?k=67e01133bf3748b243c5ea0892dfb4ed01e92352f91ac032be53830e9f8991fc&o=&hp=1'], 'booking.com'], ['Leonardo Hotel Frankfurt City South', '2.9', '7.0', 4, '135', 'Isenburger Schneise 40, Sachsenhausen, 60528 Frankfurt/Main, Germany', '\\nThis hotel lies between Frankfurt Airport and the city centre. It offers a spa with gym, restaurant, English-style bar, and beer garden 10 minutes away.\\nAll rooms at the Leonardo Hotel Frankfurt City South are soundproofed with air conditioning, a coffee machine, and free WiFi.\\nA daily breakfast buffet is available at the Leonardo Hotel Frankfurt City South. The Brentano restaurant offers seasonal specialities. Cocktails are served in the St. George bar.\\nThere is a direct tram from Frankfurt Main Train Station to the Oberforsthaus tram stop, a 10-minute walk from the hotel. Deutsche Bank Park stadium is a 15-minute walk away.\\nThe Leonardo Hotel Frankfurt City South is a 5-minute drive from the Niederrad business district. The nearby A3 and A5 motorways offer good road connections in the Rhine-Main region. \\n', ['https://cf.bstatic.com/xdata/images/hotel/max500/163262913.jpg?k=e7faf12968afad4bc3b3f13e91e7dd0757bccebaf3f06a3f2dcdfde9d2a2be97&o=&hp=1', 'https://cf.bstatic.com/xdata/images/hotel/max500/163263548.jpg?k=068c837b31639696997939a25e5d19692b4b97bdb15783e93b937ad1a5fe0ebf&o=&hp=1', 'https://cf.bstatic.com/xdata/images/hotel/max500/139052024.jpg?k=a9ce7c7cecc11c582c43a4d24cdc68dc5c39fb8007e53e446f7cf228f685a262&o=&hp=1', 'https://cf.bstatic.com/xdata/images/hotel/max300/139051577.jpg?k=a68fe7a4a34a9057e0ec9ab07fdc6a606759605182642f1005cbb7bab636f9b8&o=&hp=1', 'https://cf.bstatic.com/xdata/images/hotel/max300/54275208.jpg?k=5a6433684271d51339501d0be3f3375a0d6cd04a893348ab3e54b77ece62c2e4&o=&hp=1'], 'booking.com'], ['Grand Hotel Dream Main City Center', '0.5', '7.2', 4, '242', 'Albusstr. 9-11, Frankfurt City Centre (Old Town), 60313 Frankfurt/Main, Germany', \"\\n\\nYou're eligible for a Genius discount at Grand Hotel Dream Main City Center! To save at this property, all you have to do is sign in.\\nThis 4-star hotel in central Frankfurt offers rooms with free internet via cable, a spa area, and great transport links. The Zeil shopping street is a 3-minute walk away.\\nThe Grand Hotel Dream Main City Center has air-conditioned rooms with a classic design, and satellite TV.\\nGuests may also enjoy the wellness area, which includes a steam room and a modern sauna (for an extra fee).\\nThe restaurant of the Hotel Dream Main City Center serves snacks, gourmet meals, and fine desserts.\\nConveniently located, the tram and underground connections of the Konstablerwache square are a 3-minute walk away. The Messe exhibition centre can be reached by car in 10 minutes. \\n\", ['https://cf.bstatic.com/xdata/images/hotel/max500/1428724.jpg?k=8a9353fd46ab4e3b119d763cd8f9f9448947794128ab666783768d7dc5cdf097&o=&hp=1', 'https://cf.bstatic.com/xdata/images/hotel/max500/1428750.jpg?k=36c928d45e80467976f4f630e15cf2f195463ee7e4d23e7e9b3eb32e6fc62d4c&o=&hp=1', 'https://cf.bstatic.com/xdata/images/hotel/max500/6380056.jpg?k=0d00bef547fce08f8b3c434c0a2379e9b18a22b3d73476ce455dd2609aabf4cc&o=&hp=1', 'https://cf.bstatic.com/xdata/images/hotel/max300/1301603.jpg?k=a0a9a78890a46e9c067436f8cb45bff274400acc6aa42f0c1f272a535f131f4a&o=&hp=1', 'https://cf.bstatic.com/xdata/images/hotel/max300/1433175.jpg?k=977a1c4911fd393e7b181287036b488733d8eac63d8de40c886d25fe5a05a40a&o=&hp=1'], 'booking.com'], ['25hours Hotel The Trip', '0.8', '8.2', 4, '293', 'Niddastrasse 56-58, Bahnhofsviertel, 60329 Frankfurt/Main, Germany', '\\nSet in the Bahnhofsviertel district of Frankfurt/Main, 25hours Hotel the Trip is a 3-minute walk from Frankfurt Central Station and 10 minutes\\' away by foot from Frankfurt Trade Fair. Free WiFi is featured.\\nAt the hotel, the rooms are equipped with a desk, a flat-screen TV and a private bathroom. The soundproofed rooms at the 25hours Hotel The Trip also include UE Boom Bluetooth speakers.\\n\"á la carte\" , American or vegetarian breakfast can be enjoyed at the property.\\nAt 24 hours Hotel The Trip you will find the restaurant BAR SHUKA serving international and Middle eastern cuisine.\\nAt the accommodation guests are welcome to take advantage of a sauna. Guests can also enjoy bike rental upon request and availability. The reception at 25hours Hotel The Trip can provide tips on the area.\\nHauptwache is a 15-minute walk from the hotel. The nearest airport is Frankfurt Airport, 5.6 miles from 25hours Hotel The Trip. \\n', ['https://t-cf.bstatic.com/xdata/images/hotel/max500/168983941.jpg?k=ccb840ea1ddb27c015aa68dfdfd80d00bf1887aeade1081dc787ff975e3aa7f9&o=&hp=1', 'https://t-cf.bstatic.com/xdata/images/hotel/max500/168983935.jpg?k=a171b9a4813a10c8092a9b7d48725dab18c1abcc13482e8ab86433a3fa8551cf&o=&hp=1', 'https://t-cf.bstatic.com/xdata/images/hotel/max500/168983702.jpg?k=a1df133e5605f6d2808f5b27e38b3526fc1ce791eb487e96e958fc21fb1f5705&o=&hp=1', 'https://t-cf.bstatic.com/xdata/images/hotel/max300/168983669.jpg?k=7af48c3cfe798dba15eb106477e16cc4c3c872838fe041e60102e03d48ad3f48&o=&hp=1', 'https://t-cf.bstatic.com/xdata/images/hotel/max300/251685201.jpg?k=37605321b3ebdcae7dbb6fcee7e0938cedf0b9faf038ba62716832cd863ab370&o=&hp=1'], 'booking.com']]\n"
          ]
        }
      ]
    },
    {
      "cell_type": "code",
      "source": [
        "#save booking hotels in a seperate CSV file for testing and validation\n",
        "booking_hotels = pd.DataFrame(booking_hotels_data, columns=['Name', 'Distance From City Center(miles)', 'Review Score', 'Star Rating', 'Price Per Night (USD)', 'Address', 'Description', 'Images', 'Source'])\n",
        "# save booking data to csv\n",
        "booking_hotels.to_csv('booking_hotels.csv', index=False)"
      ],
      "metadata": {
        "id": "nT9lz8G2LZR0"
      },
      "execution_count": 11,
      "outputs": []
    },
    {
      "cell_type": "code",
      "source": [
        "# This is the main method that send HTTP GET to hotels.com\n",
        "# And Fetch the listing page first. As the listing becomes available\n",
        "# I get the hotel detail page URL and send another HTTP GET to fetch\n",
        "# hotel details that are not available on the listing page e.g. images\n",
        "\n",
        "def parse_hotel_com_hotels(url):\n",
        "  hotels_data = []\n",
        "  response = requests.get(url,headers=headers)\n",
        "  soup = BeautifulSoup(response.content,'lxml')\n",
        "  \n",
        "  for item in soup.select('li.uitk-spacing-margin-blockstart-three'):\n",
        "    if item.has_attr('data-stid'):\n",
        "      continue\n",
        "    try:\n",
        "      # Get Price\n",
        "      hotel_price_per_night = item.select('.uitk-card-content-section')\n",
        "      if len(hotel_price_per_night) > 0:\n",
        "        hotel_price_per_night = hotel_price_per_night[0].select('.uitk-text.uitk-type-600.uitk-type-bold.uitk-text-emphasis-theme')[0].get_text().strip().lstrip('$')\n",
        "      # hoten page link\n",
        "      hotel_page_link = 'https://www.hotels.com/' + item.select('.uitk-card-link')[0].get('href')\n",
        "      hotel_page = requests.get(hotel_page_link, headers=headers)\n",
        "      # hotel: detail page markup|document\n",
        "      hotel = BeautifulSoup(hotel_page.content,'lxml')\n",
        "      hotel_main_tab = hotel.select('.uitk-card-content-section.uitk-card-content-section-padded.uitk-card.uitk-card-roundcorner-all.uitk-spacing.uitk-flat-border-top')[0]\n",
        "      # get hotel name\n",
        "      hotel_name = hotel_main_tab.select('.uitk-heading-3')[0].get_text().strip()\n",
        "      #distance from city centre\n",
        "      hotel_distance_city_centre = item.select('.uitk-text.uitk-text-spacing-half.truncate-lines-2.uitk-type-300.uitk-text-default-theme')\n",
        "      if len(hotel_distance_city_centre) > 0:\n",
        "        hotel_distance_city_centre = hotel_distance_city_centre[0].get_text().split()[0]\n",
        "      else:\n",
        "        hotel_distance_city_centre = -1\n",
        "      # Get review score\n",
        "      hotel_review_score = hotel_main_tab.select('.uitk-spacing.uitk-spacing-padding-blockend-six')\n",
        "      if len(hotel_review_score) > 0:\n",
        "        hotel_review_score = hotel_review_score[0].select('meta')\n",
        "        if len(hotel_review_score) > 0:\n",
        "          hotel_review_score = hotel_review_score[0].get('content')\n",
        "        else:\n",
        "          hotel_review_score = -1\n",
        "      else:\n",
        "        hotel_review_score = -1\n",
        "      # Get star rating\n",
        "      hotel_star_rating = hotel_main_tab.select('.uitk-spacing.uitk-spacing-padding-small-blockend-four.uitk-spacing-padding-large-blockstart-three')\n",
        "      if len(hotel_star_rating) > 0:\n",
        "        hotel_star_rating = hotel_star_rating[0].select('.uitk-rating .is-visually-hidden')\n",
        "        if len(hotel_star_rating) > 0:\n",
        "          hotel_star_rating = hotel_star_rating[0].get_text().split()[0]\n",
        "        else:\n",
        "          hotel_star_rating = -1\n",
        "      else:\n",
        "        hotel_star_rating = -1\n",
        "      # Address\n",
        "      hotel_address = hotel_main_tab.select('.uitk-text.uitk-type-300.uitk-text-default-theme.uitk-layout-flex-item')[0].get_text().strip()\n",
        "      # description\n",
        "      hotel_description = hotel_main_tab.select('.uitk-text.uitk-type-300.uitk-text-default-theme')[0].get_text().strip()\n",
        "      # images\n",
        "      image_list = []\n",
        "      hotel_images = hotel.select('#Overview img.uitk-image-media')\n",
        "      for hotel_image in hotel_images:\n",
        "        if len(image_list) < 5:\n",
        "          image_url = hotel_image.get('src')\n",
        "          image_list.append(image_url)    \n",
        "    except Exception as e:\n",
        "      print(traceback.format_exc())\n",
        "    hotels_data.append([hotel_name,hotel_distance_city_centre,hotel_review_score,hotel_star_rating,hotel_price_per_night,hotel_address,hotel_description,image_list, 'hotels.com'])\n",
        "  return hotels_data\n",
        "\n",
        "# Get 50 hotels from hotels.com\n",
        "hotels_url = \"https://www.hotels.com/Hotel-Search?adults=1&d1=2022-10-06&d2=2022-10-07&destination=Frankfurt%2C%20Hessen%2C%20Germany&directFlights=false&endDate=2022-10-06&hotels-destination=Frankfurt%2C%20Hessen%2C%20Germany&l10n=%5Bobject%20Object%5D&latLong=50.110924%2C8.682127&localDateFormat=M%2Fd%2Fyyyy&partialStay=false&regionId=1246&semdtl=&sort=DISTANCE&startDate=2022-10-05&theme=&useRewards=false\"\n",
        "hotel_com_hotels_data = parse_hotel_com_hotels(hotels_url)\n"
      ],
      "metadata": {
        "colab": {
          "base_uri": "https://localhost:8080/"
        },
        "id": "WBHxFOFRGItH",
        "outputId": "54d7a358-c6b9-4994-a926-97ce0a74a6ab"
      },
      "execution_count": 77,
      "outputs": [
        {
          "output_type": "stream",
          "name": "stdout",
          "text": [
            "[['Hotel Miramar am Römer', '0.07', '8.2', '3.0', '170', 'Berliner Straße 31, Frankfurt, HE, 60311', '3-star hotel with bar/lounge, near Romerberg', ['https://images.trvl-media.com/hotels/1000000/210000/201200/201186/935680e1.jpg?impolicy=resizecrop&rw=598&ra=fit', 'https://images.trvl-media.com/hotels/1000000/210000/201200/201186/18748e3d.jpg?impolicy=resizecrop&rw=297&ra=fit', 'https://images.trvl-media.com/hotels/1000000/210000/201200/201186/7db0236b.jpg?impolicy=resizecrop&rw=297&ra=fit', 'https://images.trvl-media.com/hotels/1000000/210000/201200/201186/b2475161.jpg?impolicy=resizecrop&rw=297&ra=fit', 'https://images.trvl-media.com/hotels/1000000/210000/201200/201186/17309c26.jpg?impolicy=resizecrop&rw=297&ra=fit'], 'hotels.com'], ['Motel One Frankfurt - Römer', '0.19', '9.0', -1, '225', 'Berliner Straße 55, Frankfurt, 60311', 'Hotel with bar/lounge, near Frankfurt Trade Fair', ['https://images.trvl-media.com/hotels/27000000/26600000/26590700/26590630/215e8e2c.jpg?impolicy=resizecrop&rw=598&ra=fit', 'https://images.trvl-media.com/hotels/27000000/26600000/26590700/26590630/46270dd8.jpg?impolicy=resizecrop&rw=297&ra=fit', 'https://images.trvl-media.com/hotels/27000000/26600000/26590700/26590630/985c9687.jpg?impolicy=resizecrop&rw=297&ra=fit', 'https://images.trvl-media.com/hotels/27000000/26600000/26590700/26590630/66f744cf.jpg?impolicy=resizecrop&rw=297&ra=fit', 'https://images.trvl-media.com/hotels/27000000/26600000/26590700/26590630/6bbe0829.jpg?impolicy=resizecrop&rw=297&ra=fit'], 'hotels.com'], ['Hotel Spenerhaus', '0.23', '8.8', '3.0', '179', 'Dominikanergasse 5, Frankfurt, 60311', 'City-center hotel within easy reach of Frankfurt Trade Fair', ['https://images.trvl-media.com/hotels/2000000/1790000/1787500/1787449/3723e5ea.jpg?impolicy=resizecrop&rw=598&ra=fit', 'https://images.trvl-media.com/hotels/2000000/1790000/1787500/1787449/d8e118b6.jpg?impolicy=resizecrop&rw=297&ra=fit', 'https://images.trvl-media.com/hotels/2000000/1790000/1787500/1787449/d74ade6b.jpg?impolicy=resizecrop&rw=297&ra=fit', 'https://images.trvl-media.com/hotels/2000000/1790000/1787500/1787449/e969ec0b.jpg?impolicy=resizecrop&rw=297&ra=fit', 'https://images.trvl-media.com/hotels/2000000/1790000/1787500/1787449/708c5bc4.jpg?impolicy=resizecrop&rw=297&ra=fit'], 'hotels.com'], ['JW Marriott Hotel Frankfurt', '0.29', '9.2', '5.0', '610', 'Thurn-und-Taxis-Platz 2, Frankfurt, HE, 60313', 'Luxury hotel with full-service spa, connected to a shopping center, near Zeil Shopping District', ['https://images.trvl-media.com/hotels/5000000/4320000/4313000/4312943/5746d613.jpg?impolicy=resizecrop&rw=598&ra=fit', 'https://images.trvl-media.com/hotels/5000000/4320000/4313000/4312943/aa3284b6.jpg?impolicy=resizecrop&rw=297&ra=fit', 'https://images.trvl-media.com/hotels/5000000/4320000/4313000/4312943/d3db88b0.jpg?impolicy=resizecrop&rw=297&ra=fit', 'https://images.trvl-media.com/hotels/5000000/4320000/4313000/4312943/be362040.jpg?impolicy=resizecrop&rw=297&ra=fit', 'https://images.trvl-media.com/hotels/5000000/4320000/4313000/4312943/f9279136.jpg?impolicy=resizecrop&rw=297&ra=fit'], 'hotels.com'], ['Steigenberger Icon Frankfurter Hof', '0.3', '9.0', '5.0', '620', 'Am Kaiserplatz, Bethmannstraße 33, Frankfurt, HE, 60311', 'Luxury hotel with 3 restaurants, near Frankfurt Trade Fair', ['https://images.trvl-media.com/hotels/1000000/20000/13800/13760/94f8044c.jpg?impolicy=resizecrop&rw=598&ra=fit', 'https://images.trvl-media.com/hotels/1000000/20000/13800/13760/a6935652.jpg?impolicy=resizecrop&rw=297&ra=fit', 'https://images.trvl-media.com/hotels/1000000/20000/13800/13760/5e355799.jpg?impolicy=resizecrop&rw=297&ra=fit', 'https://images.trvl-media.com/hotels/1000000/20000/13800/13760/17be0737.jpg?impolicy=resizecrop&rw=297&ra=fit', 'https://images.trvl-media.com/hotels/1000000/20000/13800/13760/074acea2.jpg?impolicy=resizecrop&rw=297&ra=fit'], 'hotels.com'], ['Hotel Schopenhauer Hof', '0.3', '9.0', '3.5', '280', 'Schöne Aussicht 14, Frankfurt, 60311', '3.5-star hotel with bar/lounge, near Zeil Shopping District', ['https://images.trvl-media.com/hotels/35000000/34500000/34494700/34494601/cc9d83d3.jpg?impolicy=resizecrop&rw=598&ra=fit', 'https://images.trvl-media.com/hotels/35000000/34500000/34494700/34494601/d8149d12.jpg?impolicy=resizecrop&rw=297&ra=fit', 'https://images.trvl-media.com/hotels/35000000/34500000/34494700/34494601/e144d5b1.jpg?impolicy=resizecrop&rw=297&ra=fit', 'https://images.trvl-media.com/hotels/35000000/34500000/34494700/34494601/3affa41f.jpg?impolicy=resizecrop&rw=297&ra=fit', 'https://images.trvl-media.com/hotels/35000000/34500000/34494700/34494601/3887311a.jpg?impolicy=resizecrop&rw=297&ra=fit'], 'hotels.com'], ['Willy Hotel Frankfurt', '0.36', '5.2', '3.0', '144', 'Neue Mainzer Strasse 24, Frankfurt, HE, 60311', '3-star hotel, convenient to Frankfurt Trade Fair', ['https://images.trvl-media.com/hotels/8000000/7050000/7048400/7048334/bf9bf72d.jpg?impolicy=resizecrop&rw=598&ra=fit', 'https://images.trvl-media.com/hotels/8000000/7050000/7048400/7048334/6eb6671a.jpg?impolicy=resizecrop&rw=297&ra=fit', 'https://images.trvl-media.com/hotels/8000000/7050000/7048400/7048334/0a800d76.jpg?impolicy=resizecrop&rw=297&ra=fit', 'https://images.trvl-media.com/hotels/8000000/7050000/7048400/7048334/0c80bfe7.jpg?impolicy=resizecrop&rw=297&ra=fit', 'https://images.trvl-media.com/hotels/8000000/7050000/7048400/7048334/87132977.jpg?impolicy=resizecrop&rw=297&ra=fit'], 'hotels.com'], ['Moxy Frankfurt City Center', '0.37', '8.6', '3.0', '252', 'Thurn-und-Taxis-Platz 8, Frankfurt, 60313', '3-star hotel with bar/lounge, near Frankfurt Trade Fair', ['https://images.trvl-media.com/hotels/28000000/27050000/27042200/27042178/aaf57e58.jpg?impolicy=resizecrop&rw=598&ra=fit', 'https://images.trvl-media.com/hotels/28000000/27050000/27042200/27042178/b98c6284.jpg?impolicy=resizecrop&rw=297&ra=fit', 'https://images.trvl-media.com/hotels/28000000/27050000/27042200/27042178/a976b072.jpg?impolicy=resizecrop&rw=297&ra=fit', 'https://images.trvl-media.com/hotels/28000000/27050000/27042200/27042178/89303fa9.jpg?impolicy=resizecrop&rw=297&ra=fit', 'https://images.trvl-media.com/hotels/28000000/27050000/27042200/27042178/82dba3ac.jpg?impolicy=resizecrop&rw=297&ra=fit'], 'hotels.com'], ['Ruby Louise Hotel Frankfurt', '0.39', '8.8', '3.5', '292', 'Neue Rothofstraße 3, Frankfurt, HE, 60313', '3.5-star hotel with bar/lounge, near Frankfurt Trade Fair', ['https://images.trvl-media.com/hotels/57000000/56550000/56548800/56548732/e0496523.jpg?impolicy=resizecrop&rw=598&ra=fit', 'https://images.trvl-media.com/hotels/57000000/56550000/56548800/56548732/0f018a2e.jpg?impolicy=resizecrop&rw=297&ra=fit', 'https://images.trvl-media.com/hotels/57000000/56550000/56548800/56548732/3b5fa42a.jpg?impolicy=resizecrop&rw=297&ra=fit', 'https://images.trvl-media.com/hotels/57000000/56550000/56548800/56548732/ed040efa.jpg?impolicy=resizecrop&rw=297&ra=fit', 'https://images.trvl-media.com/hotels/57000000/56550000/56548800/56548732/4c3c104a.jpg?impolicy=resizecrop&rw=297&ra=fit'], 'hotels.com'], ['Residence Inn by Marriott Frankfurt City Center', '0.39', '8.6', '4.0', '444', 'Stiftstrasse 43, Frankfurt, Hessen, 60313', '4-star hotel with 24-hour fitness, near Frankfurt Trade Fair', ['https://images.trvl-media.com/hotels/28000000/27350000/27341800/27341721/81813201.jpg?impolicy=resizecrop&rw=598&ra=fit', 'https://images.trvl-media.com/hotels/28000000/27350000/27341800/27341721/f0e93b5c.jpg?impolicy=resizecrop&rw=297&ra=fit', 'https://images.trvl-media.com/hotels/28000000/27350000/27341800/27341721/2537be01.jpg?impolicy=resizecrop&rw=297&ra=fit', 'https://images.trvl-media.com/hotels/28000000/27350000/27341800/27341721/97be13c9.jpg?impolicy=resizecrop&rw=297&ra=fit', 'https://images.trvl-media.com/hotels/28000000/27350000/27341800/27341721/f47ab777.jpg?impolicy=resizecrop&rw=297&ra=fit'], 'hotels.com'], ['The Westin Grand Frankfurt', '0.41', '8.6', '5.0', '452', 'Konrad-Adenauer-Str. 7, Frankfurt, HE, 60313', 'Luxury hotel with 2 restaurants, near Frankfurt Trade Fair', ['https://images.trvl-media.com/hotels/1000000/20000/19000/18966/e6262dc0.jpg?impolicy=resizecrop&rw=598&ra=fit', 'https://images.trvl-media.com/hotels/1000000/20000/19000/18966/9ad2614c.jpg?impolicy=resizecrop&rw=297&ra=fit', 'https://images.trvl-media.com/hotels/1000000/20000/19000/18966/ede38018.jpg?impolicy=resizecrop&rw=297&ra=fit', 'https://images.trvl-media.com/hotels/1000000/20000/19000/18966/fc070e2b.jpg?impolicy=resizecrop&rw=297&ra=fit', 'https://images.trvl-media.com/hotels/1000000/20000/19000/18966/fa8135c6.jpg?impolicy=resizecrop&rw=297&ra=fit'], 'hotels.com'], ['Hotel Scala Frankfurt City', '0.43', '7.8', '3.5', '154', 'Schaefergasse 31, Frankfurt, HE, 60313', 'City-center hotel within easy reach of Frankfurt Trade Fair', ['https://images.trvl-media.com/hotels/1000000/80000/70900/70830/ebc47fd7.jpg?impolicy=resizecrop&rw=598&ra=fit', 'https://images.trvl-media.com/hotels/1000000/80000/70900/70830/8992bced.jpg?impolicy=resizecrop&rw=297&ra=fit', 'https://images.trvl-media.com/hotels/1000000/80000/70900/70830/f333a1b6.jpg?impolicy=resizecrop&rw=297&ra=fit', 'https://images.trvl-media.com/hotels/1000000/80000/70900/70830/25cafbf8.jpg?impolicy=resizecrop&rw=297&ra=fit', 'https://images.trvl-media.com/hotels/1000000/80000/70900/70830/fa429982.jpg?impolicy=resizecrop&rw=297&ra=fit'], 'hotels.com'], ['Grand Hotel Dream Frankfurt City', '0.44', '7.6', '4.0', '225', 'Albusstr 9-11, Frankfurt, HE, 60313', '4-star hotel with restaurant, near Frankfurt Trade Fair', ['https://images.trvl-media.com/hotels/3000000/2570000/2566900/2566844/82521279.jpg?impolicy=resizecrop&rw=598&ra=fit', 'https://images.trvl-media.com/hotels/3000000/2570000/2566900/2566844/12cca99d.jpg?impolicy=resizecrop&rw=297&ra=fit', 'https://images.trvl-media.com/hotels/3000000/2570000/2566900/2566844/e85e0d3e.jpg?impolicy=resizecrop&rw=297&ra=fit', 'https://images.trvl-media.com/hotels/3000000/2570000/2566900/2566844/4d9ca253.jpg?impolicy=resizecrop&rw=297&ra=fit', 'https://images.trvl-media.com/hotels/3000000/2570000/2566900/2566844/a6db004b.jpg?impolicy=resizecrop&rw=297&ra=fit'], 'hotels.com'], ['Hilton Frankfurt City Centre', '0.44', '8.4', -1, '450', 'Hochstrasse 4, Frankfurt, 60313', 'Family-friendly hotel with spa, near Frankfurt Trade Fair', ['https://images.trvl-media.com/hotels/1000000/150000/142600/142502/98e31691.jpg?impolicy=resizecrop&rw=598&ra=fit', 'https://images.trvl-media.com/hotels/1000000/150000/142600/142502/565ac9b7.jpg?impolicy=resizecrop&rw=297&ra=fit', 'https://images.trvl-media.com/hotels/1000000/150000/142600/142502/6db5cd34.jpg?impolicy=resizecrop&rw=297&ra=fit', 'https://images.trvl-media.com/hotels/1000000/150000/142600/142502/50fcf29b.jpg?impolicy=resizecrop&rw=297&ra=fit', 'https://images.trvl-media.com/hotels/1000000/150000/142600/142502/c08dad2c.jpg?impolicy=resizecrop&rw=297&ra=fit'], 'hotels.com'], ['Flemings Hotel Frankfurt Main - Riverside', '0.46', '8.4', '4.0', '331', 'Lange Straße 5-9, Frankfurt, HE, 60311', 'Riverfront hotel in Altstadt Frankfurt with spa and restaurant', ['https://images.trvl-media.com/hotels/1000000/560000/558400/558395/c3ffefa9.jpg?impolicy=resizecrop&rw=598&ra=fit', 'https://images.trvl-media.com/hotels/1000000/560000/558400/558395/ac6c1aed.jpg?impolicy=resizecrop&rw=297&ra=fit', 'https://images.trvl-media.com/hotels/1000000/560000/558400/558395/e314f5d5.jpg?impolicy=resizecrop&rw=297&ra=fit', 'https://images.trvl-media.com/hotels/1000000/560000/558400/558395/a7faa3f3.jpg?impolicy=resizecrop&rw=297&ra=fit', 'https://images.trvl-media.com/hotels/1000000/560000/558400/558395/9dab08cb.jpg?impolicy=resizecrop&rw=297&ra=fit'], 'hotels.com'], ['Flemings Selection Hotel Frankfurt', '0.46', '8.0', '4.5', '425', 'Eschenheimer Tor 2, Frankfurt, HE, 60318', 'Luxury hotel with full-service spa, connected to the convention center, near Zeil Shopping District', ['https://images.trvl-media.com/hotels/2000000/1850000/1841600/1841557/d30d6e44.jpg?impolicy=resizecrop&rw=598&ra=fit', 'https://images.trvl-media.com/hotels/2000000/1850000/1841600/1841557/40e13754.jpg?impolicy=resizecrop&rw=297&ra=fit', 'https://images.trvl-media.com/hotels/2000000/1850000/1841600/1841557/311b1a6f.jpg?impolicy=resizecrop&rw=297&ra=fit', 'https://images.trvl-media.com/hotels/2000000/1850000/1841600/1841557/1631cefb.jpg?impolicy=resizecrop&rw=297&ra=fit', 'https://images.trvl-media.com/hotels/2000000/1850000/1841600/1841557/b2268832.jpg?impolicy=resizecrop&rw=297&ra=fit'], 'hotels.com'], ['INNSiDE by Melia Frankfurt Eurotheum', '0.48', '8.6', -1, '342', 'Neue Mainzer Str. 66-68, Frankfurt, HE, 60311', 'UNESCO Sustainable Travel Pledge', ['https://images.trvl-media.com/hotels/1000000/530000/526200/526129/aba7a718.jpg?impolicy=resizecrop&rw=598&ra=fit', 'https://images.trvl-media.com/hotels/1000000/530000/526200/526129/0fdb1a75.jpg?impolicy=resizecrop&rw=297&ra=fit', 'https://images.trvl-media.com/hotels/1000000/530000/526200/526129/28759270.jpg?impolicy=resizecrop&rw=297&ra=fit', 'https://images.trvl-media.com/hotels/1000000/530000/526200/526129/0eeee3fb.jpg?impolicy=resizecrop&rw=297&ra=fit', 'https://images.trvl-media.com/hotels/1000000/530000/526200/526129/w3541h2362x0y0-effb12f3.jpg?impolicy=resizecrop&rw=297&ra=fit'], 'hotels.com'], ['Limehome Frankfurt Gutleutstraße', '0.49', -1, '3.0', '180', 'Gutleutstraße 5, Frankfurt, HE, 60329', 'City-center hotel within easy reach of Frankfurt Trade Fair', ['https://images.trvl-media.com/hotels/68000000/67340000/67336500/67336430/f169e9f2.jpg?impolicy=resizecrop&rw=598&ra=fit', 'https://images.trvl-media.com/hotels/68000000/67340000/67336500/67336430/16b422bb.jpg?impolicy=resizecrop&rw=297&ra=fit', 'https://images.trvl-media.com/hotels/68000000/67340000/67336500/67336430/3a7b22a9.jpg?impolicy=resizecrop&rw=297&ra=fit', 'https://images.trvl-media.com/hotels/68000000/67340000/67336500/67336430/d0b09167.jpg?impolicy=resizecrop&rw=297&ra=fit', 'https://images.trvl-media.com/hotels/68000000/67340000/67336500/67336430/cd729633.jpg?impolicy=resizecrop&rw=297&ra=fit'], 'hotels.com'], ['NH Collection Frankfurt City', '0.49', '8.4', '4.5', '354', 'Vilbeler Str. 2, Frankfurt, HE, 60313', 'Luxury hotel with restaurant, connected to a shopping center, near Frankfurt Trade Fair', ['https://images.trvl-media.com/hotels/1000000/920000/912800/912770/022383b2.jpg?impolicy=resizecrop&rw=598&ra=fit', 'https://images.trvl-media.com/hotels/1000000/920000/912800/912770/d1962d73.jpg?impolicy=resizecrop&rw=297&ra=fit', 'https://images.trvl-media.com/hotels/1000000/920000/912800/912770/26b64282.jpg?impolicy=resizecrop&rw=297&ra=fit', 'https://images.trvl-media.com/hotels/1000000/920000/912800/912770/eb8093f1.jpg?impolicy=resizecrop&rw=297&ra=fit', 'https://images.trvl-media.com/hotels/1000000/920000/912800/912770/e470bb69.jpg?impolicy=resizecrop&rw=297&ra=fit'], 'hotels.com'], ['Maingau Hotel', '0.49', '7.8', '3.0', '240', 'Schifferstr. 38-40, Frankfurt, HE, 60594', '3-star hotel, convenient to Frankfurt Trade Fair', ['https://images.trvl-media.com/hotels/3000000/2530000/2524700/2524644/ffd90ee9.jpg?impolicy=resizecrop&rw=598&ra=fit', 'https://images.trvl-media.com/hotels/3000000/2530000/2524700/2524644/9692a0c9.jpg?impolicy=resizecrop&rw=297&ra=fit', 'https://images.trvl-media.com/hotels/3000000/2530000/2524700/2524644/dd32c786.jpg?impolicy=resizecrop&rw=297&ra=fit', 'https://images.trvl-media.com/hotels/3000000/2530000/2524700/2524644/8b5de8c5.jpg?impolicy=resizecrop&rw=297&ra=fit', 'https://images.trvl-media.com/hotels/3000000/2530000/2524700/2524644/750c6534.jpg?impolicy=resizecrop&rw=297&ra=fit'], 'hotels.com']]\n"
          ]
        }
      ]
    },
    {
      "cell_type": "code",
      "source": [
        "#save hotels.com hotels in a seperate CSV file for testing and validation\n",
        "hotel_com_hotels = pd.DataFrame(hotel_com_hotels_data, columns=['Name', 'Distance From City Center(miles)', 'Review Score', 'Star Rating', 'Price Per Night (USD)', 'Address', 'Description', 'Images', 'Source'])\n",
        "# save hotels.com data to csv\n",
        "hotel_com_hotels.to_csv('hotel_com_hotels.csv', index=False)"
      ],
      "metadata": {
        "id": "uXrdnOK3IjRs"
      },
      "execution_count": 78,
      "outputs": []
    },
    {
      "cell_type": "code",
      "source": [
        "# This is the main method that send HTTP GET to travelocity.com\n",
        "# And Fetch the listing page first. As the listing becomes available\n",
        "# I get the hotel detail page URL and send another HTTP GET to fetch\n",
        "# hotel details that are not available on the listing page e.g. images\n",
        "\n",
        "def parse_travelocity_hotels(url):\n",
        "  hotels_data = []\n",
        "  #execute scroll using selenium so that all hotels becomes available\n",
        "  #within DOM and then fetch them and hands over the markup to BeautifulSoup\n",
        "  #for parsing\n",
        "  all_hotels_markup = scroll_fetch_data(url)\n",
        "  soup = BeautifulSoup(all_hotels_markup,'lxml')\n",
        "  \n",
        "  # Get star rating\n",
        "  hotel_star_rating = -1\n",
        "  \n",
        "  for item in soup.select('li.uitk-spacing-margin-blockstart-three'):\n",
        "    if item.has_attr('data-stid'):\n",
        "      continue\n",
        "    try:\n",
        "      # Get Price\n",
        "      hotel_price_per_night = item.select('.uitk-text.uitk-type-600.uitk-type-bold.uitk-text-emphasis-theme')\n",
        "      if len(hotel_price_per_night) > 0:\n",
        "        hotel_price_per_night = hotel_price_per_night[0].get_text().strip().lstrip('$')\n",
        "      # hoten page link\n",
        "      hotel_page_link = 'https://www.travelocity.com/' + item.select('.uitk-card-link')[0].get('href')\n",
        "      hotel_page = requests.get(hotel_page_link, headers=headers)\n",
        "      # hotel: detail page markup|document\n",
        "      hotel = BeautifulSoup(hotel_page.content,'lxml')\n",
        "      hotel_main_tab = hotel.select('.uitk-card-content-section.uitk-card-content-section-padded.uitk-card.uitk-card-roundcorner-all.uitk-spacing.uitk-flat-border-top')[0]\n",
        "      # get hotel name\n",
        "      hotel_name = hotel_main_tab.select('.uitk-heading-3')\n",
        "      if len(hotel_name) > 0:\n",
        "        hotel_name = hotel_name[0].get_text().strip()\n",
        "      #distance from city centre\n",
        "      hotel_distance_city_centre = item.select('.uitk-text.uitk-text-spacing-half.truncate-lines-2.uitk-type-300.uitk-text-default-theme')\n",
        "      if len(hotel_distance_city_centre) > 0:\n",
        "        hotel_distance_city_centre = hotel_distance_city_centre[0].get_text().strip().split()[0]\n",
        "      else:\n",
        "        hotel_distance_city_centre = -1\n",
        "      # Get review score\n",
        "      hotel_review_score = hotel_main_tab.select('.uitk-spacing.uitk-spacing-padding-blockend-six')\n",
        "      if len(hotel_review_score) > 0:\n",
        "        # I re-scaled the data from 1-5 to 1-10\n",
        "        meta_tag = hotel_review_score[0].select('meta')\n",
        "        if len(meta_tag) > 0:\n",
        "          hotel_review_score = convert(float(meta_tag[0].get('content')))\n",
        "        else:\n",
        "          hotel_review_score = -1\n",
        "      else:\n",
        "        hotel_review_score = -1\n",
        "      # Address\n",
        "      hotel_address = hotel_main_tab.select('.uitk-text.uitk-type-300.uitk-text-default-theme.uitk-layout-flex-item.uitk-layout-flex-item-flex-basis-full_width')\n",
        "      if len(hotel_address) > 0:\n",
        "        hotel_address = hotel_address[0].get_text().strip()\n",
        "      # description\n",
        "      hotel_description = hotel_main_tab.select('.uitk-subheading')\n",
        "      if(len(hotel_description) > 0):\n",
        "        hotel_description = hotel_description[0].get_text().strip()\n",
        "      # images\n",
        "      image_list = []\n",
        "      hotel_images = hotel.select('#Overview img.uitk-image-media')\n",
        "      for hotel_image in hotel_images:\n",
        "        if len(image_list) < 5:\n",
        "          image_url = hotel_image.get('src')\n",
        "          image_list.append(image_url) \n",
        "    except Exception as e:\n",
        "      print('something went wrong while parsing hotel data from travelocity.com')\n",
        "    hotels_data.append([hotel_name,hotel_distance_city_centre,hotel_review_score,hotel_star_rating,hotel_price_per_night,hotel_address,hotel_description,image_list,'travelocity.com'])\n",
        "  return hotels_data\n",
        "\n",
        "# Get 50 hotels from travelocity.com\n",
        "travelocity_url = \"https://www.travelocity.com/Hotel-Search?adults=1&d1=2022-10-05&d2=2022-10-06&destination=Frankfurt%20%28and%20vicinity%29%2C%20Hessen%2C%20Germany&directFlights=false&endDate=2022-10-06&l10n=%5Bobject%20Object%5D&latLong=50.108788%2C8.665647&localDateFormat=M%2Fd%2Fyyyy&partialStay=false&regionId=179894&semdtl=&sort=DISTANCE&startDate=2022-10-05&theme=&useRewards=false\"\n",
        "travelocity_hotels_data = parse_travelocity_hotels(travelocity_url)"
      ],
      "metadata": {
        "id": "1O7JMcCjTme4"
      },
      "execution_count": 86,
      "outputs": []
    },
    {
      "cell_type": "code",
      "source": [
        "#save travelocity hotels in a seperate CSV file for testing and validation\n",
        "travelocity_hotels = pd.DataFrame(travelocity_hotels_data, columns=['Name', 'Distance From City Center(miles)', 'Review Score', 'Star Rating', 'Price Per Night (USD)', 'Address', 'Description', 'Images','Source'])\n",
        "# save travelocity data to csv\n",
        "travelocity_hotels.to_csv('travelocity_hotels.csv', index=False)"
      ],
      "metadata": {
        "id": "8gu2XGsggrvv"
      },
      "execution_count": 87,
      "outputs": []
    },
    {
      "cell_type": "code",
      "source": [
        "#merge all hotels from three different sources into one for EDA\n",
        "all_hotels_data = booking_hotels_data + hotel_com_hotels_data + travelocity_hotels_data\n",
        "data_set = pd.DataFrame(all_hotels_data, columns=['hotel-name', 'distance-frm-cc-miles', 'review-score', 'star-rating', 'price-usd', 'address', 'desc', 'images','data-source'])\n",
        "# save data set to csv\n",
        "data_set.to_csv('hotels_dataset.csv', index=False)"
      ],
      "metadata": {
        "id": "vQJynOVhH9mh"
      },
      "execution_count": 124,
      "outputs": []
    },
    {
      "cell_type": "code",
      "source": [
        "#Import Libraries\n",
        "import numpy as np\n",
        "import matplotlib.pylab as plt\n",
        "import seaborn as sns #Understanding my variables\n",
        "\n",
        "# read hotels dataset\n",
        "df = pd.read_csv('hotels_dataset.csv')\n",
        "#Data cleanup for visualisation\n",
        "df = df.replace(-1, np.NaN)"
      ],
      "metadata": {
        "id": "y8i4WZf-GepQ"
      },
      "execution_count": null,
      "outputs": []
    },
    {
      "cell_type": "code",
      "source": [
        "#data prepration for EDA, following method infer data types from data and replace them in place\n",
        "#hence providing data that can be plotted using graph libraries like matplotlib or seaborn\n",
        "df = df.infer_objects()"
      ],
      "metadata": {
        "colab": {
          "base_uri": "https://localhost:8080/"
        },
        "id": "qzffnW-HQCbM",
        "outputId": "a7ead4a2-e5bf-4d93-aff1-4a3cdf5ac1de"
      },
      "execution_count": 127,
      "outputs": [
        {
          "output_type": "execute_result",
          "data": {
            "text/plain": [
              "hotel-name                object\n",
              "distance-frm-cc-miles    float64\n",
              "review-score             float64\n",
              "star-rating              float64\n",
              "price-usd                  int64\n",
              "address                   object\n",
              "desc                      object\n",
              "images                    object\n",
              "data-source               object\n",
              "dtype: object"
            ]
          },
          "metadata": {},
          "execution_count": 127
        }
      ]
    },
    {
      "cell_type": "code",
      "source": [
        "# Descriptive Analysis; This gives an overall idea of how the data is distributed between \n",
        "#min, max and what are the mean and standard deviations so that We can validate the graphs \n",
        "#and find correaltion between features for more comprehensive EDA\n",
        "df.describe().apply(lambda s: s.apply(lambda x: format(x, 'f')))"
      ],
      "metadata": {
        "colab": {
          "base_uri": "https://localhost:8080/",
          "height": 300
        },
        "id": "AdyXA4AAWyRS",
        "outputId": "f95b9e6c-99f7-4227-854f-eac5f5cba3f8"
      },
      "execution_count": 139,
      "outputs": [
        {
          "output_type": "execute_result",
          "data": {
            "text/plain": [
              "      distance-frm-cc-miles review-score star-rating   price-usd\n",
              "count            120.000000   117.000000   67.000000  120.000000\n",
              "mean               1.038083     7.796154    3.559701  251.666667\n",
              "std                1.666750     0.888920    0.915036  104.267943\n",
              "min                0.010000     4.375000    0.000000   21.000000\n",
              "25%                0.190000     7.300000    3.000000  180.000000\n",
              "50%                0.365000     8.000000    4.000000  244.000000\n",
              "75%                0.900000     8.400000    4.000000  294.750000\n",
              "max                7.100000     9.200000    5.000000  620.000000"
            ],
            "text/html": [
              "\n",
              "  <div id=\"df-2c9244cb-43c8-459c-9f7b-eff0e5f92ae2\">\n",
              "    <div class=\"colab-df-container\">\n",
              "      <div>\n",
              "<style scoped>\n",
              "    .dataframe tbody tr th:only-of-type {\n",
              "        vertical-align: middle;\n",
              "    }\n",
              "\n",
              "    .dataframe tbody tr th {\n",
              "        vertical-align: top;\n",
              "    }\n",
              "\n",
              "    .dataframe thead th {\n",
              "        text-align: right;\n",
              "    }\n",
              "</style>\n",
              "<table border=\"1\" class=\"dataframe\">\n",
              "  <thead>\n",
              "    <tr style=\"text-align: right;\">\n",
              "      <th></th>\n",
              "      <th>distance-frm-cc-miles</th>\n",
              "      <th>review-score</th>\n",
              "      <th>star-rating</th>\n",
              "      <th>price-usd</th>\n",
              "    </tr>\n",
              "  </thead>\n",
              "  <tbody>\n",
              "    <tr>\n",
              "      <th>count</th>\n",
              "      <td>120.000000</td>\n",
              "      <td>117.000000</td>\n",
              "      <td>67.000000</td>\n",
              "      <td>120.000000</td>\n",
              "    </tr>\n",
              "    <tr>\n",
              "      <th>mean</th>\n",
              "      <td>1.038083</td>\n",
              "      <td>7.796154</td>\n",
              "      <td>3.559701</td>\n",
              "      <td>251.666667</td>\n",
              "    </tr>\n",
              "    <tr>\n",
              "      <th>std</th>\n",
              "      <td>1.666750</td>\n",
              "      <td>0.888920</td>\n",
              "      <td>0.915036</td>\n",
              "      <td>104.267943</td>\n",
              "    </tr>\n",
              "    <tr>\n",
              "      <th>min</th>\n",
              "      <td>0.010000</td>\n",
              "      <td>4.375000</td>\n",
              "      <td>0.000000</td>\n",
              "      <td>21.000000</td>\n",
              "    </tr>\n",
              "    <tr>\n",
              "      <th>25%</th>\n",
              "      <td>0.190000</td>\n",
              "      <td>7.300000</td>\n",
              "      <td>3.000000</td>\n",
              "      <td>180.000000</td>\n",
              "    </tr>\n",
              "    <tr>\n",
              "      <th>50%</th>\n",
              "      <td>0.365000</td>\n",
              "      <td>8.000000</td>\n",
              "      <td>4.000000</td>\n",
              "      <td>244.000000</td>\n",
              "    </tr>\n",
              "    <tr>\n",
              "      <th>75%</th>\n",
              "      <td>0.900000</td>\n",
              "      <td>8.400000</td>\n",
              "      <td>4.000000</td>\n",
              "      <td>294.750000</td>\n",
              "    </tr>\n",
              "    <tr>\n",
              "      <th>max</th>\n",
              "      <td>7.100000</td>\n",
              "      <td>9.200000</td>\n",
              "      <td>5.000000</td>\n",
              "      <td>620.000000</td>\n",
              "    </tr>\n",
              "  </tbody>\n",
              "</table>\n",
              "</div>\n",
              "      <button class=\"colab-df-convert\" onclick=\"convertToInteractive('df-2c9244cb-43c8-459c-9f7b-eff0e5f92ae2')\"\n",
              "              title=\"Convert this dataframe to an interactive table.\"\n",
              "              style=\"display:none;\">\n",
              "        \n",
              "  <svg xmlns=\"http://www.w3.org/2000/svg\" height=\"24px\"viewBox=\"0 0 24 24\"\n",
              "       width=\"24px\">\n",
              "    <path d=\"M0 0h24v24H0V0z\" fill=\"none\"/>\n",
              "    <path d=\"M18.56 5.44l.94 2.06.94-2.06 2.06-.94-2.06-.94-.94-2.06-.94 2.06-2.06.94zm-11 1L8.5 8.5l.94-2.06 2.06-.94-2.06-.94L8.5 2.5l-.94 2.06-2.06.94zm10 10l.94 2.06.94-2.06 2.06-.94-2.06-.94-.94-2.06-.94 2.06-2.06.94z\"/><path d=\"M17.41 7.96l-1.37-1.37c-.4-.4-.92-.59-1.43-.59-.52 0-1.04.2-1.43.59L10.3 9.45l-7.72 7.72c-.78.78-.78 2.05 0 2.83L4 21.41c.39.39.9.59 1.41.59.51 0 1.02-.2 1.41-.59l7.78-7.78 2.81-2.81c.8-.78.8-2.07 0-2.86zM5.41 20L4 18.59l7.72-7.72 1.47 1.35L5.41 20z\"/>\n",
              "  </svg>\n",
              "      </button>\n",
              "      \n",
              "  <style>\n",
              "    .colab-df-container {\n",
              "      display:flex;\n",
              "      flex-wrap:wrap;\n",
              "      gap: 12px;\n",
              "    }\n",
              "\n",
              "    .colab-df-convert {\n",
              "      background-color: #E8F0FE;\n",
              "      border: none;\n",
              "      border-radius: 50%;\n",
              "      cursor: pointer;\n",
              "      display: none;\n",
              "      fill: #1967D2;\n",
              "      height: 32px;\n",
              "      padding: 0 0 0 0;\n",
              "      width: 32px;\n",
              "    }\n",
              "\n",
              "    .colab-df-convert:hover {\n",
              "      background-color: #E2EBFA;\n",
              "      box-shadow: 0px 1px 2px rgba(60, 64, 67, 0.3), 0px 1px 3px 1px rgba(60, 64, 67, 0.15);\n",
              "      fill: #174EA6;\n",
              "    }\n",
              "\n",
              "    [theme=dark] .colab-df-convert {\n",
              "      background-color: #3B4455;\n",
              "      fill: #D2E3FC;\n",
              "    }\n",
              "\n",
              "    [theme=dark] .colab-df-convert:hover {\n",
              "      background-color: #434B5C;\n",
              "      box-shadow: 0px 1px 3px 1px rgba(0, 0, 0, 0.15);\n",
              "      filter: drop-shadow(0px 1px 2px rgba(0, 0, 0, 0.3));\n",
              "      fill: #FFFFFF;\n",
              "    }\n",
              "  </style>\n",
              "\n",
              "      <script>\n",
              "        const buttonEl =\n",
              "          document.querySelector('#df-2c9244cb-43c8-459c-9f7b-eff0e5f92ae2 button.colab-df-convert');\n",
              "        buttonEl.style.display =\n",
              "          google.colab.kernel.accessAllowed ? 'block' : 'none';\n",
              "\n",
              "        async function convertToInteractive(key) {\n",
              "          const element = document.querySelector('#df-2c9244cb-43c8-459c-9f7b-eff0e5f92ae2');\n",
              "          const dataTable =\n",
              "            await google.colab.kernel.invokeFunction('convertToInteractive',\n",
              "                                                     [key], {});\n",
              "          if (!dataTable) return;\n",
              "\n",
              "          const docLinkHtml = 'Like what you see? Visit the ' +\n",
              "            '<a target=\"_blank\" href=https://colab.research.google.com/notebooks/data_table.ipynb>data table notebook</a>'\n",
              "            + ' to learn more about interactive tables.';\n",
              "          element.innerHTML = '';\n",
              "          dataTable['output_type'] = 'display_data';\n",
              "          await google.colab.output.renderOutput(dataTable, element);\n",
              "          const docLink = document.createElement('div');\n",
              "          docLink.innerHTML = docLinkHtml;\n",
              "          element.appendChild(docLink);\n",
              "        }\n",
              "      </script>\n",
              "    </div>\n",
              "  </div>\n",
              "  "
            ]
          },
          "metadata": {},
          "execution_count": 139
        }
      ]
    },
    {
      "cell_type": "code",
      "source": [
        "#This shows correlation between distance from center and price per night\n",
        "#If the hotel is closer to city center prices tend to be around and above $200\n",
        "#goes to $500 though there are very few options but hotels that are far away from city centre\n",
        "#has prices less than 300 USD\n",
        "df.plot(kind='scatter', x='distance-frm-cc-miles', y='price-usd')"
      ],
      "metadata": {
        "colab": {
          "base_uri": "https://localhost:8080/",
          "height": 296
        },
        "id": "lXQ-BmndOgg-",
        "outputId": "f38a0ab0-473a-4656-f194-ae59eeafd9e5"
      },
      "execution_count": 140,
      "outputs": [
        {
          "output_type": "execute_result",
          "data": {
            "text/plain": [
              "<matplotlib.axes._subplots.AxesSubplot at 0x7fef1508d0d0>"
            ]
          },
          "metadata": {},
          "execution_count": 140
        },
        {
          "output_type": "display_data",
          "data": {
            "text/plain": [
              "<Figure size 432x288 with 1 Axes>"
            ],
            "image/png": "[encoded data removed]"
          },
          "metadata": {
            "needs_background": "light"
          }
        }
      ]
    },
    {
      "cell_type": "code",
      "source": [
        "#This comprehensive relation between major factors \n",
        "#a person takes into consideration while choosing a hotel\n",
        "#like distance from city centre, reviews score, five star rating \n",
        "#and correspoding price \n",
        "sns.pairplot(df)"
      ],
      "metadata": {
        "colab": {
          "base_uri": "https://localhost:8080/",
          "height": 743
        },
        "id": "aCQ-m-5lfwgE",
        "outputId": "2da9bd79-6a36-4d7c-b307-1fc20843f239"
      },
      "execution_count": 141,
      "outputs": [
        {
          "output_type": "execute_result",
          "data": {
            "text/plain": [
              "<seaborn.axisgrid.PairGrid at 0x7fef10575e10>"
            ]
          },
          "metadata": {},
          "execution_count": 141
        },
        {
          "output_type": "display_data",
          "data": {
            "text/plain": [
              "<Figure size 720x720 with 20 Axes>"
            ],
            "image/png": "[encoded data removed]"
          },
          "metadata": {
            "needs_background": "light"
          }
        }
      ]
    },
    {
      "cell_type": "code",
      "source": [
        "df['price-usd'].plot(kind='hist', bins=50, figsize=(12,6), facecolor='grey',edgecolor='black')"
      ],
      "metadata": {
        "colab": {
          "base_uri": "https://localhost:8080/",
          "height": 391
        },
        "id": "99dxoGpxjKmn",
        "outputId": "5e571134-cd82-445d-86ba-99e4b28bdfc5"
      },
      "execution_count": 144,
      "outputs": [
        {
          "output_type": "execute_result",
          "data": {
            "text/plain": [
              "<matplotlib.axes._subplots.AxesSubplot at 0x7fef10a9d5d0>"
            ]
          },
          "metadata": {},
          "execution_count": 144
        },
        {
          "output_type": "display_data",
          "data": {
            "text/plain": [
              "<Figure size 864x432 with 1 Axes>"
            ],
            "image/png": "[encoded data removed]"
          },
          "metadata": {
            "needs_background": "light"
          }
        }
      ]
    },
    {
      "cell_type": "code",
      "source": [
        "df['star-rating'].describe()"
      ],
      "metadata": {
        "colab": {
          "base_uri": "https://localhost:8080/"
        },
        "id": "YE1wKEmmmDX5",
        "outputId": "f59286be-4509-4dc4-832c-c506be8085d7"
      },
      "execution_count": 146,
      "outputs": [
        {
          "output_type": "execute_result",
          "data": {
            "text/plain": [
              "count    67.000000\n",
              "mean      3.559701\n",
              "std       0.915036\n",
              "min       0.000000\n",
              "25%       3.000000\n",
              "50%       4.000000\n",
              "75%       4.000000\n",
              "max       5.000000\n",
              "Name: star-rating, dtype: float64"
            ]
          },
          "metadata": {},
          "execution_count": 146
        }
      ]
    },
    {
      "cell_type": "code",
      "source": [
        "df['star-rating'].value_counts()"
      ],
      "metadata": {
        "colab": {
          "base_uri": "https://localhost:8080/"
        },
        "id": "BdHPC9j6mNpV",
        "outputId": "3de69687-503a-4cb4-b4b1-3f280ce15789"
      },
      "execution_count": 147,
      "outputs": [
        {
          "output_type": "execute_result",
          "data": {
            "text/plain": [
              "4.0    31\n",
              "3.0    22\n",
              "5.0     5\n",
              "3.5     3\n",
              "2.0     2\n",
              "0.0     2\n",
              "4.5     2\n",
              "Name: star-rating, dtype: int64"
            ]
          },
          "metadata": {},
          "execution_count": 147
        }
      ]
    },
    {
      "cell_type": "code",
      "source": [
        "df['star-rating'].hist(bins=30)"
      ],
      "metadata": {
        "colab": {
          "base_uri": "https://localhost:8080/",
          "height": 282
        },
        "id": "njUJ8p3Qm0aU",
        "outputId": "53671bdf-e6d9-4671-dd85-90ced11ae410"
      },
      "execution_count": 150,
      "outputs": [
        {
          "output_type": "execute_result",
          "data": {
            "text/plain": [
              "<matplotlib.axes._subplots.AxesSubplot at 0x7fef10387f50>"
            ]
          },
          "metadata": {},
          "execution_count": 150
        },
        {
          "output_type": "display_data",
          "data": {
            "text/plain": [
              "<Figure size 432x288 with 1 Axes>"
            ],
            "image/png": "[encoded data removed]"
          },
          "metadata": {
            "needs_background": "light"
          }
        }
      ]
    },
    {
      "cell_type": "code",
      "source": [
        "#Lets get started with UI\n",
        "!pip install ipywidgets \n",
        "# To enable `ipywidgets`\n",
        "!jupyter nbextension enable --py widgetsnbextension"
      ],
      "metadata": {
        "colab": {
          "base_uri": "https://localhost:8080/"
        },
        "id": "D5f6bcLdtgaL",
        "outputId": "802d108c-52df-4c4e-a2c0-34f24dbc3762"
      },
      "execution_count": 151,
      "outputs": [
        {
          "output_type": "stream",
          "name": "stdout",
          "text": [
            "Looking in indexes: https://pypi.org/simple, https://us-python.pkg.dev/colab-wheels/public/simple/\n",
            "Requirement already satisfied: ipywidgets in /usr/local/lib/python3.7/dist-packages (7.7.1)\n",
            "Requirement already satisfied: jupyterlab-widgets>=1.0.0 in /usr/local/lib/python3.7/dist-packages (from ipywidgets) (3.0.3)\n",
            "Requirement already satisfied: ipython-genutils~=0.2.0 in /usr/local/lib/python3.7/dist-packages (from ipywidgets) (0.2.0)\n",
            "Requirement already satisfied: ipython>=4.0.0 in /usr/local/lib/python3.7/dist-packages (from ipywidgets) (7.9.0)\n",
            "Requirement already satisfied: widgetsnbextension~=3.6.0 in /usr/local/lib/python3.7/dist-packages (from ipywidgets) (3.6.1)\n",
            "Requirement already satisfied: traitlets>=4.3.1 in /usr/local/lib/python3.7/dist-packages (from ipywidgets) (5.1.1)\n",
            "Requirement already satisfied: ipykernel>=4.5.1 in /usr/local/lib/python3.7/dist-packages (from ipywidgets) (5.3.4)\n",
            "Requirement already satisfied: tornado>=4.2 in /usr/local/lib/python3.7/dist-packages (from ipykernel>=4.5.1->ipywidgets) (5.1.1)\n",
            "Requirement already satisfied: jupyter-client in /usr/local/lib/python3.7/dist-packages (from ipykernel>=4.5.1->ipywidgets) (6.1.12)\n",
            "Collecting jedi>=0.10\n",
            "  Downloading jedi-0.18.1-py2.py3-none-any.whl (1.6 MB)\n",
            "\u001b[K     |████████████████████████████████| 1.6 MB 8.9 MB/s \n",
            "\u001b[?25hRequirement already satisfied: decorator in /usr/local/lib/python3.7/dist-packages (from ipython>=4.0.0->ipywidgets) (4.4.2)\n",
            "Requirement already satisfied: backcall in /usr/local/lib/python3.7/dist-packages (from ipython>=4.0.0->ipywidgets) (0.2.0)\n",
            "Requirement already satisfied: pexpect in /usr/local/lib/python3.7/dist-packages (from ipython>=4.0.0->ipywidgets) (4.8.0)\n",
            "Requirement already satisfied: pickleshare in /usr/local/lib/python3.7/dist-packages (from ipython>=4.0.0->ipywidgets) (0.7.5)\n",
            "Requirement already satisfied: setuptools>=18.5 in /usr/local/lib/python3.7/dist-packages (from ipython>=4.0.0->ipywidgets) (57.4.0)\n",
            "Requirement already satisfied: prompt-toolkit<2.1.0,>=2.0.0 in /usr/local/lib/python3.7/dist-packages (from ipython>=4.0.0->ipywidgets) (2.0.10)\n",
            "Requirement already satisfied: pygments in /usr/local/lib/python3.7/dist-packages (from ipython>=4.0.0->ipywidgets) (2.6.1)\n",
            "Requirement already satisfied: parso<0.9.0,>=0.8.0 in /usr/local/lib/python3.7/dist-packages (from jedi>=0.10->ipython>=4.0.0->ipywidgets) (0.8.3)\n",
            "Requirement already satisfied: six>=1.9.0 in /usr/local/lib/python3.7/dist-packages (from prompt-toolkit<2.1.0,>=2.0.0->ipython>=4.0.0->ipywidgets) (1.15.0)\n",
            "Requirement already satisfied: wcwidth in /usr/local/lib/python3.7/dist-packages (from prompt-toolkit<2.1.0,>=2.0.0->ipython>=4.0.0->ipywidgets) (0.2.5)\n",
            "Requirement already satisfied: notebook>=4.4.1 in /usr/local/lib/python3.7/dist-packages (from widgetsnbextension~=3.6.0->ipywidgets) (5.3.1)\n",
            "Requirement already satisfied: Send2Trash in /usr/local/lib/python3.7/dist-packages (from notebook>=4.4.1->widgetsnbextension~=3.6.0->ipywidgets) (1.8.0)\n",
            "Requirement already satisfied: nbformat in /usr/local/lib/python3.7/dist-packages (from notebook>=4.4.1->widgetsnbextension~=3.6.0->ipywidgets) (5.4.0)\n",
            "Requirement already satisfied: terminado>=0.8.1 in /usr/local/lib/python3.7/dist-packages (from notebook>=4.4.1->widgetsnbextension~=3.6.0->ipywidgets) (0.13.3)\n",
            "Requirement already satisfied: jinja2 in /usr/local/lib/python3.7/dist-packages (from notebook>=4.4.1->widgetsnbextension~=3.6.0->ipywidgets) (2.11.3)\n",
            "Requirement already satisfied: nbconvert in /usr/local/lib/python3.7/dist-packages (from notebook>=4.4.1->widgetsnbextension~=3.6.0->ipywidgets) (5.6.1)\n",
            "Requirement already satisfied: jupyter-core>=4.4.0 in /usr/local/lib/python3.7/dist-packages (from notebook>=4.4.1->widgetsnbextension~=3.6.0->ipywidgets) (4.11.1)\n",
            "Requirement already satisfied: python-dateutil>=2.1 in /usr/local/lib/python3.7/dist-packages (from jupyter-client->ipykernel>=4.5.1->ipywidgets) (2.8.2)\n",
            "Requirement already satisfied: pyzmq>=13 in /usr/local/lib/python3.7/dist-packages (from jupyter-client->ipykernel>=4.5.1->ipywidgets) (23.2.1)\n",
            "Requirement already satisfied: ptyprocess in /usr/local/lib/python3.7/dist-packages (from terminado>=0.8.1->notebook>=4.4.1->widgetsnbextension~=3.6.0->ipywidgets) (0.7.0)\n",
            "Requirement already satisfied: MarkupSafe>=0.23 in /usr/local/lib/python3.7/dist-packages (from jinja2->notebook>=4.4.1->widgetsnbextension~=3.6.0->ipywidgets) (2.0.1)\n",
            "Requirement already satisfied: defusedxml in /usr/local/lib/python3.7/dist-packages (from nbconvert->notebook>=4.4.1->widgetsnbextension~=3.6.0->ipywidgets) (0.7.1)\n",
            "Requirement already satisfied: bleach in /usr/local/lib/python3.7/dist-packages (from nbconvert->notebook>=4.4.1->widgetsnbextension~=3.6.0->ipywidgets) (5.0.1)\n",
            "Requirement already satisfied: pandocfilters>=1.4.1 in /usr/local/lib/python3.7/dist-packages (from nbconvert->notebook>=4.4.1->widgetsnbextension~=3.6.0->ipywidgets) (1.5.0)\n",
            "Requirement already satisfied: entrypoints>=0.2.2 in /usr/local/lib/python3.7/dist-packages (from nbconvert->notebook>=4.4.1->widgetsnbextension~=3.6.0->ipywidgets) (0.4)\n",
            "Requirement already satisfied: testpath in /usr/local/lib/python3.7/dist-packages (from nbconvert->notebook>=4.4.1->widgetsnbextension~=3.6.0->ipywidgets) (0.6.0)\n",
            "Requirement already satisfied: mistune<2,>=0.8.1 in /usr/local/lib/python3.7/dist-packages (from nbconvert->notebook>=4.4.1->widgetsnbextension~=3.6.0->ipywidgets) (0.8.4)\n",
            "Requirement already satisfied: jsonschema>=2.6 in /usr/local/lib/python3.7/dist-packages (from nbformat->notebook>=4.4.1->widgetsnbextension~=3.6.0->ipywidgets) (4.3.3)\n",
            "Requirement already satisfied: fastjsonschema in /usr/local/lib/python3.7/dist-packages (from nbformat->notebook>=4.4.1->widgetsnbextension~=3.6.0->ipywidgets) (2.16.1)\n",
            "Requirement already satisfied: importlib-metadata in /usr/local/lib/python3.7/dist-packages (from jsonschema>=2.6->nbformat->notebook>=4.4.1->widgetsnbextension~=3.6.0->ipywidgets) (4.12.0)\n",
            "Requirement already satisfied: pyrsistent!=0.17.0,!=0.17.1,!=0.17.2,>=0.14.0 in /usr/local/lib/python3.7/dist-packages (from jsonschema>=2.6->nbformat->notebook>=4.4.1->widgetsnbextension~=3.6.0->ipywidgets) (0.18.1)\n",
            "Requirement already satisfied: typing-extensions in /usr/local/lib/python3.7/dist-packages (from jsonschema>=2.6->nbformat->notebook>=4.4.1->widgetsnbextension~=3.6.0->ipywidgets) (4.1.1)\n",
            "Requirement already satisfied: importlib-resources>=1.4.0 in /usr/local/lib/python3.7/dist-packages (from jsonschema>=2.6->nbformat->notebook>=4.4.1->widgetsnbextension~=3.6.0->ipywidgets) (5.9.0)\n",
            "Requirement already satisfied: attrs>=17.4.0 in /usr/local/lib/python3.7/dist-packages (from jsonschema>=2.6->nbformat->notebook>=4.4.1->widgetsnbextension~=3.6.0->ipywidgets) (22.1.0)\n",
            "Requirement already satisfied: zipp>=3.1.0 in /usr/local/lib/python3.7/dist-packages (from importlib-resources>=1.4.0->jsonschema>=2.6->nbformat->notebook>=4.4.1->widgetsnbextension~=3.6.0->ipywidgets) (3.8.1)\n",
            "Requirement already satisfied: webencodings in /usr/local/lib/python3.7/dist-packages (from bleach->nbconvert->notebook>=4.4.1->widgetsnbextension~=3.6.0->ipywidgets) (0.5.1)\n",
            "Installing collected packages: jedi\n",
            "Successfully installed jedi-0.18.1\n",
            "Enabling notebook extension jupyter-js-widgets/extension...\n",
            "Paths used for configuration of notebook: \n",
            "    \t/root/.jupyter/nbconfig/notebook.json\n",
            "      - Validating: \u001b[32mOK\u001b[0m\n",
            "Paths used for configuration of notebook: \n",
            "    \t/root/.jupyter/nbconfig/notebook.json\n"
          ]
        }
      ]
    },
    {
      "cell_type": "code",
      "source": [
        "from ipywidgets import widgets\n",
        "from IPython.core.display import HTML\n",
        "\n",
        "#Get widgets ready for user input\n",
        "price_slider = widgets.IntRangeSlider(value=[0,df['price-usd'].max()], min=0, max=df['price-usd'].max())\n",
        "distance_slider = widgets.IntRangeSlider(value=[0,df['distance-frm-cc-miles'].max()], min=0, max=df['distance-frm-cc-miles'].max())\n",
        "review_slider = widgets.IntRangeSlider(value=[0,df['review-score'].max()], min=0, max=df['review-score'].max())\n",
        "rating_dropdown = widgets.Dropdown(\n",
        "    options=[('Select Rating', 0), ('One Star', 1), ('Two Star', 2), ('Three Star', 3), ('Four Star', 4), ('Five Star', 5)],\n",
        "    value=1,\n",
        "    description='Number:'\n",
        ")\n",
        "sorting_dropdown = widgets.Dropdown(\n",
        "    options=[('By price', 'price-usd'), ('By Distance', 'distance-frm-cc-miles'), ('By Review Score', 'review-score'), ('By Rating', 'star-rating')],\n",
        "    value='price-usd',\n",
        ")\n",
        "search_hotel_name =  widgets.Text(\n",
        "    placeholder='Enter hotel name',\n",
        ")\n",
        "\n",
        "#helper function for image rendering\n",
        "def path_to_image_html(paths: list) -> str:\n",
        "  all_images = ''\n",
        "  paths = paths.strip('[,]').split(',')\n",
        "  for path in paths:\n",
        "    all_images += '<img src=\"'+ path.strip('\" \",\\'') + '\" width=\"60\" >'\n",
        "  return all_images\n",
        "\n",
        "#Filter hotels data according to the user input\n",
        "#this function also implements a decorator using interact that provides\n",
        "#the following function as a callback for receiving user input values\n",
        "def filter_hotels(all_hotels): \n",
        "  @widgets.interact(price_range=price_slider, distance_cc=distance_slider, review_score=review_slider, rating=rating_dropdown, sort_order=sorting_dropdown, search_hotel=search_hotel_name)\n",
        "  def price_filter(price_range, distance_cc, review_score, rating, sort_order, search_hotel):\n",
        "    results = []\n",
        "    filtered_df = all_hotels[(all_hotels['price-usd'] <= price_range[1]) & (all_hotels['price-usd'] >= price_range[0])]\n",
        "    filtered_df = filtered_df[(filtered_df['distance-frm-cc-miles'] <= distance_cc[1]) & (filtered_df['distance-frm-cc-miles'] >= distance_cc[0])]\n",
        "    filtered_df = filtered_df[(filtered_df['review-score'] <= review_score[1]) & (filtered_df['review-score'] >= review_score[0])]\n",
        "    if(rating > 0):\n",
        "      filtered_df = filtered_df[(filtered_df['star-rating'] >= rating)]\n",
        "    if( len(search_hotel) > 0):\n",
        "      filtered_df = filtered_df[(filtered_df['hotel-name'].str.contains(search_hotel, regex=False, case=False))]\n",
        "    \n",
        "    results = filtered_df.sort_values(by=sort_order, ascending=True)\n",
        "    results['desc'] = results['desc'].str.slice(0,25)\n",
        "    return HTML(results.to_html(escape=False,formatters=dict(images=path_to_image_html)))\n",
        "\n",
        "filter_hotels(df)"
      ],
      "metadata": {
        "colab": {
          "base_uri": "https://localhost:8080/",
          "height": 638,
          "referenced_widgets": [
            "bc5f099cda3c411cb26e4da5c657bcdc",
            "4e41ff92e2a144c7a4902d5dca6a94b0",
            "7a13808682a14b6f80bf317aac8acc9b",
            "22b6cafd209645f295e7ac4172f971e8",
            "e4bd1da70ddd466db35baf954a0fa927",
            "c7e0479abc8f44d58002681c0e6f737f",
            "2399eea58b7644079c97125902810d14",
            "38c51064881b44278a4a4554751c5f00",
            "1cc2d12384dc46b5a75e2417e1cb6e77",
            "049660223a9149158c8ae780e12c2896",
            "d40798948964474a988e08bf7063454e",
            "293d25fd474945d9a77b27a392f1db8e",
            "f38f933a0a4341439a74a129494ea401",
            "05b08031e5c04398b96d71d3f81abe54",
            "665f66f7fd8f46fc96fcf3973abc8e19",
            "a5f2ad6f9ec9411f8e92d1174f07deb3",
            "c23c02361b7a43f6b7971ed7607b014a",
            "6cbfb011f9ad47b2ab849b9b283c12a6",
            "a086fc021b9c4d81887f80f1b84b003f",
            "8414357c8754490898273c0c0f45330f",
            "8e37fe903f254dc0a2e4dc64e84ad44c",
            "862bea6e73584a5cb67be5aa6e83ddc5"
          ]
        },
        "id": "JPYB-DKTtpXU",
        "outputId": "4c0e6e64-045a-4603-e4be-42c990fead31"
      },
      "execution_count": 182,
      "outputs": [
        {
          "output_type": "display_data",
          "data": {
            "text/plain": [
              "interactive(children=(IntRangeSlider(value=(0, 620), description='price_range', max=620), IntRangeSlider(value…"
            ],
            "application/vnd.jupyter.widget-view+json": {
              "version_major": 2,
              "version_minor": 0,
              "model_id": "bc5f099cda3c411cb26e4da5c657bcdc"
            }
          },
          "metadata": {}
        }
      ]
    }
  ]
}