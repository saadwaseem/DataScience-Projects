{
  "cells": [
    {
      "cell_type": "markdown",
      "source": [
        "In order to re-execute data analysis please upload the hashtags.csv and scroll down to data analysis section.\n",
        "Please don't run the data collection part again as this will only give 100 tweets because of the limitation imposed by Twitter on basic API level. Hashtags.csv consists of more than 1800 tweets collected using Academic Research level API access and those credentials have been removed for good reasons."
      ],
      "metadata": {
        "id": "R1_kuPwDHVSs"
      }
    },
    {
      "cell_type": "code",
      "execution_count": null,
      "metadata": {
        "id": "UN9R9kLkXOJj"
      },
      "outputs": [],
      "source": [
        "# Environment setup\n",
        "!pip install tweepy==4.12.0\n",
        "!pip install emoji\n",
        "!pip install flair"
      ]
    },
    {
      "cell_type": "code",
      "execution_count": null,
      "metadata": {
        "id": "hLAEP98pXwW2"
      },
      "outputs": [],
      "source": [
        "#install required libraries\n",
        "import numpy as np # linear algebra\n",
        "import pandas as pd # data processing, CSV file I/O (e.g. pd.read_csv)\n",
        "import tweepy # To extarct the twitter data\n",
        "from tqdm import tqdm #progress bar\n",
        "import requests\n",
        "import re\n",
        "import seaborn as sns\n",
        "import matplotlib.pyplot as plt\n",
        "from collections.abc import Iterable"
      ]
    },
    {
      "cell_type": "code",
      "execution_count": null,
      "metadata": {
        "colab": {
          "base_uri": "https://localhost:8080/"
        },
        "id": "JInJxm7phHUA",
        "outputId": "e6b6cf3e-95fb-4c26-d415-cbea0d127d10"
      },
      "outputs": [
        {
          "output_type": "stream",
          "name": "stdout",
          "text": [
            "2022-11-08 21:39:34,404 loading file /root/.flair/models/sentiment-en-mix-distillbert_4.pt\n"
          ]
        }
      ],
      "source": [
        "import emoji\n",
        "import flair\n",
        "from flair.models import TextClassifier\n",
        "sentiment_model = TextClassifier.load('en-sentiment')"
      ]
    },
    {
      "cell_type": "code",
      "source": [
        "#Twitter API authentication credentials\n",
        "consumer_key = \"CONSUMER_kEY\"\n",
        "consumer_secret = \"CONSUMER_secret\"\n",
        "access_token = \"ACCESS_TOKEN\"\n",
        "access_token_secret = \"ACCESS_TOKEN_SECRET\"\n",
        "bearer_token=\"BEARER_TOKEN\""
      ],
      "metadata": {
        "id": "Yf-O8QTjLw0u"
      },
      "execution_count": null,
      "outputs": []
    },
    {
      "cell_type": "markdown",
      "source": [
        "This function only works with Academic Research Access level and let us fetch more tweets data."
      ],
      "metadata": {
        "id": "HvZr37viW2NK"
      }
    },
    {
      "cell_type": "code",
      "execution_count": null,
      "metadata": {
        "id": "N_5ES4N_Fkfs"
      },
      "outputs": [],
      "source": [
        "def paginated_query(client):\n",
        "  # Define query\n",
        "  query = '((\"#pepsi\" \"#lays\") OR (#coke #lays) OR (#cocacola #lays)) lang:en -is:retweet -is:nullcast'\n",
        "\n",
        "  paginator = tweepy.Paginator(\n",
        "      method = client.search_all_tweets,\n",
        "      limit=100,\n",
        "      query=query,\n",
        "      place_fields=['country','country_code','full_name','id','name','place_type'],\n",
        "      expansions=['geo.place_id'],\n",
        "      tweet_fields=['public_metrics','entities'],\n",
        "      max_results=100,\n",
        "      start_time='2022-01-01T00:00:0.0000Z',\n",
        "      end_time='2022-11-01T00:00:00.000Z'\n",
        "  )\n",
        "  return paginator"
      ]
    },
    {
      "cell_type": "code",
      "execution_count": null,
      "metadata": {
        "id": "1zgLMczAYX3O"
      },
      "outputs": [],
      "source": [
        "def query(client):\n",
        "  # Define query\n",
        "  query = '(\"#pepsi\" \"#lays\") OR (#coke #lays) OR (#cocacola #lays) lang:en -is:retweet'\n",
        "\n",
        "  # get max. 100 tweets\n",
        "  tweets = client.search_recent_tweets(query=query,\n",
        "                                      place_fields=['country','country_code','full_name','id','name','place_type'],\n",
        "                                      expansions=['geo.place_id'],\n",
        "                                      tweet_fields=['public_metrics','entities'],\n",
        "                                      max_results=100)\n",
        "  # Save data as dictionary\n",
        "  tweets_dict = tweets.json()\n",
        "\n",
        "  # Extract \"data\" value from dictionary\n",
        "  tweets_data = tweets_dict['data']\n",
        "\n",
        "  #Extract tweets expansions\n",
        "  tweets_expansions = tweets_dict['includes']\n",
        "\n",
        "  # Transform to pandas Dataframe\n",
        "  # df = pd.json_normalize(tweets_data)\n",
        "  return tweets_data, tweets_expansions"
      ]
    },
    {
      "cell_type": "code",
      "execution_count": null,
      "metadata": {
        "id": "eQWukp2EV8oe"
      },
      "outputs": [],
      "source": [
        "\n",
        "def contains_hashtag(tweet_text, hashtags):\n",
        "  hash_found = 0\n",
        "  for hashtag in hashtags:\n",
        "    hash_found = tweet_text.find(hashtag)\n",
        "    return 1 if hash_found > -1 else 0\n",
        "\n",
        "  return hash_found\n",
        "\n",
        "def contains_hashtag_entity(tweet, brands):\n",
        "  brand_status = 0\n",
        "  entity_hashtags = None;\n",
        "  if \"entities\" in tweet:\n",
        "    if \"hashtags\" in tweet['entities']:\n",
        "      entity_hashtags = tweet['entities']['hashtags']\n",
        "\n",
        "  if len(brands) == 0 or entity_hashtags is None:\n",
        "    return brand_status\n",
        "\n",
        "  for brand in brands:\n",
        "    for ehash_tag in entity_hashtags:\n",
        "      if brand in ehash_tag['tag'].lower():\n",
        "        brand_status = 1\n",
        "        return brand_status\n",
        "\n",
        "  return brand_status\n",
        "\n",
        "def has_pepsi(tweet):\n",
        "  tweet_text = tweet['text']\n",
        "  pepsi_status = contains_hashtag_entity(tweet, ['Pepsi','pepsi'])\n",
        "  if pepsi_status == 0:\n",
        "    #pepsi not found in entity hashtags\n",
        "    # try to find pepsi in tweet_text\n",
        "    pepsi_status = contains_hashtag(tweet_text, ['Pepsi', 'pepsi',\"pepsico\",'pepsico','Pepsico','PepsiCo'])\n",
        "\n",
        "  return pepsi_status\n",
        "\n",
        "def has_coke(tweet):\n",
        "  tweet_text = tweet['text']\n",
        "  coke_status = contains_hashtag_entity(tweet, ['coke', 'cocacola'])\n",
        "  if coke_status == 0:\n",
        "    #coke not found in entity hashtags\n",
        "    # try to find coke in tweet_text\n",
        "    coke_status = contains_hashtag(tweet_text, ['Coke', 'Cocacola', 'CocaCola', 'coke', 'cocacola'])\n",
        "\n",
        "  return coke_status\n",
        "\n",
        "def has_lays(tweet):\n",
        "  tweet_text = tweet['text']\n",
        "  lays_status = contains_hashtag_entity(tweet, ['lays'])\n",
        "  if lays_status == 0:\n",
        "    #lays not found in entity hashtags\n",
        "    # try to find lays in tweet_text\n",
        "    lays_status = contains_hashtag(tweet_text, ['lays'])\n",
        "\n",
        "  return lays_status\n",
        "\n",
        "#return country code\n",
        "def get_tweet_location(tweet, tweets_places):\n",
        "  tweet_location = \"\"\n",
        "  place_id = \"\"\n",
        "\n",
        "  if \"geo\" in tweet:\n",
        "    if \"place_id\" in tweet['geo']:\n",
        "      place_id = tweet['geo']['place_id']\n",
        "\n",
        "  if place_id and tweets_places:\n",
        "    for tweet_place in tweets_places:\n",
        "      if tweet_place['id'] == place_id:\n",
        "        return tweet_place['country_code']\n",
        "\n",
        "  return tweet_location\n",
        "\n",
        "def remove_emojis(data):\n",
        "  emoj = re.compile(\"[\"\n",
        "        u\"\\U0001F600-\\U0001F64F\"  # emoticons\n",
        "        u\"\\U0001F300-\\U0001F5FF\"  # symbols & pictographs\n",
        "        u\"\\U0001F680-\\U0001F6FF\"  # transport & map symbols\n",
        "        u\"\\U0001F1E0-\\U0001F1FF\"  # flags (iOS)\n",
        "        u\"\\U00002500-\\U00002BEF\"  # chinese char\n",
        "        u\"\\U00002702-\\U000027B0\"\n",
        "        u\"\\U00002702-\\U000027B0\"\n",
        "        u\"\\U000024C2-\\U0001F251\"\n",
        "        u\"\\U0001f926-\\U0001f937\"\n",
        "        u\"\\U00010000-\\U0010ffff\"\n",
        "        u\"\\u2640-\\u2642\"\n",
        "        u\"\\u2600-\\u2B55\"\n",
        "        u\"\\u200d\"\n",
        "        u\"\\u23cf\"\n",
        "        u\"\\u23e9\"\n",
        "        u\"\\u231a\"\n",
        "        u\"\\ufe0f\"  # dingbats\n",
        "        u\"\\u3030\"\"]+\", re.UNICODE)\n",
        "  return re.sub(emoj, '', data)\n",
        "\n",
        "def clean_tweet_text(tweet):\n",
        "  if 'RT' in tweet[:3]:\n",
        "    tweet = tweet.replace('RT','')\n",
        "    tweet = remove_emojis(tweet)\n",
        "    tweet = tweet.replace(':','')\n",
        "    tweet = re.sub(\"@[A-Za-z0-9]+\",\"\",tweet) #Remove @ sign\n",
        "    tweet = re.sub(r\"(?:\\@|http?\\://|https?\\://|www)\\S+\", \"\", tweet) #Remove http links\n",
        "    tweet = re.sub(r\"(?:\\@|http?\\://|https?\\://|www)\\S+\", \"\", tweet) #Remove http links\n",
        "    tweet = \" \".join(tweet.split())\n",
        "    tweet = ''.join(c for c in tweet if c not in emoji.EMOJI_DATA) #Remove Emojis\n",
        "    tweet = tweet.replace(\"#\", \"\").replace(\"_\", \" \") #Remove hashtag sign but keep the text\n",
        "\n",
        "  return tweet\n",
        "\n",
        "def get_tweet_sentiment(tweet, tweet_dict):\n",
        "  if tweet is None:\n",
        "    return\n",
        "\n",
        "  #clean tweet text for sentiment analysis\n",
        "  tweet_text = clean_tweet_text(tweet['text'])\n",
        "  #perform sentiment analysis on the cleaned tweet text - Flair/Bert\n",
        "  sentence = flair.data.Sentence(tweet_text)\n",
        "  sentiment_model.predict(sentence)\n",
        "  tweet_dict['label'] = sentence.labels[0].value\n",
        "  tweet_dict['numeric_score'] = sentence.labels[0].score\n",
        "\n",
        "  return tweet_dict\n",
        "\n",
        "def prepare_data(tweets_data, tweets_expansions):\n",
        "  if tweets_data is None:\n",
        "    return\n",
        "\n",
        "  tweets_list = []\n",
        "  tweet_dictionary = {}\n",
        "\n",
        "  if isinstance(tweets_data, Iterable):\n",
        "    for tweet in tweets_data:\n",
        "      tweet_dictionary = {\n",
        "          \"tweet_id\": tweet['id'] if tweet['id'] is not None else tweet['edit_history_tweet_ids'],\n",
        "          \"has_pepsi\": has_pepsi(tweet),\n",
        "          \"has_coke\": has_coke(tweet),\n",
        "          \"has_lays\": has_lays(tweet),\n",
        "          \"tweet_likes\": tweet['public_metrics']['like_count'],\n",
        "          \"tweet_retweets\": tweet['public_metrics']['retweet_count']\n",
        "          }\n",
        "      if tweets_expansions is not None:\n",
        "        if \"places\" in tweets_expansions:\n",
        "          tweets_places = tweets_expansions['places']\n",
        "          tweet_dictionary['tweet_location'] = get_tweet_location(tweet, tweets_places)\n",
        "        else:\n",
        "          tweet_dictionary['tweet_location'] = \"\"\n",
        "      # once tweet is formatted add it to tweets_list\n",
        "      tweet_dictionary = get_tweet_sentiment(tweet, tweet_dictionary)\n",
        "      tweets_list.append(tweet_dictionary)\n",
        "  #convert to dataframe\n",
        "  t_df = pd.DataFrame(tweets_list)\n",
        "  return t_df\n"
      ]
    },
    {
      "cell_type": "markdown",
      "source": [
        "These credentials can be used for basic access level and would only give a few hundred tweets."
      ],
      "metadata": {
        "id": "Bp5gMkBiXdGF"
      }
    },
    {
      "cell_type": "code",
      "execution_count": null,
      "metadata": {
        "id": "JN96g9FcofZd"
      },
      "outputs": [],
      "source": [
        "# Setting wait_on_rate_limit to True when initializing API will initialize an\n",
        "# instance, called api here, that will automatically wait, using time.sleep,\n",
        "# for the appropriate amount of time when a rate limit is encountered\n",
        "\n",
        "\n",
        "client = tweepy.Client(bearer_token=bearer_token,\n",
        "                        consumer_key=consumer_key,\n",
        "                        consumer_secret=consumer_secret,\n",
        "                        access_token=access_token,\n",
        "                        access_token_secret=access_token_secret,\n",
        "                        return_type = requests.Response,\n",
        "                        wait_on_rate_limit=True)\n",
        "\n",
        "\n",
        "#will only work with Academic research\n",
        "# paginator = paginated_query(client)\n",
        "tweets_data, tweets_expansions = query(client)\n",
        "#prepare\n",
        "t_df = prepare_data(tweets_data, tweets_expansions)\n",
        "#savetoCSV\n",
        "t_df.to_csv('hashtags_bk.csv',mode='a' ,index=False)\n",
        "\n",
        "#will only work with Academic Research\n",
        "# for tweets in paginator:\n",
        "#   # Save data as dictionary\n",
        "#   tweets_dict = tweets.json()\n",
        "#   # Extract \"data\" value from dictionary\n",
        "#   tweets_data = tweets_dict['data']\n",
        "#   # Extract tweets expansions\n",
        "#   tweets_expansions = None\n",
        "#   if \"includes\" in tweets_dict:\n",
        "#     tweets_expansions = tweets_dict['includes']\n",
        "#   if tweets_data is not None and isinstance(tweets_data, Iterable):\n",
        "#     # Prepare\n",
        "#     t_df = prepare_data(tweets_data, tweets_expansions)\n",
        "#     # save processed tweets data to CSV\n",
        "#     t_df.to_csv('hashtags.csv',mode='a' ,index=False)"
      ]
    },
    {
      "cell_type": "markdown",
      "source": [
        "Load hashtags.csv and let's get started with **data analysis**"
      ],
      "metadata": {
        "id": "ky4DX9OuYP-A"
      }
    },
    {
      "cell_type": "code",
      "execution_count": null,
      "metadata": {
        "id": "nxmBHXv8kNZn"
      },
      "outputs": [],
      "source": [
        "#Load the data\n",
        "df = pd.read_csv('hashtags.csv')"
      ]
    },
    {
      "cell_type": "code",
      "execution_count": null,
      "metadata": {
        "colab": {
          "base_uri": "https://localhost:8080/",
          "height": 206
        },
        "id": "r5WCwkgB5WTS",
        "outputId": "aedc4237-5591-44c2-c26c-8d0e623999c3"
      },
      "outputs": [
        {
          "output_type": "execute_result",
          "data": {
            "text/plain": [
              "       tweet_id  has_pepsi  has_coke  has_lays  tweet_likes  tweet_retweets  \\\n",
              "0  1.587206e+18          1         0         0            1               0   \n",
              "1  1.587177e+18          0         0         1            8               0   \n",
              "2  1.587142e+18          1         0         0            0               0   \n",
              "3  1.587102e+18          0         0         1            0               0   \n",
              "4  1.586824e+18          1         0         0            3               0   \n",
              "\n",
              "  tweet_location     label  numeric_score  \n",
              "0            NaN  NEGATIVE       0.999986  \n",
              "1            NaN  NEGATIVE       0.999738  \n",
              "2            NaN  NEGATIVE       0.859320  \n",
              "3            NaN  NEGATIVE       0.896805  \n",
              "4            NaN  POSITIVE       0.951139  "
            ],
            "text/html": [
              "\n",
              "  <div id=\"df-be40244c-3701-470d-958a-828008e41bc9\">\n",
              "    <div class=\"colab-df-container\">\n",
              "      <div>\n",
              "<style scoped>\n",
              "    .dataframe tbody tr th:only-of-type {\n",
              "        vertical-align: middle;\n",
              "    }\n",
              "\n",
              "    .dataframe tbody tr th {\n",
              "        vertical-align: top;\n",
              "    }\n",
              "\n",
              "    .dataframe thead th {\n",
              "        text-align: right;\n",
              "    }\n",
              "</style>\n",
              "<table border=\"1\" class=\"dataframe\">\n",
              "  <thead>\n",
              "    <tr style=\"text-align: right;\">\n",
              "      <th></th>\n",
              "      <th>tweet_id</th>\n",
              "      <th>has_pepsi</th>\n",
              "      <th>has_coke</th>\n",
              "      <th>has_lays</th>\n",
              "      <th>tweet_likes</th>\n",
              "      <th>tweet_retweets</th>\n",
              "      <th>tweet_location</th>\n",
              "      <th>label</th>\n",
              "      <th>numeric_score</th>\n",
              "    </tr>\n",
              "  </thead>\n",
              "  <tbody>\n",
              "    <tr>\n",
              "      <th>0</th>\n",
              "      <td>1.587206e+18</td>\n",
              "      <td>1</td>\n",
              "      <td>0</td>\n",
              "      <td>0</td>\n",
              "      <td>1</td>\n",
              "      <td>0</td>\n",
              "      <td>NaN</td>\n",
              "      <td>NEGATIVE</td>\n",
              "      <td>0.999986</td>\n",
              "    </tr>\n",
              "    <tr>\n",
              "      <th>1</th>\n",
              "      <td>1.587177e+18</td>\n",
              "      <td>0</td>\n",
              "      <td>0</td>\n",
              "      <td>1</td>\n",
              "      <td>8</td>\n",
              "      <td>0</td>\n",
              "      <td>NaN</td>\n",
              "      <td>NEGATIVE</td>\n",
              "      <td>0.999738</td>\n",
              "    </tr>\n",
              "    <tr>\n",
              "      <th>2</th>\n",
              "      <td>1.587142e+18</td>\n",
              "      <td>1</td>\n",
              "      <td>0</td>\n",
              "      <td>0</td>\n",
              "      <td>0</td>\n",
              "      <td>0</td>\n",
              "      <td>NaN</td>\n",
              "      <td>NEGATIVE</td>\n",
              "      <td>0.859320</td>\n",
              "    </tr>\n",
              "    <tr>\n",
              "      <th>3</th>\n",
              "      <td>1.587102e+18</td>\n",
              "      <td>0</td>\n",
              "      <td>0</td>\n",
              "      <td>1</td>\n",
              "      <td>0</td>\n",
              "      <td>0</td>\n",
              "      <td>NaN</td>\n",
              "      <td>NEGATIVE</td>\n",
              "      <td>0.896805</td>\n",
              "    </tr>\n",
              "    <tr>\n",
              "      <th>4</th>\n",
              "      <td>1.586824e+18</td>\n",
              "      <td>1</td>\n",
              "      <td>0</td>\n",
              "      <td>0</td>\n",
              "      <td>3</td>\n",
              "      <td>0</td>\n",
              "      <td>NaN</td>\n",
              "      <td>POSITIVE</td>\n",
              "      <td>0.951139</td>\n",
              "    </tr>\n",
              "  </tbody>\n",
              "</table>\n",
              "</div>\n",
              "      <button class=\"colab-df-convert\" onclick=\"convertToInteractive('df-be40244c-3701-470d-958a-828008e41bc9')\"\n",
              "              title=\"Convert this dataframe to an interactive table.\"\n",
              "              style=\"display:none;\">\n",
              "        \n",
              "  <svg xmlns=\"http://www.w3.org/2000/svg\" height=\"24px\"viewBox=\"0 0 24 24\"\n",
              "       width=\"24px\">\n",
              "    <path d=\"M0 0h24v24H0V0z\" fill=\"none\"/>\n",
              "    <path d=\"M18.56 5.44l.94 2.06.94-2.06 2.06-.94-2.06-.94-.94-2.06-.94 2.06-2.06.94zm-11 1L8.5 8.5l.94-2.06 2.06-.94-2.06-.94L8.5 2.5l-.94 2.06-2.06.94zm10 10l.94 2.06.94-2.06 2.06-.94-2.06-.94-.94-2.06-.94 2.06-2.06.94z\"/><path d=\"M17.41 7.96l-1.37-1.37c-.4-.4-.92-.59-1.43-.59-.52 0-1.04.2-1.43.59L10.3 9.45l-7.72 7.72c-.78.78-.78 2.05 0 2.83L4 21.41c.39.39.9.59 1.41.59.51 0 1.02-.2 1.41-.59l7.78-7.78 2.81-2.81c.8-.78.8-2.07 0-2.86zM5.41 20L4 18.59l7.72-7.72 1.47 1.35L5.41 20z\"/>\n",
              "  </svg>\n",
              "      </button>\n",
              "      \n",
              "  <style>\n",
              "    .colab-df-container {\n",
              "      display:flex;\n",
              "      flex-wrap:wrap;\n",
              "      gap: 12px;\n",
              "    }\n",
              "\n",
              "    .colab-df-convert {\n",
              "      background-color: #E8F0FE;\n",
              "      border: none;\n",
              "      border-radius: 50%;\n",
              "      cursor: pointer;\n",
              "      display: none;\n",
              "      fill: #1967D2;\n",
              "      height: 32px;\n",
              "      padding: 0 0 0 0;\n",
              "      width: 32px;\n",
              "    }\n",
              "\n",
              "    .colab-df-convert:hover {\n",
              "      background-color: #E2EBFA;\n",
              "      box-shadow: 0px 1px 2px rgba(60, 64, 67, 0.3), 0px 1px 3px 1px rgba(60, 64, 67, 0.15);\n",
              "      fill: #174EA6;\n",
              "    }\n",
              "\n",
              "    [theme=dark] .colab-df-convert {\n",
              "      background-color: #3B4455;\n",
              "      fill: #D2E3FC;\n",
              "    }\n",
              "\n",
              "    [theme=dark] .colab-df-convert:hover {\n",
              "      background-color: #434B5C;\n",
              "      box-shadow: 0px 1px 3px 1px rgba(0, 0, 0, 0.15);\n",
              "      filter: drop-shadow(0px 1px 2px rgba(0, 0, 0, 0.3));\n",
              "      fill: #FFFFFF;\n",
              "    }\n",
              "  </style>\n",
              "\n",
              "      <script>\n",
              "        const buttonEl =\n",
              "          document.querySelector('#df-be40244c-3701-470d-958a-828008e41bc9 button.colab-df-convert');\n",
              "        buttonEl.style.display =\n",
              "          google.colab.kernel.accessAllowed ? 'block' : 'none';\n",
              "\n",
              "        async function convertToInteractive(key) {\n",
              "          const element = document.querySelector('#df-be40244c-3701-470d-958a-828008e41bc9');\n",
              "          const dataTable =\n",
              "            await google.colab.kernel.invokeFunction('convertToInteractive',\n",
              "                                                     [key], {});\n",
              "          if (!dataTable) return;\n",
              "\n",
              "          const docLinkHtml = 'Like what you see? Visit the ' +\n",
              "            '<a target=\"_blank\" href=https://colab.research.google.com/notebooks/data_table.ipynb>data table notebook</a>'\n",
              "            + ' to learn more about interactive tables.';\n",
              "          element.innerHTML = '';\n",
              "          dataTable['output_type'] = 'display_data';\n",
              "          await google.colab.output.renderOutput(dataTable, element);\n",
              "          const docLink = document.createElement('div');\n",
              "          docLink.innerHTML = docLinkHtml;\n",
              "          element.appendChild(docLink);\n",
              "        }\n",
              "      </script>\n",
              "    </div>\n",
              "  </div>\n",
              "  "
            ]
          },
          "metadata": {},
          "execution_count": 9
        }
      ],
      "source": [
        "df.head()"
      ]
    },
    {
      "cell_type": "code",
      "execution_count": null,
      "metadata": {
        "colab": {
          "base_uri": "https://localhost:8080/"
        },
        "id": "49wIDSin7eze",
        "outputId": "039e1bc9-fd9f-4b64-b3ff-90f1ceb4b0e3"
      },
      "outputs": [
        {
          "name": "stdout",
          "output_type": "stream",
          "text": [
            "<class 'pandas.core.frame.DataFrame'>\n",
            "RangeIndex: 1921 entries, 0 to 1920\n",
            "Data columns (total 9 columns):\n",
            " #   Column          Non-Null Count  Dtype \n",
            "---  ------          --------------  ----- \n",
            " 0   tweet_id        1921 non-null   object\n",
            " 1   has_pepsi       1921 non-null   object\n",
            " 2   has_coke        1921 non-null   object\n",
            " 3   has_lays        1921 non-null   object\n",
            " 4   tweet_likes     1921 non-null   object\n",
            " 5   tweet_retweets  1921 non-null   object\n",
            " 6   tweet_location  463 non-null    object\n",
            " 7   label           1921 non-null   object\n",
            " 8   numeric_score   1523 non-null   object\n",
            "dtypes: object(9)\n",
            "memory usage: 135.2+ KB\n"
          ]
        }
      ],
      "source": [
        "df.info()"
      ]
    },
    {
      "cell_type": "code",
      "execution_count": null,
      "metadata": {
        "colab": {
          "base_uri": "https://localhost:8080/",
          "height": 300
        },
        "id": "z1oy68sD5blo",
        "outputId": "1efd4c92-4d0e-4736-d0ae-f153260791b5"
      },
      "outputs": [
        {
          "output_type": "execute_result",
          "data": {
            "text/plain": [
              "           tweet_id    has_pepsi     has_coke     has_lays  tweet_likes  \\\n",
              "count  1.831000e+03  1831.000000  1831.000000  1831.000000  1831.000000   \n",
              "mean   1.520463e+18     0.582742     0.043146     0.305844    13.593119   \n",
              "std    3.282613e+16     0.493241     0.203241     0.460890   207.554891   \n",
              "min    1.477072e+18     0.000000     0.000000     0.000000     0.000000   \n",
              "25%    1.489033e+18     0.000000     0.000000     0.000000     0.000000   \n",
              "50%    1.515666e+18     1.000000     0.000000     0.000000     0.000000   \n",
              "75%    1.546458e+18     1.000000     0.000000     1.000000     2.000000   \n",
              "max    1.587206e+18     1.000000     1.000000     1.000000  8036.000000   \n",
              "\n",
              "       tweet_retweets  numeric_score  \n",
              "count     1831.000000    1831.000000  \n",
              "mean         2.544511       0.910915  \n",
              "std         25.735839       0.132099  \n",
              "min          0.000000       0.500985  \n",
              "25%          0.000000       0.871616  \n",
              "50%          0.000000       0.982757  \n",
              "75%          0.000000       0.998452  \n",
              "max        686.000000       0.999997  "
            ],
            "text/html": [
              "\n",
              "  <div id=\"df-71e25e06-5c52-4ee1-9b34-26fcbb1f4a84\">\n",
              "    <div class=\"colab-df-container\">\n",
              "      <div>\n",
              "<style scoped>\n",
              "    .dataframe tbody tr th:only-of-type {\n",
              "        vertical-align: middle;\n",
              "    }\n",
              "\n",
              "    .dataframe tbody tr th {\n",
              "        vertical-align: top;\n",
              "    }\n",
              "\n",
              "    .dataframe thead th {\n",
              "        text-align: right;\n",
              "    }\n",
              "</style>\n",
              "<table border=\"1\" class=\"dataframe\">\n",
              "  <thead>\n",
              "    <tr style=\"text-align: right;\">\n",
              "      <th></th>\n",
              "      <th>tweet_id</th>\n",
              "      <th>has_pepsi</th>\n",
              "      <th>has_coke</th>\n",
              "      <th>has_lays</th>\n",
              "      <th>tweet_likes</th>\n",
              "      <th>tweet_retweets</th>\n",
              "      <th>numeric_score</th>\n",
              "    </tr>\n",
              "  </thead>\n",
              "  <tbody>\n",
              "    <tr>\n",
              "      <th>count</th>\n",
              "      <td>1.831000e+03</td>\n",
              "      <td>1831.000000</td>\n",
              "      <td>1831.000000</td>\n",
              "      <td>1831.000000</td>\n",
              "      <td>1831.000000</td>\n",
              "      <td>1831.000000</td>\n",
              "      <td>1831.000000</td>\n",
              "    </tr>\n",
              "    <tr>\n",
              "      <th>mean</th>\n",
              "      <td>1.520463e+18</td>\n",
              "      <td>0.582742</td>\n",
              "      <td>0.043146</td>\n",
              "      <td>0.305844</td>\n",
              "      <td>13.593119</td>\n",
              "      <td>2.544511</td>\n",
              "      <td>0.910915</td>\n",
              "    </tr>\n",
              "    <tr>\n",
              "      <th>std</th>\n",
              "      <td>3.282613e+16</td>\n",
              "      <td>0.493241</td>\n",
              "      <td>0.203241</td>\n",
              "      <td>0.460890</td>\n",
              "      <td>207.554891</td>\n",
              "      <td>25.735839</td>\n",
              "      <td>0.132099</td>\n",
              "    </tr>\n",
              "    <tr>\n",
              "      <th>min</th>\n",
              "      <td>1.477072e+18</td>\n",
              "      <td>0.000000</td>\n",
              "      <td>0.000000</td>\n",
              "      <td>0.000000</td>\n",
              "      <td>0.000000</td>\n",
              "      <td>0.000000</td>\n",
              "      <td>0.500985</td>\n",
              "    </tr>\n",
              "    <tr>\n",
              "      <th>25%</th>\n",
              "      <td>1.489033e+18</td>\n",
              "      <td>0.000000</td>\n",
              "      <td>0.000000</td>\n",
              "      <td>0.000000</td>\n",
              "      <td>0.000000</td>\n",
              "      <td>0.000000</td>\n",
              "      <td>0.871616</td>\n",
              "    </tr>\n",
              "    <tr>\n",
              "      <th>50%</th>\n",
              "      <td>1.515666e+18</td>\n",
              "      <td>1.000000</td>\n",
              "      <td>0.000000</td>\n",
              "      <td>0.000000</td>\n",
              "      <td>0.000000</td>\n",
              "      <td>0.000000</td>\n",
              "      <td>0.982757</td>\n",
              "    </tr>\n",
              "    <tr>\n",
              "      <th>75%</th>\n",
              "      <td>1.546458e+18</td>\n",
              "      <td>1.000000</td>\n",
              "      <td>0.000000</td>\n",
              "      <td>1.000000</td>\n",
              "      <td>2.000000</td>\n",
              "      <td>0.000000</td>\n",
              "      <td>0.998452</td>\n",
              "    </tr>\n",
              "    <tr>\n",
              "      <th>max</th>\n",
              "      <td>1.587206e+18</td>\n",
              "      <td>1.000000</td>\n",
              "      <td>1.000000</td>\n",
              "      <td>1.000000</td>\n",
              "      <td>8036.000000</td>\n",
              "      <td>686.000000</td>\n",
              "      <td>0.999997</td>\n",
              "    </tr>\n",
              "  </tbody>\n",
              "</table>\n",
              "</div>\n",
              "      <button class=\"colab-df-convert\" onclick=\"convertToInteractive('df-71e25e06-5c52-4ee1-9b34-26fcbb1f4a84')\"\n",
              "              title=\"Convert this dataframe to an interactive table.\"\n",
              "              style=\"display:none;\">\n",
              "        \n",
              "  <svg xmlns=\"http://www.w3.org/2000/svg\" height=\"24px\"viewBox=\"0 0 24 24\"\n",
              "       width=\"24px\">\n",
              "    <path d=\"M0 0h24v24H0V0z\" fill=\"none\"/>\n",
              "    <path d=\"M18.56 5.44l.94 2.06.94-2.06 2.06-.94-2.06-.94-.94-2.06-.94 2.06-2.06.94zm-11 1L8.5 8.5l.94-2.06 2.06-.94-2.06-.94L8.5 2.5l-.94 2.06-2.06.94zm10 10l.94 2.06.94-2.06 2.06-.94-2.06-.94-.94-2.06-.94 2.06-2.06.94z\"/><path d=\"M17.41 7.96l-1.37-1.37c-.4-.4-.92-.59-1.43-.59-.52 0-1.04.2-1.43.59L10.3 9.45l-7.72 7.72c-.78.78-.78 2.05 0 2.83L4 21.41c.39.39.9.59 1.41.59.51 0 1.02-.2 1.41-.59l7.78-7.78 2.81-2.81c.8-.78.8-2.07 0-2.86zM5.41 20L4 18.59l7.72-7.72 1.47 1.35L5.41 20z\"/>\n",
              "  </svg>\n",
              "      </button>\n",
              "      \n",
              "  <style>\n",
              "    .colab-df-container {\n",
              "      display:flex;\n",
              "      flex-wrap:wrap;\n",
              "      gap: 12px;\n",
              "    }\n",
              "\n",
              "    .colab-df-convert {\n",
              "      background-color: #E8F0FE;\n",
              "      border: none;\n",
              "      border-radius: 50%;\n",
              "      cursor: pointer;\n",
              "      display: none;\n",
              "      fill: #1967D2;\n",
              "      height: 32px;\n",
              "      padding: 0 0 0 0;\n",
              "      width: 32px;\n",
              "    }\n",
              "\n",
              "    .colab-df-convert:hover {\n",
              "      background-color: #E2EBFA;\n",
              "      box-shadow: 0px 1px 2px rgba(60, 64, 67, 0.3), 0px 1px 3px 1px rgba(60, 64, 67, 0.15);\n",
              "      fill: #174EA6;\n",
              "    }\n",
              "\n",
              "    [theme=dark] .colab-df-convert {\n",
              "      background-color: #3B4455;\n",
              "      fill: #D2E3FC;\n",
              "    }\n",
              "\n",
              "    [theme=dark] .colab-df-convert:hover {\n",
              "      background-color: #434B5C;\n",
              "      box-shadow: 0px 1px 3px 1px rgba(0, 0, 0, 0.15);\n",
              "      filter: drop-shadow(0px 1px 2px rgba(0, 0, 0, 0.3));\n",
              "      fill: #FFFFFF;\n",
              "    }\n",
              "  </style>\n",
              "\n",
              "      <script>\n",
              "        const buttonEl =\n",
              "          document.querySelector('#df-71e25e06-5c52-4ee1-9b34-26fcbb1f4a84 button.colab-df-convert');\n",
              "        buttonEl.style.display =\n",
              "          google.colab.kernel.accessAllowed ? 'block' : 'none';\n",
              "\n",
              "        async function convertToInteractive(key) {\n",
              "          const element = document.querySelector('#df-71e25e06-5c52-4ee1-9b34-26fcbb1f4a84');\n",
              "          const dataTable =\n",
              "            await google.colab.kernel.invokeFunction('convertToInteractive',\n",
              "                                                     [key], {});\n",
              "          if (!dataTable) return;\n",
              "\n",
              "          const docLinkHtml = 'Like what you see? Visit the ' +\n",
              "            '<a target=\"_blank\" href=https://colab.research.google.com/notebooks/data_table.ipynb>data table notebook</a>'\n",
              "            + ' to learn more about interactive tables.';\n",
              "          element.innerHTML = '';\n",
              "          dataTable['output_type'] = 'display_data';\n",
              "          await google.colab.output.renderOutput(dataTable, element);\n",
              "          const docLink = document.createElement('div');\n",
              "          docLink.innerHTML = docLinkHtml;\n",
              "          element.appendChild(docLink);\n",
              "        }\n",
              "      </script>\n",
              "    </div>\n",
              "  </div>\n",
              "  "
            ]
          },
          "metadata": {},
          "execution_count": 10
        }
      ],
      "source": [
        "df.describe()"
      ]
    },
    {
      "cell_type": "code",
      "source": [
        "#replace missing location/country code with unk that stands for unknown\n",
        "df.tweet_location = df.tweet_location.fillna('unk')"
      ],
      "metadata": {
        "id": "h_l-P4E45zI6"
      },
      "execution_count": null,
      "outputs": []
    },
    {
      "cell_type": "code",
      "execution_count": null,
      "metadata": {
        "id": "R6HJQrM7_Et-"
      },
      "outputs": [],
      "source": [
        "# df['label'].replace(0,'NEGATIVE', True)\n",
        "# df['label'].replace(1,'POSITIVE', True)\n",
        "\n",
        "# df = df.drop(['tweet_id','tweet_location'], axis=1)\n",
        "# headers = df.iloc[0]\n",
        "# df = df[df[\"tweet_id\"].str.contains(\"tweet_id\") == False]\n",
        "# df = df.drop(['tweet_id'], axis=1)"
      ]
    },
    {
      "cell_type": "markdown",
      "source": [
        "The tweets data that I could gather from twitter for hashtag analysis contains around 2000 tweets from different countries.\n",
        "Below swarm plot depicts the distribution of data across\n",
        "known and unknown (unk) places."
      ],
      "metadata": {
        "id": "-BSvOVanMa63"
      }
    },
    {
      "cell_type": "code",
      "source": [
        "sns.catplot(data=df, x=\"tweet_location\", y=\"tweet_id\",kind=\"swarm\")"
      ],
      "metadata": {
        "colab": {
          "base_uri": "https://localhost:8080/",
          "height": 441
        },
        "id": "VyVJayWd4vYx",
        "outputId": "bb4226bb-ae4f-44d3-fa75-cc0c007d86cc"
      },
      "execution_count": null,
      "outputs": [
        {
          "output_type": "stream",
          "name": "stderr",
          "text": [
            "/usr/local/lib/python3.7/dist-packages/seaborn/categorical.py:1296: UserWarning: 84.6% of the points cannot be placed; you may want to decrease the size of the markers or use stripplot.\n",
            "  warnings.warn(msg, UserWarning)\n"
          ]
        },
        {
          "output_type": "execute_result",
          "data": {
            "text/plain": [
              "<seaborn.axisgrid.FacetGrid at 0x7f3130a1d710>"
            ]
          },
          "metadata": {},
          "execution_count": 5
        },
        {
          "output_type": "display_data",
          "data": {
            "text/plain": [
              "<Figure size 360x360 with 1 Axes>"
            ],
            "image/png": "[encoded data removed]"
          },
          "metadata": {
            "needs_background": "light"
          }
        }
      ]
    },
    {
      "cell_type": "markdown",
      "source": [
        "The following graph shows distribution of positive and negative sentiments and which kind of information is getting more likes. This is evident from the graph below tweets with negative sentiments are getting more likes/attention."
      ],
      "metadata": {
        "id": "FoG_M-qaCJTY"
      }
    },
    {
      "cell_type": "code",
      "execution_count": null,
      "metadata": {
        "colab": {
          "base_uri": "https://localhost:8080/",
          "height": 295
        },
        "id": "m0vUv0rvHvXY",
        "outputId": "e9f5baa6-e97c-4e4f-cea2-bcda569b3b66"
      },
      "outputs": [
        {
          "output_type": "display_data",
          "data": {
            "text/plain": [
              "<Figure size 432x288 with 1 Axes>"
            ],
            "image/png": "[encoded data removed]"
          },
          "metadata": {
            "needs_background": "light"
          }
        }
      ],
      "source": [
        "plt.bar(df['label'], df['tweet_likes'])\n",
        "plt.title('Tweet sentiments and user likes')\n",
        "plt.xlabel('Positive-Negative Sentiment')\n",
        "plt.ylabel('Tweet Likes')\n",
        "plt.show()"
      ]
    },
    {
      "cell_type": "markdown",
      "source": [
        "The following graph shows distribution of positive and negative sentiments and which kind of information is getting more retweets. This is evident from the graph below tweets with negative sentiments spread faster than positive ones."
      ],
      "metadata": {
        "id": "yqTVNkeOC5Hw"
      }
    },
    {
      "cell_type": "code",
      "source": [
        "plt.bar(df['label'], df['tweet_retweets'])\n",
        "plt.title('Tweet sentiments and retweets')\n",
        "plt.xlabel('Positive-Negative Sentiment')\n",
        "plt.ylabel('Tweet Retweets')\n",
        "plt.show()"
      ],
      "metadata": {
        "colab": {
          "base_uri": "https://localhost:8080/",
          "height": 295
        },
        "id": "x3PR4HoQCZQR",
        "outputId": "1db16bd8-bc65-422b-a576-2c2d75512ce3"
      },
      "execution_count": null,
      "outputs": [
        {
          "output_type": "display_data",
          "data": {
            "text/plain": [
              "<Figure size 432x288 with 1 Axes>"
            ],
            "image/png": "[encoded data removed]"
          },
          "metadata": {
            "needs_background": "light"
          }
        }
      ]
    },
    {
      "cell_type": "markdown",
      "source": [
        "An overview of total number of positive and negative tweets the dataset have. It can be seen the data is rather balanced in terms\n",
        "of positive and  negative tweets about the hashtags #pepsi #coke #lays."
      ],
      "metadata": {
        "id": "wUCqzIq4m4Ki"
      }
    },
    {
      "cell_type": "code",
      "execution_count": null,
      "metadata": {
        "colab": {
          "base_uri": "https://localhost:8080/",
          "height": 404
        },
        "id": "fTn5uxZerAi4",
        "outputId": "b2f62e5f-3d6d-4e55-dfe2-1ce025e94e74"
      },
      "outputs": [
        {
          "output_type": "display_data",
          "data": {
            "text/plain": [
              "<Figure size 432x432 with 1 Axes>"
            ],
            "image/png": "[encoded data removed]"
          },
          "metadata": {
            "needs_background": "light"
          }
        }
      ],
      "source": [
        "plt.figure(figsize=(6,6))\n",
        "ax=sns.countplot(x='label',data=df, palette='rainbow')\n",
        "ax.set(xlabel='Sentiment', ylabel='Tweets Counts')\n",
        "plt.title(\"Count of positive-negative tweets\")\n",
        "plt.show()"
      ]
    },
    {
      "cell_type": "markdown",
      "source": [
        "The following graph shows how many tweets do we have that contains #pepsi or pepsi as a word in tweet text. The search was\n",
        "broadend to cater for whole tweet text and to increase the sample size. Because Twitter API does not guarntee to return only those tweets that contains #pepsi but we also get tweets that contains the pepsi as a word inside text."
      ],
      "metadata": {
        "id": "XcQXbeJin_X9"
      }
    },
    {
      "cell_type": "code",
      "execution_count": null,
      "metadata": {
        "colab": {
          "base_uri": "https://localhost:8080/",
          "height": 350
        },
        "id": "YnTVru-1rlXT",
        "outputId": "023c0d13-ce76-411c-9485-1119db6ea30a"
      },
      "outputs": [
        {
          "output_type": "display_data",
          "data": {
            "text/plain": [
              "<Figure size 432x360 with 1 Axes>"
            ],
            "image/png": "[encoded data removed]"
          },
          "metadata": {
            "needs_background": "light"
          }
        }
      ],
      "source": [
        "plt.figure(figsize=(6,5))\n",
        "# sns.histplot(data=penguins, x=\"flipper_length_mm\")\n",
        "chart = sns.countplot(x='has_pepsi',data=df, palette='rainbow')\n",
        "chart.set(xlabel='Tweets with and without #Pepsi', ylabel='Tweet Count with #pepsi')\n",
        "plt.title(\"Count of tweets with pepsi as a hashtag\")\n",
        "plt.show()"
      ]
    },
    {
      "cell_type": "markdown",
      "source": [
        "Althought we queried for all hashtags but the data for hashtags #coke and #cocacola could not be gathered in sufficient quantity.\n",
        "This might pose a biased on the analysis. but we are continuing with the analysis and this aspect can be considered on a later stage."
      ],
      "metadata": {
        "id": "nLDpkvebqV3e"
      }
    },
    {
      "cell_type": "code",
      "execution_count": null,
      "metadata": {
        "colab": {
          "base_uri": "https://localhost:8080/",
          "height": 350
        },
        "id": "yOEw49QIvybG",
        "outputId": "78a82133-1326-41b2-d93d-8a8a51062bd0"
      },
      "outputs": [
        {
          "output_type": "display_data",
          "data": {
            "text/plain": [
              "<Figure size 576x360 with 1 Axes>"
            ],
            "image/png": "[encoded data removed]"
          },
          "metadata": {
            "needs_background": "light"
          }
        }
      ],
      "source": [
        "plt.figure(figsize=(8,5))\n",
        "chart = sns.countplot(x='has_coke',data=df, palette='rainbow')\n",
        "chart.set(xlabel='Tweets with and without #coke', ylabel='Tweet Count')\n",
        "plt.title(\"Count of tweets with coke as a hashtag\")\n",
        "plt.show()"
      ]
    },
    {
      "cell_type": "markdown",
      "source": [
        "We have around 500 tweets that contains #lays"
      ],
      "metadata": {
        "id": "xVJiEt5jrA58"
      }
    },
    {
      "cell_type": "code",
      "source": [
        "plt.figure(figsize=(8,5))\n",
        "chart = sns.countplot(x='has_lays',data=df, palette='rainbow')\n",
        "chart.set(xlabel='Tweet has #lays', ylabel='Tweet Count')\n",
        "plt.title(\"Count of tweets with/without #lays\")\n",
        "plt.show()"
      ],
      "metadata": {
        "colab": {
          "base_uri": "https://localhost:8080/",
          "height": 350
        },
        "id": "cfL2LYieBtNn",
        "outputId": "9e178f7b-02e5-49dc-c6e1-9b7f63c1475b"
      },
      "execution_count": null,
      "outputs": [
        {
          "output_type": "display_data",
          "data": {
            "text/plain": [
              "<Figure size 576x360 with 1 Axes>"
            ],
            "image/png": "[encoded data removed]"
          },
          "metadata": {
            "needs_background": "light"
          }
        }
      ]
    },
    {
      "cell_type": "markdown",
      "source": [
        "Following distribution plot shows the distribution of retweets in relation to sentiment while highlighting the total volume of tweets per category."
      ],
      "metadata": {
        "id": "6EYqI-7ZOoF5"
      }
    },
    {
      "cell_type": "code",
      "execution_count": null,
      "metadata": {
        "colab": {
          "base_uri": "https://localhost:8080/",
          "height": 369
        },
        "id": "PzGt-RiDhpRA",
        "outputId": "f2e195d3-7358-4dcc-c5ba-953f76d5131f"
      },
      "outputs": [
        {
          "output_type": "display_data",
          "data": {
            "text/plain": [
              "<Figure size 445.625x360 with 1 Axes>"
            ],
            "image/png": "[encoded data removed]"
          },
          "metadata": {
            "needs_background": "light"
          }
        }
      ],
      "source": [
        "ax = sns.displot(df, x=\"tweet_retweets\", hue=\"label\", multiple=\"dodge\")\n",
        "ax.set(xlabel='Retweets', ylabel='Tweets Count')\n",
        "plt.show()"
      ]
    },
    {
      "cell_type": "markdown",
      "source": [
        "The following plot shows distribution of likes across tweets that\n",
        "has #pepsi or the word pepsi inside tweet text while taking sentiment of the tweet into consideration. It can be clearly seen\n",
        "that tweets that has a negative sentiment and are associated with pepsi they have higher possibility of being liked. That shows a serious problem with how users are perceiving pepsi's brand position based on the tweet content."
      ],
      "metadata": {
        "id": "7J7Sddm3PkAs"
      }
    },
    {
      "cell_type": "code",
      "source": [
        "ax=sns.catplot(data=df, x=\"label\", y=\"tweet_likes\", hue=\"has_pepsi\", kind=\"bar\")\n",
        "ax.set(xlabel='sentiment', ylabel='Tweets Likes')\n",
        "plt.show()"
      ],
      "metadata": {
        "colab": {
          "base_uri": "https://localhost:8080/",
          "height": 369
        },
        "id": "vNRtZ2DaBFG2",
        "outputId": "82aaf85d-c859-4e02-d999-e4ae64330165"
      },
      "execution_count": null,
      "outputs": [
        {
          "output_type": "display_data",
          "data": {
            "text/plain": [
              "<Figure size 417.5x360 with 1 Axes>"
            ],
            "image/png": "[encoded data removed]"
          },
          "metadata": {
            "needs_background": "light"
          }
        }
      ]
    },
    {
      "cell_type": "markdown",
      "source": [
        "Indicates volumn of tweets that contains #pepsi and #lays\n",
        "The following plot shows #pepsi and #lays in combination and it can be seen that we have around 300 tweets that contains both #pepsi and #lays hashtags."
      ],
      "metadata": {
        "id": "967ktRU6sttl"
      }
    },
    {
      "cell_type": "code",
      "execution_count": null,
      "metadata": {
        "colab": {
          "base_uri": "https://localhost:8080/",
          "height": 350
        },
        "id": "hjRiZw_CspvQ",
        "outputId": "971fb5af-2b86-4e64-981c-0c1e19ce4302"
      },
      "outputs": [
        {
          "output_type": "display_data",
          "data": {
            "text/plain": [
              "<Figure size 576x360 with 1 Axes>"
            ],
            "image/png": "[encoded data removed]"
          },
          "metadata": {
            "needs_background": "light"
          }
        }
      ],
      "source": [
        "plt.figure(figsize=(8,5))\n",
        "chart = sns.countplot(x='has_pepsi',data=df, palette='rainbow', hue='has_lays')\n",
        "chart.set(xlabel='Tweet has #pepsi', ylabel='Tweet Count')\n",
        "plt.title(\"Count of tweets with pepsi as a hashtag\")\n",
        "plt.show()"
      ]
    },
    {
      "cell_type": "markdown",
      "source": [
        "Indicates volumn of tweets that contains #coke and #lays\n",
        "The following plot shows #coke and #lays in combination and it can be seen that we have less than 100 tweets that contains both #coke and #lays hashtags."
      ],
      "metadata": {
        "id": "cxWZPXkrtpVB"
      }
    },
    {
      "cell_type": "code",
      "source": [
        "plt.figure(figsize=(8,5))\n",
        "chart = sns.countplot(x='has_coke',data=df, palette='rainbow', hue='has_lays')\n",
        "chart.set(xlabel='Tweet has #coke', ylabel='Tweet Count')\n",
        "plt.title(\"Count of tweets with coke as a hashtag\")\n",
        "plt.show()"
      ],
      "metadata": {
        "colab": {
          "base_uri": "https://localhost:8080/",
          "height": 350
        },
        "id": "zpCc1s47to2G",
        "outputId": "ec9dc8fa-69a0-4f0b-8523-41085cfa97c0"
      },
      "execution_count": null,
      "outputs": [
        {
          "output_type": "display_data",
          "data": {
            "text/plain": [
              "<Figure size 576x360 with 1 Axes>"
            ],
            "image/png": "[encoded data removed]"
          },
          "metadata": {
            "needs_background": "light"
          }
        }
      ]
    },
    {
      "cell_type": "markdown",
      "source": [
        "The following graph explains user behaviour of liking a tweet based on the #pepsi and #lays and the tweet's sentiment. It can be seen that tweets associated with #lays are generally taken positive and earn more likes as compared to #pepsi. Where as #pepsi has some sort of negative sentiment associated with them that affects the tweets likes when they appear together. This can be seen in fourth graph bottom right when both tags appear together the negative sentiment for #lays shows slight growth, positive sentiment is affected badly hence tweet likes went down.\n",
        "That shows a negative sign of combining these two brands for marketing and sales targets."
      ],
      "metadata": {
        "id": "iuqoDGIcuFVI"
      }
    },
    {
      "cell_type": "code",
      "execution_count": null,
      "metadata": {
        "colab": {
          "base_uri": "https://localhost:8080/",
          "height": 458
        },
        "id": "sJ_5ln7K0Y3A",
        "outputId": "3d1e4743-9bf2-4cde-b66e-bd79dd8aaf3e"
      },
      "outputs": [
        {
          "output_type": "execute_result",
          "data": {
            "text/plain": [
              "<seaborn.axisgrid.FacetGrid at 0x7f3f8a60fc10>"
            ]
          },
          "metadata": {},
          "execution_count": 65
        },
        {
          "output_type": "display_data",
          "data": {
            "text/plain": [
              "<Figure size 432x432 with 4 Axes>"
            ],
            "image/png": "[encoded data removed]"
          },
          "metadata": {
            "needs_background": "light"
          }
        }
      ],
      "source": [
        "g = sns.FacetGrid(df, row=\"has_pepsi\", col=\"has_lays\", margin_titles=True)\n",
        "g.map(sns.barplot, \"label\", \"tweet_likes\", order=[\"POSITIVE\", \"NEGATIVE\"]).set_axis_labels('sentiment','tweet likes')"
      ]
    },
    {
      "cell_type": "markdown",
      "source": [
        "The following graph explains user behaviour of liking a tweet based on the #coke and #lays and the tweet's sentiment. It can be seen that tweets associated with #lays are generally taken positive and earn more likes as compared to #coke. Whereas #coke also has slightly negative sentiment associated with it. However when both #coke and #lays are combined they perform really better in terms of sentiment we can see a decrease in negative sentiment for #lays and an increase in #coke. That makes them a potential duo that can perform better when placed together in terms of marketing and sales."
      ],
      "metadata": {
        "id": "a6poKKqrwRp3"
      }
    },
    {
      "cell_type": "code",
      "execution_count": null,
      "metadata": {
        "colab": {
          "base_uri": "https://localhost:8080/",
          "height": 458
        },
        "id": "v9xTA-6o7ALY",
        "outputId": "3c8eca40-ed19-4bbb-dd7d-745522dbb5a1"
      },
      "outputs": [
        {
          "output_type": "execute_result",
          "data": {
            "text/plain": [
              "<seaborn.axisgrid.FacetGrid at 0x7f3f8a4739d0>"
            ]
          },
          "metadata": {},
          "execution_count": 66
        },
        {
          "output_type": "display_data",
          "data": {
            "text/plain": [
              "<Figure size 432x432 with 4 Axes>"
            ],
            "image/png": "[encoded data removed]"
          },
          "metadata": {
            "needs_background": "light"
          }
        }
      ],
      "source": [
        "g = sns.FacetGrid(df, row=\"has_coke\", col=\"has_lays\", margin_titles=True)\n",
        "g.map(sns.barplot, \"label\", \"tweet_likes\", order=[\"POSITIVE\", \"NEGATIVE\"]).set_axis_labels('sentiment','tweet likes')"
      ]
    },
    {
      "cell_type": "markdown",
      "source": [
        "The following graph explains user behaviour of retweeting a tweet based on the #coke and #lays and the tweet's sentiment. It can be seen that tweets associated with #lays are generally taken positive and earn more retweets as compared to #coke. Where as #coke has slight negative sentiment associated with them that affects the tweet chances of getting retweeted when they appear together. This can be seen in fourth graph bottom right when both tags appear together the negative sentiment of the tweet increases and the spread of tweets with negative sentiment also increases that affects the brand reputation. Hence combining these two tags show a negative relation and does not support in marketing and sales targets."
      ],
      "metadata": {
        "id": "HgStDs7XkS-9"
      }
    },
    {
      "cell_type": "code",
      "execution_count": null,
      "metadata": {
        "colab": {
          "base_uri": "https://localhost:8080/",
          "height": 458
        },
        "id": "jix7JWUB7LYt",
        "outputId": "248f0d90-2919-4449-ef85-f7af2d0c2721"
      },
      "outputs": [
        {
          "output_type": "execute_result",
          "data": {
            "text/plain": [
              "<seaborn.axisgrid.FacetGrid at 0x7f3f8a395a50>"
            ]
          },
          "metadata": {},
          "execution_count": 67
        },
        {
          "output_type": "display_data",
          "data": {
            "text/plain": [
              "<Figure size 432x432 with 4 Axes>"
            ],
            "image/png": "[encoded data removed]"
          },
          "metadata": {
            "needs_background": "light"
          }
        }
      ],
      "source": [
        "g = sns.FacetGrid(df, row=\"has_pepsi\", col=\"has_lays\", margin_titles=True)\n",
        "g.map(sns.barplot, \"label\", \"tweet_retweets\", order=[\"POSITIVE\", \"NEGATIVE\"]).set_axis_labels('sentiment','Retweets')"
      ]
    },
    {
      "cell_type": "markdown",
      "source": [
        "The following graph explains user behaviour of retweeting a tweet based on the #coke or #cocacola and #lays and the tweet's sentiment. It can be seen that tweets associated with #lays are generally taken positive and earns more retweets.\n",
        "\n",
        "And when they both are combined together the graph shows growth in positive sentiment of tweets that leads to more spread of the information that is more retweets. We can infer based on available dataset that combining #coke and #lays can reach more audience and positively support marketing and sales goals."
      ],
      "metadata": {
        "id": "j2AKHI5z_-QS"
      }
    },
    {
      "cell_type": "code",
      "source": [
        "g = sns.FacetGrid(df, row=\"has_coke\", col=\"has_lays\", margin_titles=True)\n",
        "g.map(sns.barplot, \"label\", \"tweet_retweets\", order=[\"POSITIVE\", \"NEGATIVE\"]).set_axis_labels('sentiment','Retweets')"
      ],
      "metadata": {
        "colab": {
          "base_uri": "https://localhost:8080/",
          "height": 458
        },
        "id": "DvUHc2xAxyoK",
        "outputId": "b08e8ae9-c61a-4226-eaf0-88269184ba93"
      },
      "execution_count": null,
      "outputs": [
        {
          "output_type": "execute_result",
          "data": {
            "text/plain": [
              "<seaborn.axisgrid.FacetGrid at 0x7f31132b3410>"
            ]
          },
          "metadata": {},
          "execution_count": 19
        },
        {
          "output_type": "display_data",
          "data": {
            "text/plain": [
              "<Figure size 432x432 with 4 Axes>"
            ],
            "image/png": "[encoded data removed]"
          },
          "metadata": {
            "needs_background": "light"
          }
        }
      ]
    },
    {
      "cell_type": "code",
      "execution_count": null,
      "metadata": {
        "id": "U45hrThoIhSm"
      },
      "outputs": [],
      "source": [
        "# Show distribution of tweets over positive and negative sentiments\n",
        "\n",
        "#show individual hash tag graphs\n",
        "\n",
        "#show lays - pepsi pair graph with likes or re-tweets and all other combinations"
      ]
    }
  ],
  "metadata": {
    "colab": {
      "provenance": []
    },
    "kernelspec": {
      "display_name": "Python 3",
      "name": "python3"
    },
    "language_info": {
      "name": "python"
    }
  },
  "nbformat": 4,
  "nbformat_minor": 0
}